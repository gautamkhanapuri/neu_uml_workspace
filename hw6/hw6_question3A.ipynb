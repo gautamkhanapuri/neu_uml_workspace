{
 "cells": [
  {
   "cell_type": "code",
   "execution_count": 1,
   "id": "292181bf",
   "metadata": {},
   "outputs": [
    {
     "name": "stdout",
     "output_type": "stream",
     "text": [
      "Collecting igraph\n",
      "  Downloading igraph-0.11.8-cp39-abi3-macosx_11_0_arm64.whl.metadata (3.8 kB)\n",
      "Collecting texttable>=1.6.2 (from igraph)\n",
      "  Downloading texttable-1.7.0-py2.py3-none-any.whl.metadata (9.8 kB)\n",
      "Downloading igraph-0.11.8-cp39-abi3-macosx_11_0_arm64.whl (1.8 MB)\n",
      "\u001b[2K   \u001b[90m━━━━━━━━━━━━━━━━━━━━━━━━━━━━━━━━━━━━━━━━\u001b[0m \u001b[32m1.8/1.8 MB\u001b[0m \u001b[31m1.2 MB/s\u001b[0m eta \u001b[36m0:00:00\u001b[0ma \u001b[36m0:00:01\u001b[0m0m\n",
      "\u001b[?25hDownloading texttable-1.7.0-py2.py3-none-any.whl (10 kB)\n",
      "Installing collected packages: texttable, igraph\n",
      "Successfully installed igraph-0.11.8 texttable-1.7.0\n",
      "\n",
      "\u001b[1m[\u001b[0m\u001b[34;49mnotice\u001b[0m\u001b[1;39;49m]\u001b[0m\u001b[39;49m A new release of pip is available: \u001b[0m\u001b[31;49m24.3.1\u001b[0m\u001b[39;49m -> \u001b[0m\u001b[32;49m25.0.1\u001b[0m\n",
      "\u001b[1m[\u001b[0m\u001b[34;49mnotice\u001b[0m\u001b[1;39;49m]\u001b[0m\u001b[39;49m To update, run: \u001b[0m\u001b[32;49mpip install --upgrade pip\u001b[0m\n",
      "Note: you may need to restart the kernel to use updated packages.\n"
     ]
    }
   ],
   "source": [
    "%pip install igraph"
   ]
  },
  {
   "cell_type": "code",
   "execution_count": 1,
   "id": "9739f72a",
   "metadata": {},
   "outputs": [
    {
     "data": {
      "text/plain": [
       "True"
      ]
     },
     "execution_count": 1,
     "metadata": {},
     "output_type": "execute_result"
    }
   ],
   "source": [
    "import igraph as ig\n",
    "import pandas as pd\n",
    "import matplotlib.pyplot as plt\n",
    "import networkx as nx\n",
    "from networkx.algorithms.community import girvan_newman\n",
    "from itertools import islice\n",
    "from dotenv import load_dotenv\n",
    "import os\n",
    "\n",
    "\n",
    "load_dotenv()"
   ]
  },
  {
   "cell_type": "code",
   "execution_count": 3,
   "id": "bbe7fdf9",
   "metadata": {},
   "outputs": [],
   "source": [
    "flickr_dataset_path = os.environ.get(\"FLICKR_DATASET\")\n",
    "edges_df = pd.read_csv(flickr_dataset_path + \"edges_sampled_15K.csv\", header=None, names=[\"source\", \"target\"])\n",
    "\n",
    "my_graph = nx.Graph()\n",
    "my_graph.add_edges_from(edges_df.values)"
   ]
  },
  {
   "cell_type": "code",
   "execution_count": null,
   "id": "98bd9c5a",
   "metadata": {},
   "outputs": [],
   "source": [
    "def girvan_newman_algo(graph, num_communities=5):\n",
    "    comp = girvan_newman(graph)\n",
    "    limited = next(islice(comp, num_communities - 1, None))\n",
    "    return [list(c) for c in limited]\n",
    "\n",
    "\n",
    "communities = girvan_newman_algo(my_graph, num_communities=5)"
   ]
  },
  {
   "cell_type": "code",
   "execution_count": null,
   "id": "a6adb139",
   "metadata": {},
   "outputs": [],
   "source": [
    "def visualize_communities(gr, comm):\n",
    "    color_map = {}\n",
    "    for i, community in enumerate(comm):\n",
    "        for node in comm:\n",
    "            color_map[node] = i\n",
    "    node_colors = [color_map.get(node, 0) for node in gr.nodes()]\n",
    "\n",
    "    position = nx.spring_layout(gr, seed=97)\n",
    "    plt.figure(figsize=(10, 8))\n",
    "    nx.draw_networkx_nodes(gr, position, node_color=node_colors, cmap=plt.cm.tab10, node_size=50)\n",
    "    nx.draw_networkx_edges(gr, position, alpha=0.5)\n",
    "    plt.title(\"Detected communities with the Girvan Newman algorithm\")\n",
    "    plt.axis(\"off\")\n",
    "    plt.show()\n",
    "\n",
    "visualize_communities(my_graph, communities)"
   ]
  },
  {
   "cell_type": "code",
   "execution_count": null,
   "id": "aae279fb",
   "metadata": {},
   "outputs": [],
   "source": [
    "from sklearn.metrics import normalized_mutual_info_score, adjusted_rand_score"
   ]
  },
  {
   "cell_type": "code",
   "execution_count": null,
   "id": "1bd81810",
   "metadata": {},
   "outputs": [],
   "source": [
    "membership_df = pd.read_csv(flickr_dataset_path + \"community_membership_15K.csv\", header=None)\n",
    "membership_df.columns = [\"node\", \"community\"]"
   ]
  },
  {
   "cell_type": "code",
   "execution_count": null,
   "id": "95e7ac3c",
   "metadata": {},
   "outputs": [],
   "source": [
    "ground_truth = membership_df.set_index('node')['community'].to_dict()"
   ]
  },
  {
   "cell_type": "code",
   "execution_count": null,
   "id": "4af28714",
   "metadata": {},
   "outputs": [],
   "source": [
    "def convert_communities_to_labels(graph, communities):\n",
    "    node_to_comm = {}\n",
    "    for i, community in enumerate(communities):\n",
    "        for node in community:\n",
    "            node_to_comm[node] = i\n",
    "    valid_nodes = list(set(graph.nodes()).intersection(set(ground_truth.keys())))\n",
    "    detected_labels = [node_to_comm[n] for n in valid_nodes]\n",
    "    true_labels = [ground_truth[n] for n in valid_nodes]\n",
    "    return true_labels, detected_labels\n",
    "\n",
    "\n",
    "expected, actual = convert_communities_to_labels(my_graph, communities)"
   ]
  },
  {
   "cell_type": "code",
   "execution_count": null,
   "id": "30f8f0df",
   "metadata": {},
   "outputs": [],
   "source": [
    "nmi = normalized_mutual_info_score(expected, actual)\n",
    "ari = adjusted_rand_score(expected, actual)\n",
    "\n",
    "print(\"NMI \", nmi)\n",
    "print(\"ARI \", ari)"
   ]
  }
 ],
 "metadata": {
  "kernelspec": {
   "display_name": "chatbot_env",
   "language": "python",
   "name": "python3"
  },
  "language_info": {
   "codemirror_mode": {
    "name": "ipython",
    "version": 3
   },
   "file_extension": ".py",
   "mimetype": "text/x-python",
   "name": "python",
   "nbconvert_exporter": "python",
   "pygments_lexer": "ipython3",
   "version": "3.9.6"
  }
 },
 "nbformat": 4,
 "nbformat_minor": 5
}
