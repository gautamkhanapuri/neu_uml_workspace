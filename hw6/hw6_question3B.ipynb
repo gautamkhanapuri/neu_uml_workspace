{
 "cells": [
  {
   "cell_type": "code",
   "execution_count": null,
   "id": "f794e257",
   "metadata": {},
   "outputs": [],
   "source": [
    "import numpy as np\n",
    "from scipy.sparse import csr_matrix\n",
    "from scipy.sparse.linalg import eigsh\n",
    "import matplotlib.pyplot as plt\n",
    "import os\n",
    "from dotenv import load_dotenv\n",
    "\n",
    "\n",
    "load_dotenv()"
   ]
  },
  {
   "cell_type": "code",
   "execution_count": null,
   "id": "bcf19e62",
   "metadata": {},
   "outputs": [],
   "source": [
    "from igraph import compare_communities\n",
    "\n",
    "\n",
    "def load_sparse_adjacency_matrix(filepath):\n",
    "    data = np.genfromtxt(os.environ.get(\"HW6_3B_DATSET\") + \"sparse_adj.txt\", delimiter=\",\", dtype=int)\n",
    "    nodes = np.unique(data[:, :2])\n",
    "    node_to_idx = {node: idx for idx, node in enumerate(nodes)}\n",
    "    size = len(nodes)\n",
    "\n",
    "    A = np.zeros((size, size))\n",
    "    for u, v, w in data:\n",
    "        i, j = node_to_idx[u], node_to_idx[v]\n",
    "        A[i, j] = w\n",
    "        A[j, i] = w\n",
    "    return A, node_to_idx\n",
    "\n",
    "\n",
    "def compute_modularity_matrix(mat):\n",
    "    k = np.sum(mat, axis=1)\n",
    "    m = np.sum(k) / 2\n",
    "    B = mat - np.outer(k, k) / (2 * m)\n",
    "    return B, k, m\n",
    "\n",
    "\n",
    "def spectral_partitioning(B):\n",
    "    eigvals, eigvecs = np.linalg.eigh(B)\n",
    "    v1 = eigvecs[:, -1]\n",
    "    s = np.where(v1 >= 0, 1, -1)\n",
    "    return s\n",
    "\n",
    "\n",
    "def compute_modularity(A, s, k, m):\n",
    "    s = s.reshape(-1, 1)\n",
    "    Q = (s.T @ (A - np.outerk(k, k) / (2 * m)) @s) / (4 * m)\n",
    "    return Q[0, 0]\n",
    "\n",
    "\n",
    "def modularity_split(filepath):\n",
    "    A, node_to_idx = load_sparse_adjacency_matrix(filepath=filepath)\n",
    "    B, k, m = compute_modularity_matrix(A)\n",
    "    s = spectral_partitioning(B)\n",
    "    Q = compute_modularity(A, s, k, m)\n",
    "\n",
    "    idx_to_node = {i: n for n, i in node_to_idx.items()}\n",
    "    community_1 = [idx_to_node[i] for i in range(len(s)) if s[i] == 1]\n",
    "    community_2 = [idx_to_node[i] for i in range(len(s)) if s[i] == -1]\n",
    "\n",
    "    return s, Q, community_1, community_2, A, node_to_idx"
   ]
  },
  {
   "cell_type": "code",
   "execution_count": null,
   "id": "0bb0ad27",
   "metadata": {},
   "outputs": [],
   "source": [
    "filepath = os.environ.get(\"HW6_3B_DATSET\") + \"sparse_adj.txt\"\n",
    "s, Q, com1, com2, A, node_to_idx = modularity_split(filepath)\n",
    "print(f\"Modularity Score: {Q:.4f}\")\n",
    "print(\"Community 1: \", com1)\n",
    "print(\"Community 2: \", com2)"
   ]
  }
 ],
 "metadata": {
  "kernelspec": {
   "display_name": "chatbot_env",
   "language": "python",
   "name": "python3"
  },
  "language_info": {
   "name": "python",
   "version": "3.9.6"
  }
 },
 "nbformat": 4,
 "nbformat_minor": 5
}
