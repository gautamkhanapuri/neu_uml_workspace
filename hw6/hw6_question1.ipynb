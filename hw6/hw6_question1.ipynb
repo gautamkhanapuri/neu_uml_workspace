{
 "cells": [
  {
   "cell_type": "markdown",
   "id": "fdee5596",
   "metadata": {},
   "source": [
    "## Implement a recommender system using collaborative filtering\n",
    "#### What is collaborative filtering?\n",
    "It is a method used in recommender systems that suggests items based on the preferences of similar users . It analyses user interaction data (eg. ratings or purchases) to identify groups of users with similar tastses and recommends items that those groups have enjoyed.\n",
    "\n",
    "#### How does it work?\n",
    "Data Collection\n",
    "Similarity calc - between users and users; between movies and movies\n",
    "recommendation\n",
    "\n",
    "Two types:\n",
    "1. user based\n",
    "2. item based.\n",
    "\n",
    "#### Objective \n",
    "To predict how a user would rate a movie they have not rated yet, using other similar users' ratings. The rating will be more affected by similar users and less by dissimilar users ratings. Thus the weighted sum.\n"
   ]
  },
  {
   "cell_type": "code",
   "execution_count": 1,
   "id": "812ba46f",
   "metadata": {},
   "outputs": [
    {
     "data": {
      "text/plain": [
       "True"
      ]
     },
     "execution_count": 1,
     "metadata": {},
     "output_type": "execute_result"
    }
   ],
   "source": [
    "from json import load\n",
    "import pandas as pd\n",
    "from dotenv import load_dotenv\n",
    "import os\n",
    "import numpy as np\n",
    "from sklearn.metrics.pairwise import cosine_similarity\n",
    "from tqdm import tqdm\n",
    "\n",
    "\n",
    "load_dotenv()"
   ]
  },
  {
   "cell_type": "code",
   "execution_count": 2,
   "id": "e173e44a",
   "metadata": {},
   "outputs": [
    {
     "name": "stdout",
     "output_type": "stream",
     "text": [
      "Training Data:\n",
      "   user_id  movie_id  rating  timestamp\n",
      "0        1         1       5  874965758\n",
      "1        1         2       3  876893171\n",
      "2        1         3       4  878542960\n",
      "3        1         4       3  876893119\n",
      "4        1         5       3  889751712\n",
      "\n",
      "Test Data:\n",
      "   user_id  movie_id  rating  timestamp\n",
      "0        1         6       5  887431973\n",
      "1        1        10       3  875693118\n",
      "2        1        12       5  878542960\n",
      "3        1        14       5  874965706\n",
      "4        1        17       3  875073198\n"
     ]
    }
   ],
   "source": [
    "dataset_path = os.environ.get(\"MOVIES_DATASET\")\n",
    "# Define column names (from the data format)\n",
    "columns = ['user_id', 'movie_id', 'rating', 'timestamp']\n",
    "\n",
    "# Load training data\n",
    "train_df = pd.read_csv(dataset_path + 'u1.base', sep='\\t', names=columns)\n",
    "\n",
    "# Load test data\n",
    "test_df = pd.read_csv(dataset_path + 'u1.test', sep='\\t', names=columns)\n",
    "\n",
    "# Display the first few rows\n",
    "print(\"Training Data:\")\n",
    "print(train_df.head())\n",
    "\n",
    "print(\"\\nTest Data:\")\n",
    "print(test_df.head())"
   ]
  },
  {
   "cell_type": "code",
   "execution_count": 3,
   "id": "226378b0",
   "metadata": {},
   "outputs": [
    {
     "name": "stdout",
     "output_type": "stream",
     "text": [
      "Rating Matrix Shape: (943, 1650)\n",
      "movie_id  1     2     3     4     5     6     7     8     9     10    ...  \\\n",
      "user_id                                                               ...   \n",
      "1          5.0   3.0   4.0   3.0   3.0   NaN   4.0   1.0   5.0   NaN  ...   \n",
      "2          4.0   NaN   NaN   NaN   NaN   NaN   NaN   NaN   NaN   2.0  ...   \n",
      "3          NaN   NaN   NaN   NaN   NaN   NaN   NaN   NaN   NaN   NaN  ...   \n",
      "4          NaN   NaN   NaN   NaN   NaN   NaN   NaN   NaN   NaN   NaN  ...   \n",
      "5          NaN   NaN   NaN   NaN   NaN   NaN   NaN   NaN   NaN   NaN  ...   \n",
      "\n",
      "movie_id  1673  1674  1675  1676  1677  1678  1679  1680  1681  1682  \n",
      "user_id                                                               \n",
      "1          NaN   NaN   NaN   NaN   NaN   NaN   NaN   NaN   NaN   NaN  \n",
      "2          NaN   NaN   NaN   NaN   NaN   NaN   NaN   NaN   NaN   NaN  \n",
      "3          NaN   NaN   NaN   NaN   NaN   NaN   NaN   NaN   NaN   NaN  \n",
      "4          NaN   NaN   NaN   NaN   NaN   NaN   NaN   NaN   NaN   NaN  \n",
      "5          NaN   NaN   NaN   NaN   NaN   NaN   NaN   NaN   NaN   NaN  \n",
      "\n",
      "[5 rows x 1650 columns]\n"
     ]
    }
   ],
   "source": [
    "# Create user-movie rating matrix (rows: users, columns: movies)\n",
    "rating_matrix = train_df.pivot_table(values='rating', index='user_id', columns='movie_id')\n",
    "\n",
    "# Check shape and sample\n",
    "print(\"Rating Matrix Shape:\", rating_matrix.shape)\n",
    "print(rating_matrix.head())"
   ]
  },
  {
   "cell_type": "code",
   "execution_count": 4,
   "id": "2080ca58",
   "metadata": {},
   "outputs": [],
   "source": [
    "# Create user-item matrix from train data\n",
    "rating_matrix = train_df.pivot_table(values='rating', index='user_id', columns='movie_id')\n"
   ]
  },
  {
   "cell_type": "code",
   "execution_count": 5,
   "id": "9a94a07f",
   "metadata": {},
   "outputs": [
    {
     "name": "stderr",
     "output_type": "stream",
     "text": [
      "100%|██████████| 943/943 [01:41<00:00,  9.27it/s]\n"
     ]
    }
   ],
   "source": [
    "# Users and matrix\n",
    "users = rating_matrix.index.tolist()\n",
    "num_users = len(users)\n",
    "\n",
    "# Initialize similarity DataFrame\n",
    "user_similarity_df = pd.DataFrame(np.zeros((num_users, num_users)), \n",
    "                                  index=users, columns=users)\n",
    "\n",
    "# Loop over all pairs (symmetric, so we optimize a bit)\n",
    "for i, u in enumerate(tqdm(users)):\n",
    "    for j in range(i, num_users):\n",
    "        v = users[j]\n",
    "        \n",
    "        # Get both users' rating vectors\n",
    "        ru = rating_matrix.loc[u]\n",
    "        rv = rating_matrix.loc[v]\n",
    "        \n",
    "        # Find common rated movies\n",
    "        common = ru.notna() & rv.notna()\n",
    "        \n",
    "        if common.sum() == 0:\n",
    "            sim = 0  # No common movies, similarity = 0\n",
    "        else:\n",
    "            ru_common = ru[common].values\n",
    "            rv_common = rv[common].values\n",
    "            # Compute cosine similarity\n",
    "            numerator = np.dot(ru_common, rv_common)\n",
    "            denominator = np.linalg.norm(ru_common) * np.linalg.norm(rv_common)\n",
    "            sim = numerator / denominator if denominator != 0 else 0\n",
    "            # Or we could have done:\n",
    "            # sim = cosine_similarity([ru_common], [rv_common])[0][0]\n",
    "\n",
    "        # Store both [u, v] and [v, u]\n",
    "        user_similarity_df.loc[u, v] = sim\n",
    "        user_similarity_df.loc[v, u] = sim"
   ]
  },
  {
   "cell_type": "code",
   "execution_count": 6,
   "id": "5cbbf224",
   "metadata": {},
   "outputs": [],
   "source": [
    "def predict_rating(user_id, movie_id, k=10):\n",
    "    if movie_id not in rating_matrix.columns:\n",
    "        return np.nan  # movie not in training set\n",
    "    \n",
    "    # Get similarities of current user with all other users\n",
    "    sim_scores = user_similarity_df.loc[user_id]\n",
    "    \n",
    "    # Get users who rated this movie\n",
    "    movie_ratings = rating_matrix[movie_id].dropna()\n",
    "    \n",
    "    # Only consider users who rated the movie\n",
    "    sim_scores = sim_scores.loc[movie_ratings.index]\n",
    "    \n",
    "    # If no one has rated the movie, fallback\n",
    "    if sim_scores.empty:\n",
    "        return np.nan\n",
    "    \n",
    "    # Select top-k similar users\n",
    "    top_k_users = sim_scores.abs().sort_values(ascending=False).head(k).index\n",
    "    \n",
    "    # Compute weighted average\n",
    "    numer = 0\n",
    "    denom = 0\n",
    "    for v in top_k_users:\n",
    "        sim = user_similarity_df.loc[user_id, v]\n",
    "        rating = rating_matrix.loc[v, movie_id]\n",
    "        numer += sim * rating\n",
    "        denom += abs(sim)\n",
    "    \n",
    "    if denom == 0:\n",
    "        return np.nan\n",
    "    return numer / denom"
   ]
  },
  {
   "cell_type": "code",
   "execution_count": 7,
   "id": "c905d4e8",
   "metadata": {},
   "outputs": [
    {
     "name": "stdout",
     "output_type": "stream",
     "text": [
      "RMSE (k=10): 1.0452\n"
     ]
    }
   ],
   "source": [
    "from sklearn.metrics import mean_squared_error\n",
    "\n",
    "k = 10  # Number of neighbors\n",
    "predictions = []\n",
    "actuals = []\n",
    "\n",
    "for _, row in test_df.iterrows():\n",
    "    user, movie, true_rating = row['user_id'], row['movie_id'], row['rating']\n",
    "    pred = predict_rating(user, movie, k)\n",
    "    \n",
    "    if not np.isnan(pred):\n",
    "        predictions.append(pred)\n",
    "        actuals.append(true_rating)\n",
    "\n",
    "# Calculate RMSE\n",
    "rmse = np.sqrt(mean_squared_error(actuals, predictions))\n",
    "print(f\"RMSE (k={k}): {rmse:.4f}\")"
   ]
  }
 ],
 "metadata": {
  "kernelspec": {
   "display_name": "chatbot_env",
   "language": "python",
   "name": "python3"
  },
  "language_info": {
   "name": "python",
   "version": "3.9.6"
  }
 },
 "nbformat": 4,
 "nbformat_minor": 5
}
