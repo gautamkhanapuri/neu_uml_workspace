{
 "cells": [
  {
   "cell_type": "code",
   "execution_count": null,
   "id": "9c6d8faf",
   "metadata": {},
   "outputs": [],
   "source": [
    "import ast\n",
    "import numpy as np\n",
    "from collections import defaultdict\n",
    "from gensim.models import Word2Vec\n",
    "from sklearn.metrics.pairwise import cosine_similarity\n",
    "from nltk.tokenize import word_tokenize\n",
    "from sklearn.metrics import f1_score\n",
    "import os\n",
    "from dotenv import load_dotenv\n",
    "\n",
    "\n",
    "load_dotenv()"
   ]
  },
  {
   "cell_type": "code",
   "execution_count": null,
   "id": "419733b9",
   "metadata": {},
   "outputs": [],
   "source": [
    "def load_knowledge_graph(filepath):\n",
    "    graph = defaultdict(list)\n",
    "    with open(filepath, 'r') as f:\n",
    "        for line in f:\n",
    "            src, rel, tgt = ast.literal_eval(line.strip())\n",
    "            graph[src].append((rel, tgt))\n",
    "    return graph\n",
    "\n",
    "\n",
    "def load_questions(filepath):\n",
    "    questions = []\n",
    "    with open(filepath, 'r') as f:\n",
    "        for line in f:\n",
    "            parsed = ast.literal_eval(line.strip())\n",
    "            qid, text, start, _, _, answers = parsed\n",
    "            answers = set([ans['AnswerArgument'] for ans in answers])\n",
    "            questions.append({'id': qid, 'text': text, 'start': start, 'answers': answers})\n",
    "    return questions\n",
    "\n",
    "\n",
    "def load_word2vec_model(path):\n",
    "    return Word2Vec.load(path) "
   ]
  },
  {
   "cell_type": "code",
   "execution_count": null,
   "id": "4cd5d21f",
   "metadata": {},
   "outputs": [],
   "source": [
    "def get_rel_score(rel, question, model):\n",
    "    rel = 'ns:' + rel if not rel.startswith('ns:') else rel\n",
    "    if rel not in model.wv:\n",
    "        return 0.0\n",
    "    q_tokens = word_tokenize(question.lower())\n",
    "    q_vecs = [model.wv[w] for w in q_tokens if w in model.wv]\n",
    "    if not q_vecs:\n",
    "        return 0.0\n",
    "    sim = cosine_similarity(np.mean(q_vecs, axis=0).reshape(1, -1), model.wv[rel].reshape(1, -1))\n",
    "    return sim[0][0]"
   ]
  },
  {
   "cell_type": "code",
   "execution_count": null,
   "id": "7b1fec19",
   "metadata": {},
   "outputs": [],
   "source": [
    "def answer_question(question, graph, model, threshold=0.3):\n",
    "    start = question['start']\n",
    "    q_text = question['text']\n",
    "    predictions = set()\n",
    "    if start not in graph:\n",
    "        return predictions\n",
    "\n",
    "    for rel, neighbor in graph[start]:\n",
    "        score = get_rel_score(rel, q_text, model)\n",
    "        if score > threshold:\n",
    "            predictions.add(neighbor)\n",
    "\n",
    "    return predictions\n",
    "\n",
    "\n",
    "def compute_f1(true_answers, predicted_answers):\n",
    "    if not predicted_answers:\n",
    "        return 0.0\n",
    "    y_true = [1 if a in true_answers else 0 for a in predicted_answers]\n",
    "    y_pred = [1] * len(predicted_answers)\n",
    "    return f1_score(y_true, y_pred)"
   ]
  },
  {
   "cell_type": "code",
   "execution_count": null,
   "id": "6f6e464c",
   "metadata": {},
   "outputs": [],
   "source": [
    "def run_qa_pipeline(kg_path, questions_path, w2v_path):\n",
    "    print(\"Loading data...\")\n",
    "    graph = load_knowledge_graph(kg_path)\n",
    "    questions = load_questions(questions_path)\n",
    "    model = load_word2vec_model(w2v_path)\n",
    "\n",
    "    all_f1 = []\n",
    "    for q in questions:\n",
    "        pred = answer_question(q, graph, model)\n",
    "        f1 = compute_f1(q['answers'], pred)\n",
    "        print(f\"Q{q['id']} | F1: {f1:.4f} | Predicted: {list(pred)} | Ground Truth: {list(q['answers'])}\")\n",
    "        all_f1.append(f1)\n",
    "\n",
    "    avg_f1 = np.mean(all_f1)\n",
    "    print(f\"\\n Average F1 Score across questions: {avg_f1:.4f}\")"
   ]
  },
  {
   "cell_type": "code",
   "execution_count": null,
   "id": "ccd1fcdd",
   "metadata": {},
   "outputs": [],
   "source": [
    "folder_path = os.environ.get(\"HW6_Q4_DATSET\")\n",
    "run_qa_pipeline(\n",
    "    kg_path=folder_path + 'knowledge_graph.txt',\n",
    "    questions_path=folder_path + 'questions.txt',\n",
    "    w2v_path=folder_path + 'word2vec_train_dev.dat.txt'  \n",
    ")"
   ]
  }
 ],
 "metadata": {
  "kernelspec": {
   "display_name": "chatbot_env",
   "language": "python",
   "name": "python3"
  },
  "language_info": {
   "name": "python",
   "version": "3.9.6"
  }
 },
 "nbformat": 4,
 "nbformat_minor": 5
}
