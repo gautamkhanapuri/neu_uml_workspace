{
 "cells": [
  {
   "cell_type": "code",
   "execution_count": 1,
   "id": "9c6d8faf",
   "metadata": {},
   "outputs": [
    {
     "data": {
      "text/plain": [
       "True"
      ]
     },
     "execution_count": 1,
     "metadata": {},
     "output_type": "execute_result"
    }
   ],
   "source": [
    "import ast\n",
    "import numpy as np\n",
    "from collections import defaultdict\n",
    "from gensim.models import Word2Vec\n",
    "from sklearn.metrics.pairwise import cosine_similarity\n",
    "from nltk.tokenize import word_tokenize\n",
    "from sklearn.metrics import f1_score\n",
    "import os\n",
    "from dotenv import load_dotenv\n",
    "\n",
    "\n",
    "load_dotenv()"
   ]
  },
  {
   "cell_type": "code",
   "execution_count": 2,
   "id": "419733b9",
   "metadata": {},
   "outputs": [],
   "source": [
    "def load_knowledge_graph(filepath):\n",
    "    graph = defaultdict(list)\n",
    "    with open(filepath, 'r') as f:\n",
    "        for line in f:\n",
    "            src, rel, tgt = ast.literal_eval(line.strip())\n",
    "            graph[src].append((rel, tgt))\n",
    "    return graph\n",
    "\n",
    "\n",
    "def load_questions(filepath):\n",
    "    questions = []\n",
    "    with open(filepath, 'r') as f:\n",
    "        for line in f:\n",
    "            parsed = ast.literal_eval(line.strip())\n",
    "            qid, text, start, _, _, answers = parsed\n",
    "            answers = set([ans['AnswerArgument'] for ans in answers])\n",
    "            questions.append({'id': qid, 'text': text, 'start': start, 'answers': answers})\n",
    "    return questions\n",
    "\n",
    "\n",
    "def load_word2vec_model(path):\n",
    "    return Word2Vec.load(path) "
   ]
  },
  {
   "cell_type": "code",
   "execution_count": 3,
   "id": "4cd5d21f",
   "metadata": {},
   "outputs": [],
   "source": [
    "def get_rel_score(rel, question, model):\n",
    "    rel = 'ns:' + rel if not rel.startswith('ns:') else rel\n",
    "    if rel not in model.wv:\n",
    "        return 0.0\n",
    "    q_tokens = word_tokenize(question.lower())\n",
    "    q_vecs = [model.wv[w] for w in q_tokens if w in model.wv]\n",
    "    if not q_vecs:\n",
    "        return 0.0\n",
    "    sim = cosine_similarity(np.mean(q_vecs, axis=0).reshape(1, -1), model.wv[rel].reshape(1, -1))\n",
    "    return sim[0][0]"
   ]
  },
  {
   "cell_type": "code",
   "execution_count": 4,
   "id": "7b1fec19",
   "metadata": {},
   "outputs": [],
   "source": [
    "def answer_question(question, graph, model, threshold=0.3):\n",
    "    start = question['start']\n",
    "    q_text = question['text']\n",
    "    predictions = set()\n",
    "    if start not in graph:\n",
    "        return predictions\n",
    "\n",
    "    for rel, neighbor in graph[start]:\n",
    "        score = get_rel_score(rel, q_text, model)\n",
    "        if score > threshold:\n",
    "            predictions.add(neighbor)\n",
    "\n",
    "    return predictions\n",
    "\n",
    "\n",
    "def compute_f1(true_answers, predicted_answers):\n",
    "    if not predicted_answers:\n",
    "        return 0.0\n",
    "    y_true = [1 if a in true_answers else 0 for a in predicted_answers]\n",
    "    y_pred = [1] * len(predicted_answers)\n",
    "    return f1_score(y_true, y_pred)"
   ]
  },
  {
   "cell_type": "code",
   "execution_count": 5,
   "id": "6f6e464c",
   "metadata": {},
   "outputs": [],
   "source": [
    "def run_qa_pipeline(kg_path, questions_path, w2v_path):\n",
    "    print(\"Loading data...\")\n",
    "    graph = load_knowledge_graph(kg_path)\n",
    "    questions = load_questions(questions_path)\n",
    "    model = load_word2vec_model(w2v_path)\n",
    "\n",
    "    all_f1 = []\n",
    "    for q in questions:\n",
    "        pred = answer_question(q, graph, model)\n",
    "        f1 = compute_f1(q['answers'], pred)\n",
    "        print(f\"Q{q['id']} | F1: {f1:.4f} | Predicted: {list(pred)} | Ground Truth: {list(q['answers'])}\")\n",
    "        all_f1.append(f1)\n",
    "\n",
    "    avg_f1 = np.mean(all_f1)\n",
    "    print(f\"\\n Average F1 Score across questions: {avg_f1:.4f}\")"
   ]
  },
  {
   "cell_type": "code",
   "execution_count": 7,
   "id": "ccd1fcdd",
   "metadata": {},
   "outputs": [
    {
     "name": "stdout",
     "output_type": "stream",
     "text": [
      "Loading data...\n",
      "Q1 | F1: 0.3333 | Predicted: ['m.0b28z', 'm.04g4s8k', 'm.02lctm', 'm.03v0t', 'm.0vzm', 'm.0mmyl', 'm.01_77x6', 'm.04g4s8q', 'm.03q1lvy', 'm.0bx8pn', 'm.042g7t', 'm.01l1jx', 'm.0j729', 'm.01d9r3', 'm.01_d4', 'm.03q1lvh', 'm.06yxd', 'm.02fqwt', 'm.03q1lw4', 'm.0gs227r', 'm.0fv_t', 'm.059g4', 'm.06_7k', 'm.01_6v6w', 'm.07b_l', 'm.027hqc_', 'm.0w7m2x9', 'm.02hcv8', 'm.027wjl3', 'm.02lcqs', 'm.03q1lwl', 'm.02hczc', 'm.02z431v', 'm.02lcrv', 'm.02jw0z', 'm.027wj2_', 'm.03q1lvq', 'm.04g4s90', 'm.09nqf', 'm.0_hhjkj', 'm.01ky66', 'm.09sh942', 'm.01_6pxw', 'm.04g4s8w', 'm.0c9rw5'] | Ground Truth: ['m.027wj2_', 'm.02hcv8', 'm.02lctm', 'm.027wjl3', 'm.02lcqs', 'm.02fqwt', 'm.02hczc', 'm.042g7t', 'm.02lcrv']\n",
      "Q2 | F1: 0.0000 | Predicted: ['m.0b28z', 'm.04g4s8k', 'm.02lctm', 'm.03v0t', 'm.0vzm', 'm.0mmyl', 'm.01_77x6', 'm.04g4s8q', 'm.03q1lvy', 'm.0bx8pn', 'm.042g7t', 'm.01l1jx', 'm.0j729', 'm.01d9r3', 'm.01_d4', 'm.03q1lvh', 'm.06yxd', 'm.02fqwt', 'm.03q1lw4', 'm.0gs227r', 'm.0fv_t', 'm.059g4', 'm.06_7k', 'm.01_6v6w', 'm.07b_l', 'm.027hqc_', 'm.0w7m2x9', 'm.02hcv8', 'm.027wjl3', 'm.02lcqs', 'm.03q1lwl', 'm.02hczc', 'm.02z431v', 'm.02lcrv', 'm.02jw0z', 'm.027wj2_', 'm.03q1lvq', 'm.04g4s90', 'm.09nqf', 'm.0_hhjkj', 'm.01ky66', 'm.09sh942', 'm.01_6pxw', 'm.04g4s8w', 'm.0c9rw5'] | Ground Truth: ['m.03q9wp2', 'm.03qtd_n', 'm.015smg', 'm.03qtf10']\n",
      "Q3 | F1: 0.6667 | Predicted: ['m.09c7w0', 'm.02fqwt', 'm.0vzm', 'm.02hczc'] | Ground Truth: ['m.02hczc', 'm.02fqwt']\n",
      "Q4 | F1: 0.3000 | Predicted: ['m.09hxlzp', 'm.064xssc', 'm.04yz499', 'm.04yvvkf', 'm.0jnh', 'm.04yxtkk', 'm.02p89zz', 'm.04h_fs5', 'm.04yv_tf', 'm.04fvgyq', 'm.04yykw2', 'm.09r3f', 'm.02fmsl', 'm.049yn2t', 'm.049xrhp', 'm.04yy5qr', 'm.04yv_x3'] | Ground Truth: ['m.02g1n3', 'm.08knpp', 'm.014s1b', 'm.06bjm', 'm.06kd6y', 'm.07h0q2', 'm.01g0dx', 'm.09r3f', 'm.0bxl0n', 'm.0h42fq', 'm.01jnys', 'm.062pq1', 'm.01g09p', 'm.0b364c', 'm.02fmsl', 'm.02pjz77', 'm.02fnwp', 'm.04m2k9', 'm.01bh42', 'm.01k0s4', 'm.05b6mx0', 'm.05f78h', 'm.020_gf', 'm.066xwk', 'm.0247w9', 'm.0drwsm9', 'm.0jnh', 'm.01hgpt', 'm.01gphc', 'm.014pd3']\n",
      "Q5 | F1: 0.0000 | Predicted: ['m.0b28z', 'm.04g4s8k', 'm.02lctm', 'm.03v0t', 'm.0vzm', 'm.0mmyl', 'm.01_77x6', 'm.04g4s8q', 'm.03q1lvy', 'm.0bx8pn', 'm.042g7t', 'm.01l1jx', 'm.0j729', 'm.01d9r3', 'm.01_d4', 'm.03q1lvh', 'm.06yxd', 'm.02fqwt', 'm.03q1lw4', 'm.0gs227r', 'm.0fv_t', 'm.059g4', 'm.06_7k', 'm.01_6v6w', 'm.07b_l', 'm.027hqc_', 'm.0w7m2x9', 'm.02hcv8', 'm.027wjl3', 'm.02lcqs', 'm.03q1lwl', 'm.02hczc', 'm.02z431v', 'm.02lcrv', 'm.02jw0z', 'm.027wj2_', 'm.03q1lvq', 'm.04g4s90', 'm.09nqf', 'm.0_hhjkj', 'm.01ky66', 'm.09sh942', 'm.01_6pxw', 'm.04g4s8w', 'm.0c9rw5'] | Ground Truth: ['m.07w8f', 'm.0flw86', 'm.01lp8', 'm.092bf5', 'm.03j6c', 'm.0kpl', 'm.03_gx']\n",
      "Q6 | F1: 0.0759 | Predicted: ['m.081nh', 'm.0132tgw6', 'm.09kkmyr', 'm.0ngxnpl', 'm.01hl40t', 'm.0vypv96', 'm.0598rm4', 'm.01hl4l8', 'm.0qdng0g', 'm.096y7s', 'm.03jg4tt', 'm.02st0w', 'm.01hl4hb', 'm.0ypyc5q', 'm.0w508xx', 'm.0v41rbr', 'm.0j17fx_', 'm.01lc5', 'm.0v435l1', 'm.026k8yn', 'm.05bt6j', 'm.03jgszc', 'm.0598rmb', 'm.01hl2j6', 'm.0djb8gt', 'm.0407f', 'm.04ct6p', 'm.021_z5', 'm.0y4qyrn', 'm.02lkt', 'm.0k0tp0', 'g.11bbxlkxxc', 'm.02vjzr', 'm.0n1cs5l', 'm.0y9dy4w', 'm.01hl3t4', 'm.02st1p', 'm.06308p', 'm.0q8flcq', 'm.01b9db', 'm.0y9dwry', 'm.06j6l', 'm.0652zr5', 'm.01n7xgt', 'm.02vdbk8', 'm.0y9dxk3', 'm.01hl45_', 'm.0652zrb', 'm.01k9bm5', 'm.07_lq', 'm.09kkmyf', 'm.0ypycgr', 'm.0nf3l7x', 'm.06w81qp', 'm.02srz6', 'm.0y9dy_b', 'm.0105xc0x', 'm.0v43grl', 'm.065qbyj', 'm.010klcpt', 'm.0g6_q__', 'm.01hl48b', 'm.036ytw', 'm.064t9', 'm.0gg4h', 'm.06_y1fq', 'm.026z9', 'm.012mtk5b', 'm.01hl444', 'm.0jwt60n', 'g.1236srvy', 'm.047qwf7', 'm.01hl3jm', 'm.0ggx5q', 'm.06by7', 'm.07hqvg'] | Ground Truth: ['m.065qbyj', 'm.0598rm4', 'm.0598rmb']\n",
      "Q7 | F1: 0.0000 | Predicted: ['m.02h7cgv', 'm.04g36q3', 'm.0jwk2zd'] | Ground Truth: ['m.06jncs']\n",
      "Q8 | F1: 0.1250 | Predicted: ['m.0b28z', 'm.04g4s8k', 'm.02lctm', 'm.03v0t', 'm.0vzm', 'm.0mmyl', 'm.01_77x6', 'm.04g4s8q', 'm.03q1lvy', 'm.0bx8pn', 'm.042g7t', 'm.01l1jx', 'm.0j729', 'm.01d9r3', 'm.01_d4', 'm.03q1lvh', 'm.06yxd', 'm.02fqwt', 'm.03q1lw4', 'm.0gs227r', 'm.0fv_t', 'm.059g4', 'm.06_7k', 'm.01_6v6w', 'm.07b_l', 'm.027hqc_', 'm.0w7m2x9', 'm.02hcv8', 'm.027wjl3', 'm.02lcqs', 'm.03q1lwl', 'm.02hczc', 'm.02z431v', 'm.02lcrv', 'm.02jw0z', 'm.027wj2_', 'm.03q1lvq', 'm.04g4s90', 'm.09nqf', 'm.0_hhjkj', 'm.01ky66', 'm.09sh942', 'm.01_6pxw', 'm.04g4s8w', 'm.0c9rw5'] | Ground Truth: ['m.0j729', 'm.0c9rw5', 'm.01d9r3']\n",
      "Q9 | F1: 0.0952 | Predicted: ['m.09hxlzp', 'm.04yxtkk', 'm.04fvgyq', 'm.09r3f', 'm.04yz499', 'm.064xssc', 'm.06vr2', 'm.02p89zz', 'm.0542n', 'm.04yykw2', 'm.02fmsl', 'm.04yy5qr', 'm.04yv_x3', 'm.04h_fs5', 'm.07jwr', 'm.04yvvkf', 'm.0jnh', 'm.04yv_tf', 'm.049yn2t', 'm.049xrhp'] | Ground Truth: ['m.02p89zz']\n",
      "Q10 | F1: 0.0000 | Predicted: ['m.0b28z', 'm.04g4s8k', 'm.02lctm', 'm.03v0t', 'm.0vzm', 'm.0mmyl', 'm.01_77x6', 'm.04g4s8q', 'm.03q1lvy', 'm.0bx8pn', 'm.042g7t', 'm.01l1jx', 'm.0j729', 'm.01d9r3', 'm.01_d4', 'm.03q1lvh', 'm.06yxd', 'm.02fqwt', 'm.03q1lw4', 'm.0gs227r', 'm.0fv_t', 'm.059g4', 'm.06_7k', 'm.01_6v6w', 'm.07b_l', 'm.027hqc_', 'm.0w7m2x9', 'm.02hcv8', 'm.027wjl3', 'm.02lcqs', 'm.03q1lwl', 'm.02hczc', 'm.02z431v', 'm.02lcrv', 'm.02jw0z', 'm.027wj2_', 'm.03q1lvq', 'm.04g4s90', 'm.09nqf', 'm.0_hhjkj', 'm.01ky66', 'm.09sh942', 'm.01_6pxw', 'm.04g4s8w', 'm.0c9rw5'] | Ground Truth: ['m.03qtd_n', 'm.09j2d', 'm.03xm3m', 'm.0c_jw', 'm.015smg']\n",
      "Q11 | F1: 0.0435 | Predicted: ['m.0b28z', 'm.04g4s8k', 'm.02lctm', 'm.03v0t', 'm.0vzm', 'm.0mmyl', 'm.01_77x6', 'm.04g4s8q', 'm.03q1lvy', 'm.0bx8pn', 'm.042g7t', 'm.01l1jx', 'm.0j729', 'm.01d9r3', 'm.01_d4', 'm.03q1lvh', 'm.06yxd', 'm.02fqwt', 'm.03q1lw4', 'm.0gs227r', 'm.0fv_t', 'm.059g4', 'm.06_7k', 'm.01_6v6w', 'm.07b_l', 'm.027hqc_', 'm.0w7m2x9', 'm.02hcv8', 'm.027wjl3', 'm.02lcqs', 'm.03q1lwl', 'm.02hczc', 'm.02z431v', 'm.02lcrv', 'm.02jw0z', 'm.027wj2_', 'm.03q1lvq', 'm.04g4s90', 'm.09nqf', 'm.0_hhjkj', 'm.01ky66', 'm.09sh942', 'm.01_6pxw', 'm.04g4s8w', 'm.0c9rw5'] | Ground Truth: ['m.059g4']\n",
      "Q12 | F1: 0.0435 | Predicted: ['m.0b28z', 'm.04g4s8k', 'm.02lctm', 'm.03v0t', 'm.0vzm', 'm.0mmyl', 'm.01_77x6', 'm.04g4s8q', 'm.03q1lvy', 'm.0bx8pn', 'm.042g7t', 'm.01l1jx', 'm.0j729', 'm.01d9r3', 'm.01_d4', 'm.03q1lvh', 'm.06yxd', 'm.02fqwt', 'm.03q1lw4', 'm.0gs227r', 'm.0fv_t', 'm.059g4', 'm.06_7k', 'm.01_6v6w', 'm.07b_l', 'm.027hqc_', 'm.0w7m2x9', 'm.02hcv8', 'm.027wjl3', 'm.02lcqs', 'm.03q1lwl', 'm.02hczc', 'm.02z431v', 'm.02lcrv', 'm.02jw0z', 'm.027wj2_', 'm.03q1lvq', 'm.04g4s90', 'm.09nqf', 'm.0_hhjkj', 'm.01ky66', 'm.09sh942', 'm.01_6pxw', 'm.04g4s8w', 'm.0c9rw5'] | Ground Truth: ['m.059g4']\n",
      "Q13 | F1: 0.1374 | Predicted: ['m.01_6qrp', 'm.025v4fb', 'm.0n8yyvt', 'm.04h9qj', 'm.07nqmg_', 'm.07nqmgb', 'm.01_6pgd', 'm.07nqmfg', 'm.07nqmkd', 'm.01_6q1q', 'm.07nqmfp', 'm.07nqmg3', 'm.01_6s0l', 'm.07qbm4', 'm.07nqmly', 'm.03dpqrm', 'm.01_6ph7', 'm.0c7ln', 'm.07nqmhn', 'm.01_6v6w', 'm.0g_8d0', 'm.07nqml1', 'm.09c7w0', 'm.01_6t95', 'm.0288msl', 'm.07nqml8', 'm.01_6rf1', 'm.02z431v', 'm.07nqmgs', 'm.03dpqpb', 'm.02jw0z', 'm.01_795b', 'm.0d9wz', 'm.01ky66', 'm.01_6sws', 'm.01_6t43', 'm.026qfyq', 'm.03v0t', 'm.03y4l3', 'm.01_77x6', 'm.05zv09', 'm.01_6pdj', 'm.027hrnx', 'm.07nqms5', 'm.01_7140', 'm.01_6q0k', 'm.01_6pvy', 'm.01_75zb', 'm.01_6p9s', 'm.0j2m3px', 'm.07nqmf7', 'm.02vv_6w', 'm.01_78wb', 'm.094154', 'm.01_6qjr', 'm.08qt9p', 'm.07nqmkv', 'm.01_6pmb', 'm.0n4_xtw', 'm.01_6r82', 'm.02rvwrv', 'm.09sh942', 'm.07nqmkm', 'm.01_6ps8', 'm.07nqmh6', 'm.07nqmj2', 'm.01_77qt', 'm.01l1jx', 'm.07nqmlq', 'm.01_6t4y', 'm.07nqmjz', 'm.07nqmgk', 'm.07nqmjj', 'm.01_6p_k', 'm.01_6q8p', 'm.01_6y3n', 'm.0gs227r', 'm.07nqmk5', 'm.01_6p6k', 'm.01_6qp4', 'm.01_6smy', 'm.01_6v4j', 'm.07nqmhf', 'm.0d4v7r', 'm.065rklh', 'm.07nqmfx', 'm.01_6tgy', 'm.01_6r78', 'm.0b0sh', 'm.01_6qsj', 'm.0b28z', 'm.07nqmhw', 'm.01_7gfz', 'm.01_6pp5', 'm.01_73_n', 'm.07nqmlh', 'm.01_6t1b', 'm.01_6rfw', 'm.07nqmjr', 'm.04rjc8', 'm.01dlzc', 'm.01_6p8l', 'm.02fqwt', 'm.021czc', 'm.0bl8mx', 'm.01_6r1z', 'm.06_7k', 'm.01_78lh', 'm.027hqc_', 'm.0w7m2x9', 'm.01_6t5r', 'm.01_6pnb', 'm.01_6s_6', 'm.01_6q9q', 'm.01_71cx', 'm.07nqmj9', 'm.01_72xz', 'm.01_6zk1', 'm.01_6qz6', 'm.01_78nm', 'm.01_6qcm', 'm.01_6pxw'] | Ground Truth: ['m.026qfyq', 'm.04rjc8', 'm.0288msl', 'm.08qt9p', 'm.01ky66', 'm.027hrnx', 'm.02z431v', 'm.01l1jx', 'm.0d4v7r']\n",
      "Q14 | F1: 0.0519 | Predicted: ['m.081nh', 'm.0132tgw6', 'm.09kkmyr', 'm.0ngxnpl', 'm.01hl40t', 'm.0vypv96', 'm.0598rm4', 'm.01hl4l8', 'm.0qdng0g', 'm.096y7s', 'm.03jg4tt', 'm.02st0w', 'm.01hl4hb', 'm.0ypyc5q', 'm.0w508xx', 'm.0v41rbr', 'm.0j17fx_', 'm.01lc5', 'm.0v435l1', 'm.026k8yn', 'm.05bt6j', 'm.03jgszc', 'm.0598rmb', 'm.01hl2j6', 'm.0djb8gt', 'm.0407f', 'm.04ct6p', 'm.021_z5', 'm.0y4qyrn', 'm.02lkt', 'm.0k0tp0', 'g.11bbxlkxxc', 'm.02vjzr', 'm.0n1cs5l', 'm.0y9dy4w', 'm.01hl3t4', 'm.02st1p', 'm.06308p', 'm.0q8flcq', 'm.01b9db', 'm.0y9dwry', 'm.06j6l', 'm.0652zr5', 'm.01n7xgt', 'm.02vdbk8', 'm.0y9dxk3', 'm.01hl45_', 'm.0652zrb', 'm.01k9bm5', 'm.07_lq', 'm.09kkmyf', 'm.0ypycgr', 'm.0nf3l7x', 'm.06w81qp', 'm.02srz6', 'm.0y9dy_b', 'm.0105xc0x', 'm.0v43grl', 'm.065qbyj', 'm.010klcpt', 'm.0g6_q__', 'm.01hl48b', 'm.036ytw', 'm.064t9', 'm.047qwf7', 'm.06_y1fq', 'm.026z9', 'm.012mtk5b', 'm.01hl444', 'm.0jwt60n', 'g.1236srvy', 'm.01hl3jm', 'm.0ggx5q', 'm.06by7', 'm.07hqvg'] | Ground Truth: ['m.02qsfv', 'm.05f5tq', 'm.0v435l3', 'm.07hqvg', 'm.0_cdzjp', 'm.036ytw', 'm.031t2d', 'm.065mvrb', 'm.0v43grn', 'm.0djb05y', 'm.027fwmt']\n",
      "Q15 | F1: 0.1176 | Predicted: ['m.02jw0z', 'm.01_d4', 'm.0w7m2x9', 'm.026qfyq', 'm.09c7w0', 'm.01dlzc', 'm.0d9wz', 'm.01_77x6', 'm.02fqwt', 'm.021czc', 'm.09sh942', 'm.01_6pxw', 'm.0c7ln', 'm.0gs227r', 'm.01l1jx', 'm.01_6v6w'] | Ground Truth: ['m.02fqwt']\n",
      "Q16 | F1: 0.0000 | Predicted: ['m.02h7cgv', 'm.04g36q3', 'm.0jwk2zd'] | Ground Truth: ['m.06jncs']\n",
      "Q17 | F1: 0.1250 | Predicted: ['m.0b28z', 'm.04g4s8k', 'm.02lctm', 'm.03v0t', 'm.0vzm', 'm.0mmyl', 'm.01_77x6', 'm.04g4s8q', 'm.03q1lvy', 'm.0bx8pn', 'm.042g7t', 'm.01l1jx', 'm.0j729', 'm.01d9r3', 'm.01_d4', 'm.03q1lvh', 'm.06yxd', 'm.02fqwt', 'm.03q1lw4', 'm.0gs227r', 'm.0fv_t', 'm.059g4', 'm.06_7k', 'm.01_6v6w', 'm.07b_l', 'm.027hqc_', 'm.0w7m2x9', 'm.02hcv8', 'm.027wjl3', 'm.02lcqs', 'm.03q1lwl', 'm.02hczc', 'm.02z431v', 'm.02lcrv', 'm.02jw0z', 'm.027wj2_', 'm.03q1lvq', 'm.04g4s90', 'm.09nqf', 'm.0_hhjkj', 'm.01ky66', 'm.09sh942', 'm.01_6pxw', 'm.04g4s8w', 'm.0c9rw5'] | Ground Truth: ['m.0j729', 'm.0c9rw5', 'm.01d9r3']\n",
      "Q18 | F1: 0.2727 | Predicted: ['m.09hxlzp', 'm.04yxtkk', 'm.04fvgyq', 'm.09r3f', 'm.04yz499', 'm.064xssc', 'm.06vr2', 'm.0542n', 'm.04yykw2', 'm.02fmsl', 'm.04yy5qr', 'm.04yv_x3', 'm.04h_fs5', 'm.07jwr', 'm.04yvvkf', 'm.0jnh', 'm.04yv_tf', 'm.049yn2t', 'm.049xrhp'] | Ground Truth: ['m.07jwr', 'm.06vr2', 'm.0542n']\n",
      "Q19 | F1: 0.2500 | Predicted: ['m.09hxlzp', 'm.04yxtkk', 'm.0mmyl', 'm.04fvgyq', 'm.09r3f', 'm.04yz499', 'm.064xssc', 'm.06vr2', 'm.02p89zz', 'm.0542n', 'm.04yykw2', 'm.02fmsl', 'm.04yy5qr', 'm.04yv_x3', 'm.04h_fs5', 'm.07jwr', 'm.04yvvkf', 'm.0jnh', 'm.04yv_tf', 'm.049yn2t', 'm.049xrhp'] | Ground Truth: ['m.07jwr', 'm.06vr2', 'm.0542n']\n",
      "Q20 | F1: 0.5000 | Predicted: ['m.09c7w0', 'm.0fv_t', 'm.02hcv8'] | Ground Truth: ['m.09c7w0']\n",
      "Q21 | F1: 0.1250 | Predicted: ['m.0b28z', 'm.04g4s8k', 'm.02lctm', 'm.03v0t', 'm.0vzm', 'm.0mmyl', 'm.01_77x6', 'm.04g4s8q', 'm.03q1lvy', 'm.0bx8pn', 'm.042g7t', 'm.01l1jx', 'm.0j729', 'm.01d9r3', 'm.01_d4', 'm.03q1lvh', 'm.06yxd', 'm.02fqwt', 'm.03q1lw4', 'm.0gs227r', 'm.0fv_t', 'm.059g4', 'm.06_7k', 'm.01_6v6w', 'm.07b_l', 'm.027hqc_', 'm.0w7m2x9', 'm.02hcv8', 'm.027wjl3', 'm.02lcqs', 'm.03q1lwl', 'm.02hczc', 'm.02z431v', 'm.02lcrv', 'm.02jw0z', 'm.027wj2_', 'm.03q1lvq', 'm.04g4s90', 'm.09nqf', 'm.0_hhjkj', 'm.01ky66', 'm.09sh942', 'm.01_6pxw', 'm.04g4s8w', 'm.0c9rw5'] | Ground Truth: ['m.0j729', 'm.0c9rw5', 'm.01d9r3']\n",
      "Q22 | F1: 0.0000 | Predicted: ['m.0vypv96', 'm.096y7s', 'm.01hl4hb', 'm.0ypyc5q', 'm.01lc5', 'm.0v435l1', 'm.01hl2j6', 'm.04ct6p', 'm.0y4qyrn', 'g.11bbxlkxxc', 'm.09c7w0', 'm.0y9dwry', 'm.01n7xgt', 'm.02vdbk8', 'm.0y9dxk3', 'm.07_lq', 'm.0ypycgr', 'm.0nf3l7x', 'g.1236srvy', 'm.026z9', 'm.012mtk5b', 'm.09kkmyr', 'm.01hl40t', 'm.0j17fx_', 'm.021_z5', 'm.02st1p', 'm.06308p', 'm.06j6l', 'm.01hl45_', 'm.02srz6', 'm.010klcpt', 'm.01k9bm5', 'm.036ytw', 'm.01hl444', 'm.01hl3jm', 'm.0jwt60n', 'm.07hqvg', 'm.081nh', 'm.0ngxnpl', 'm.0598rm4', 'm.0qdng0g', 'm.0w508xx', 'm.05bt6j', 'm.02lkt', 'm.01b9db', 'm.06w81qp', 'm.0105xc0x', 'm.065qbyj', 'm.0gg4h', 'm.064t9', 'm.047qwf7', 'm.06_y1fq', 'm.06by7', 'm.0132tgw6', 'm.01hl4l8', 'm.03jg4tt', 'm.02st0w', 'm.0v41rbr', 'm.026k8yn', 'm.03jgszc', 'm.0598rmb', 'm.0djb8gt', 'm.0407f', 'm.0k0tp0', 'm.02vjzr', 'm.0n1cs5l', 'm.0y9dy4w', 'm.01hl3t4', 'm.0q8flcq', 'm.0652zr5', 'm.0652zrb', 'm.09kkmyf', 'm.0v43grl', 'm.0y9dy_b', 'm.0g6_q__', 'm.01hl48b', 'm.0ggx5q'] | Ground Truth: ['m.023_5s', 'm.0247h4', 'm.01s993', 'm.0nf3l7y', 'm.01s9b9', 'm.013v5j', 'm.04_70v', 'm.0gbwp', 'm.0598rr3', 'm.01zmpg']\n",
      "Q23 | F1: 0.8325 | Predicted: ['m.01_6qrp', 'm.025v4fb', 'm.0n8yyvt', 'm.04h9qj', 'm.07nqmg_', 'm.07nqmgb', 'm.01_6pgd', 'm.07nqmfg', 'm.07nqmkd', 'm.01_6q1q', 'm.07nqmfp', 'm.07nqmg3', 'm.01_6s0l', 'm.07qbm4', 'm.07nqmly', 'm.03dpqrm', 'm.01_6ph7', 'm.0c7ln', 'm.07nqmhn', 'm.01_6v6w', 'm.0g_8d0', 'm.07nqml1', 'm.09c7w0', 'm.01_6t95', 'm.0288msl', 'm.07nqml8', 'm.01_6rf1', 'm.02z431v', 'm.07nqmgs', 'm.03dpqpb', 'm.02jw0z', 'm.01_795b', 'm.0d9wz', 'm.01ky66', 'm.01_6sws', 'm.01_6t43', 'm.026qfyq', 'm.03v0t', 'm.03y4l3', 'm.01_77x6', 'm.05zv09', 'm.01_6pdj', 'm.027hrnx', 'm.07nqms5', 'm.01_7140', 'm.01_6q0k', 'm.01_6pvy', 'm.01_75zb', 'm.01_6p9s', 'm.0j2m3px', 'm.07nqmf7', 'm.02vv_6w', 'm.01_78wb', 'm.094154', 'm.01_6qjr', 'm.08qt9p', 'm.07nqmkv', 'm.01_6pmb', 'm.0n4_xtw', 'm.01_6r82', 'm.02rvwrv', 'm.09sh942', 'm.07nqmkm', 'm.01_6ps8', 'm.07nqmh6', 'm.07nqmj2', 'm.01_77qt', 'm.01l1jx', 'm.07nqmlq', 'm.01_6t4y', 'm.07nqmjz', 'm.07nqmgk', 'm.07nqmjj', 'm.01_6p_k', 'm.01_6q8p', 'm.01_6y3n', 'm.0gs227r', 'm.07nqmk5', 'm.01_6p6k', 'm.01_6qp4', 'm.01_6smy', 'm.01_6v4j', 'm.07nqmhf', 'm.0d4v7r', 'm.065rklh', 'm.07nqmfx', 'm.01_6tgy', 'm.01_6r78', 'm.0b0sh', 'm.01_6qsj', 'm.0b28z', 'm.07nqmhw', 'm.01_7gfz', 'm.01_6pp5', 'm.01_73_n', 'm.07nqmlh', 'm.01_6t1b', 'm.01_6rfw', 'm.07nqmjr', 'm.04rjc8', 'm.01dlzc', 'm.01_6p8l', 'm.02fqwt', 'm.021czc', 'm.0bl8mx', 'm.01_6r1z', 'm.06_7k', 'm.01_78lh', 'm.027hqc_', 'm.0w7m2x9', 'm.01_6t5r', 'm.01_6pnb', 'm.01_6s_6', 'm.01_6q9q', 'm.01_71cx', 'm.07nqmj9', 'm.01_72xz', 'm.01_6zk1', 'm.01_6qz6', 'm.01_78nm', 'm.01_6qcm', 'm.01_6pxw'] | Ground Truth: ['m.01_6qrp', 'm.07nqmg_', 'm.07nqmgb', 'm.01_6pgd', 'm.07nqmfg', 'm.01_6q1q', 'm.07nqmkd', 'm.07nqmfp', 'm.07nqmg3', 'm.01_6s0l', 'm.03dpqrm', 'm.07nqmly', 'm.01_6ph7', 'm.07nqmhn', 'm.01_6v6w', 'm.07nqml1', 'm.01_6t95', 'm.07nqml8', 'm.01_6rf1', 'm.07nqmgs', 'm.03dpqpb', 'm.01_795b', 'm.01_6sws', 'm.01_6t43', 'm.01_77x6', 'm.01_6pdj', 'm.07nqms5', 'm.01_7140', 'm.01_6q0k', 'm.01_6pvy', 'm.01_75zb', 'm.01_6p9s', 'm.07nqmf7', 'm.01_78wb', 'm.01_6qjr', 'm.07nqmkv', 'm.01_6pmb', 'm.01_6r82', 'm.09sh942', 'm.07nqmkm', 'm.01_6ps8', 'm.07nqmh6', 'm.07nqmj2', 'm.01_77qt', 'm.07nqmlq', 'm.01_6t4y', 'm.07nqmjz', 'm.07nqmgk', 'm.07nqmjj', 'm.01_6p_k', 'm.01_6q8p', 'm.01_6y3n', 'm.07nqmk5', 'm.0gs227r', 'm.01_6p6k', 'm.01_6qp4', 'm.01_6smy', 'm.01_6v4j', 'm.07nqmhf', 'm.065rklh', 'm.01_6tgy', 'm.07nqmfx', 'm.01_6r78', 'm.01_6qsj', 'm.07nqmhw', 'm.01_7gfz', 'm.01_6pp5', 'm.01_73_n', 'm.07nqmlh', 'm.01_6t1b', 'm.01_6rfw', 'm.07nqmjr', 'm.01_6p8l', 'm.01_6r1z', 'm.01_78lh', 'm.01_6t5r', 'm.01_6pnb', 'm.01_6s_6', 'm.01_6q9q', 'm.01_71cx', 'm.07nqmj9', 'm.01_72xz', 'm.01_6zk1', 'm.01_6qz6', 'm.01_78nm', 'm.01_6qcm', 'm.01_6pxw']\n",
      "Q24 | F1: 0.1250 | Predicted: ['m.0b28z', 'm.04g4s8k', 'm.02lctm', 'm.03v0t', 'm.0vzm', 'm.0mmyl', 'm.01_77x6', 'm.04g4s8q', 'm.03q1lvy', 'm.0bx8pn', 'm.042g7t', 'm.01l1jx', 'm.0j729', 'm.01d9r3', 'm.01_d4', 'm.03q1lvh', 'm.06yxd', 'm.02fqwt', 'm.03q1lw4', 'm.0gs227r', 'm.0fv_t', 'm.059g4', 'm.06_7k', 'm.01_6v6w', 'm.07b_l', 'm.027hqc_', 'm.0w7m2x9', 'm.02hcv8', 'm.027wjl3', 'm.02lcqs', 'm.03q1lwl', 'm.02hczc', 'm.02z431v', 'm.02lcrv', 'm.02jw0z', 'm.027wj2_', 'm.03q1lvq', 'm.04g4s90', 'm.09nqf', 'm.0_hhjkj', 'm.01ky66', 'm.09sh942', 'm.01_6pxw', 'm.04g4s8w', 'm.0c9rw5'] | Ground Truth: ['m.0j729', 'm.0c9rw5', 'm.01d9r3']\n",
      "Q25 | F1: 0.0435 | Predicted: ['m.0b28z', 'm.04g4s8k', 'm.02lctm', 'm.03v0t', 'm.0vzm', 'm.0mmyl', 'm.01_77x6', 'm.04g4s8q', 'm.03q1lvy', 'm.0bx8pn', 'm.042g7t', 'm.01l1jx', 'm.0j729', 'm.01d9r3', 'm.01_d4', 'm.03q1lvh', 'm.06yxd', 'm.02fqwt', 'm.03q1lw4', 'm.0gs227r', 'm.0fv_t', 'm.059g4', 'm.06_7k', 'm.01_6v6w', 'm.07b_l', 'm.027hqc_', 'm.0w7m2x9', 'm.02hcv8', 'm.027wjl3', 'm.02lcqs', 'm.03q1lwl', 'm.02hczc', 'm.02z431v', 'm.02lcrv', 'm.02jw0z', 'm.027wj2_', 'm.03q1lvq', 'm.04g4s90', 'm.09nqf', 'm.0_hhjkj', 'm.01ky66', 'm.09sh942', 'm.01_6pxw', 'm.04g4s8w', 'm.0c9rw5'] | Ground Truth: ['m.09nqf']\n",
      "Q26 | F1: 0.6038 | Predicted: ['m.081nh', 'm.0132tgw6', 'm.09kkmyr', 'm.0ngxnpl', 'm.01hl40t', 'm.0vypv96', 'm.0598rm4', 'm.01hl4l8', 'm.0qdng0g', 'm.096y7s', 'm.03jg4tt', 'm.02st0w', 'm.01hl4hb', 'm.0ypyc5q', 'm.0w508xx', 'm.0v41rbr', 'm.0j17fx_', 'm.01lc5', 'm.0v435l1', 'm.05bt6j', 'm.03jgszc', 'm.0598rmb', 'm.01hl2j6', 'm.0djb8gt', 'm.0407f', 'm.04ct6p', 'm.021_z5', 'm.0y4qyrn', 'm.02lkt', 'm.0k0tp0', 'g.11bbxlkxxc', 'm.02vjzr', 'm.0n1cs5l', 'm.0y9dy4w', 'm.01hl3t4', 'm.02st1p', 'm.06308p', 'm.0q8flcq', 'm.01b9db', 'm.0y9dwry', 'm.06j6l', 'm.0652zr5', 'm.01n7xgt', 'm.02vdbk8', 'm.0y9dxk3', 'm.01hl45_', 'm.0652zrb', 'm.01k9bm5', 'm.07_lq', 'm.09kkmyf', 'm.0ypycgr', 'm.0nf3l7x', 'm.06w81qp', 'm.02srz6', 'm.0y9dy_b', 'm.0105xc0x', 'm.0v43grl', 'm.065qbyj', 'm.010klcpt', 'm.0g6_q__', 'm.01hl48b', 'm.036ytw', 'm.064t9', 'm.047qwf7', 'm.06_y1fq', 'm.026z9', 'm.012mtk5b', 'm.01hl444', 'm.0jwt60n', 'g.1236srvy', 'm.01hl3jm', 'm.0ggx5q', 'm.06by7', 'm.07hqvg'] | Ground Truth: ['m.0w471yb', 'm.01hl3zv', 'm.0vzxkrq', 'm.0v3lbgm', 'm.0vypv96', 'm.0h32kcp', 'm.096y7s', 'm.01hl4hb', 'm.01hl31m', 'm.0f04tbf', 'm.01hl2j6', 'm.0133rz52', 'm.01hl4k9', 'm.04ffqmp', 'm.0c3xrp_', 'm.0v_7274', 'm.0w47802', 'm.01hl2fz', 'm.0y4qyrn', 'm.01hl3sj', 'm.0__ljrb', 'm.0dvl5p3', 'g.11bbxlkxxc', 'm.04ffqm4', 'g.1hb_fdlpy', 'm.0dvl6z5', 'm.09yyl5', 'm.0h3twc8', 'm.0fsp0fq', 'm.0vynj_2', 'm.01n7xgt', 'm.0glt06b', 'g.120vhf69', 'm.01hl452', 'm.05f522t', 'm.0fhtpqk', 'm.04ffqmd', 'm.0vt7sqb', 'm.0vym6w6', 'm.0w46yg8', 'm.06vzkfv', 'm.0w47f_c', 'g.1236srvy', 'm.012mtk5b', 'm.0w450nh', 'm.01hl356', 'm.0105mn8y', 'm.01hl2h9', 'm.0h32kcz', 'm.0h32kcd', 'm.0v_756d', 'm.0vyqb_7', 'g.121_btq7', 'm.07k7rqv', 'm.0h32kc3', 'm.0h32kc6', 'm.0vyqjt0', 'm.0vyqv7z', 'm.0w452dl', 'm.01hl40t', 'm.0vzyc_d', 'm.0vyn4p1', 'm.012tw152', 'm.0vymdk6', 'm.0w473g7', 'm.01hl30m', 'm.03xwgr7', 'm.0vyq2h2', 'm.0w44_kg', 'm.01hl2gc', 'm.06w2bnf', 'm.0v3l6q9', 'm.0w46w71', 'm.0w46vmn', 'm.03z1ptx', 'm.0h32kd4', 'm.0vyqrc0', 'g.121v77kf', 'g.11b5q8l129', 'm.01hl2xg', 'm.0v3ljxq', 'm.0w4513n', 'm.0v3lg4y', 'm.0w475mg', 'm.012vppwh', 'm.0w8hly7', 'g.120n34ct', 'm.02st1p', 'm.06308p', 'm.0j46mk5', 'm.0h1d8yv', 'm.0h32kcw', 'm.0w477n8', 'm.01hl35s', 'm.0w479_2', 'm.0rpv45n', 'm.0vsld1y', 'm.0w44_17', 'm.0q9j6g_', 'm.01hl45_', 'g.120jfbwf', 'm.0dlk02n', 'm.0w45061', 'm.0v3l8rh', 'm.02srz6', 'm.01hl3gv', 'm.0vzyy2k', 'm.0w47bz4', 'm.0w538_q', 'm.0qdkdmy', 'm.010klcpt', 'm.01k9bm5', 'm.01hl444', 'm.01hl3jm', 'm.0jwt60n', 'm.0dmk1t4', 'm.0vynnqc', 'g.121xqb58', 'm.01hl2l9', 'm.0fqrfqm', 'm.01n7y48', 'm.01hl2t4', 'g.121n9qzq', 'm.06mvhg', 'm.0v3m7rl', 'g.123197b2', 'g.1236sqs9', 'm.0v3hlrc', 'g.121kx0gx', 'g.120qdf98', 'm.02650xh', 'm.01hl3ly', 'g.120yrclj', 'm.0w508xx', 'g.121vl6p3', 'm.01hl33y', 'm.0vyl_9c', 'm.049rcj0', 'g.120p50b2', 'm.01hl2tr', 'g.1237d7hl', 'm.03fzcf4', 'm.0v3lczh', 'm.0124gpp4', 'g.120wr8ww', 'm.06mw68', 'm.0w46wmh', 'm.0v3m6m6', 'm.04mzmy4', 'g.1231gfcz', 'm.0vzy1n3', 'g.122rvvwp', 'm.03cj9kh', 'm.01hl4ml', 'm.0v3j1bt', 'g.122mr2dg', 'm.0285mp9', 'm.07kby3z', 'm.0w46_vj', 'm.06w81qp', 'g.122n5p5k', 'm.0h32kby', 'm.01hl2mq', 'm.0qz95jy', 'g.123656pn', 'g.12221snb', 'm.047qwf7', 'm.06_y1fq', 'g.1yxkhh_jb', 'g.121lysqn', 'm.0ft9skn', 'm.0w478pt', 'm.0shhsh8', 'm.04ffqlx', 'm.0132tgw6', 'm.04ckkf5', 'm.0v3hkhk', 'm.01hl4l8', 'm.0v3h_9j', 'm.0w44zny', 'm.0h32kbr', 'm.0dl7rvt', 'm.04ckkff', 'm.03jg4tt', 'm.0fwcwqc', 'm.0vynqxt', 'm.02st0w', 'm.0h32kbv', 'm.0w45314', 'm.01hl3xz', 'm.0vym1p0', 'm.03jgszc', 'm.04ffqlg', 'm.0h32kch', 'm.0w47bfp', 'm.0hz6q1j', 'm.0vzwxwg', 'm.0h32kc9', 'm.0w44_qy', 'm.01hl2gt', 'm.0h32kc0', 'm.0v3m9wb', 'g.120vbf6y', 'm.0h32kd1', 'm.0w44_70', 'm.01hl2f3', 'm.01hl3t4', 'g.1q6fnpzns', 'm.0q8flcq', 'm.0f619lx', 'm.01hl3bj', 'm.01hl3vk', 'g.122rvxds', 'm.0h32kcs', 'm.0h32kcl', 'm.0h7n1qw', 'm.0v3h3mr', 'm.01hl2fj', 'm.0805f2g', 'm.0vyllbh', 'm.0fvj81r', 'm.0g6_q__', 'm.01hl48b', 'm.0h32kbk', 'm.0dnv23g', 'm.0gdw13q', 'm.0v3mhws', 'm.0v3mkn2', 'm.0vylbzr', 'm.0vym8jy', 'm.0vyn9rb', 'm.012qdqrz', 'g.1226g4nw', 'g.121k2wyq', 'm.0jwzllk']\n",
      "Q27 | F1: 0.0000 | Predicted: ['m.02h7cgv', 'm.04g36q3', 'm.0jwk2zd'] | Ground Truth: ['m.06jncs']\n",
      "Q28 | F1: 0.0000 | Predicted: ['m.02h7cgv', 'm.04g36q3', 'm.0jwk2zd'] | Ground Truth: ['m.06jncs']\n",
      "Q29 | F1: 0.6667 | Predicted: ['m.09c7w0', 'm.02fqwt', 'm.0vzm', 'm.02hczc'] | Ground Truth: ['m.02hczc', 'm.02fqwt']\n",
      "Q30 | F1: 0.0000 | Predicted: ['m.02h7cgv', 'm.04g36q3', 'm.0jwk2zd'] | Ground Truth: ['m.07xc_j']\n",
      "Q31 | F1: 0.0000 | Predicted: ['m.081nh', 'm.0132tgw6', 'm.09kkmyr', 'm.0ngxnpl', 'm.01hl40t', 'm.0vypv96', 'm.0598rm4', 'm.01hl4l8', 'm.0qdng0g', 'm.096y7s', 'm.03jg4tt', 'm.02st0w', 'm.01hl4hb', 'm.0ypyc5q', 'm.0w508xx', 'm.0v41rbr', 'm.0j17fx_', 'm.01lc5', 'm.0v435l1', 'm.05bt6j', 'm.03jgszc', 'm.0598rmb', 'm.01hl2j6', 'm.0djb8gt', 'm.0407f', 'm.04ct6p', 'm.021_z5', 'm.0y4qyrn', 'm.02lkt', 'm.0k0tp0', 'g.11bbxlkxxc', 'm.02vjzr', 'm.0n1cs5l', 'm.0y9dy4w', 'm.01hl3t4', 'm.02st1p', 'm.06308p', 'm.0q8flcq', 'm.01b9db', 'm.0y9dwry', 'm.06j6l', 'm.0652zr5', 'm.01n7xgt', 'm.02vdbk8', 'm.0y9dxk3', 'm.01hl45_', 'm.0652zrb', 'm.01k9bm5', 'm.07_lq', 'm.09kkmyf', 'm.0ypycgr', 'm.0nf3l7x', 'm.06w81qp', 'm.02srz6', 'm.0y9dy_b', 'm.0105xc0x', 'm.0v43grl', 'm.065qbyj', 'm.010klcpt', 'm.0g6_q__', 'm.01hl48b', 'm.036ytw', 'm.064t9', 'm.047qwf7', 'm.06_y1fq', 'm.026z9', 'm.012mtk5b', 'm.01hl444', 'm.0jwt60n', 'g.1236srvy', 'm.01hl3jm', 'm.0ggx5q', 'm.06by7', 'm.07hqvg'] | Ground Truth: ['m.02vlwj']\n",
      "Q32 | F1: 0.1250 | Predicted: ['m.0b28z', 'm.04g4s8k', 'm.02lctm', 'm.03v0t', 'm.0vzm', 'm.0mmyl', 'm.01_77x6', 'm.04g4s8q', 'm.03q1lvy', 'm.0bx8pn', 'm.042g7t', 'm.01l1jx', 'm.0j729', 'm.01d9r3', 'm.01_d4', 'm.03q1lvh', 'm.06yxd', 'm.02fqwt', 'm.03q1lw4', 'm.0gs227r', 'm.0fv_t', 'm.059g4', 'm.06_7k', 'm.01_6v6w', 'm.07b_l', 'm.027hqc_', 'm.0w7m2x9', 'm.02hcv8', 'm.027wjl3', 'm.02lcqs', 'm.03q1lwl', 'm.02hczc', 'm.02z431v', 'm.02lcrv', 'm.02jw0z', 'm.027wj2_', 'm.03q1lvq', 'm.04g4s90', 'm.09nqf', 'm.0_hhjkj', 'm.01ky66', 'm.09sh942', 'm.01_6pxw', 'm.04g4s8w', 'm.0c9rw5'] | Ground Truth: ['m.0j729', 'm.0c9rw5', 'm.01d9r3']\n",
      "Q33 | F1: 0.0000 | Predicted: ['m.0b28z', 'm.04g4s8k', 'm.02lctm', 'm.03v0t', 'm.0vzm', 'm.0mmyl', 'm.01_77x6', 'm.04g4s8q', 'm.03q1lvy', 'm.0bx8pn', 'm.042g7t', 'm.01l1jx', 'm.0j729', 'm.01d9r3', 'm.01_d4', 'm.03q1lvh', 'm.06yxd', 'm.02fqwt', 'm.03q1lw4', 'm.0gs227r', 'm.0fv_t', 'm.059g4', 'm.06_7k', 'm.01_6v6w', 'm.07b_l', 'm.027hqc_', 'm.0w7m2x9', 'm.02hcv8', 'm.027wjl3', 'm.02lcqs', 'm.03q1lwl', 'm.02hczc', 'm.02z431v', 'm.02lcrv', 'm.02jw0z', 'm.027wj2_', 'm.03q1lvq', 'm.04g4s90', 'm.09nqf', 'm.0_hhjkj', 'm.01ky66', 'm.09sh942', 'm.01_6pxw', 'm.04g4s8w', 'm.0c9rw5'] | Ground Truth: ['m.03q9wp2', 'm.03qtd_n', 'm.015smg', 'm.03qtf10']\n",
      "Q34 | F1: 0.1250 | Predicted: ['m.0b28z', 'm.04g4s8k', 'm.02lctm', 'm.03v0t', 'm.0vzm', 'm.0mmyl', 'm.01_77x6', 'm.04g4s8q', 'm.03q1lvy', 'm.0bx8pn', 'm.042g7t', 'm.01l1jx', 'm.0j729', 'm.01d9r3', 'm.01_d4', 'm.03q1lvh', 'm.06yxd', 'm.02fqwt', 'm.03q1lw4', 'm.0gs227r', 'm.0fv_t', 'm.059g4', 'm.06_7k', 'm.01_6v6w', 'm.07b_l', 'm.027hqc_', 'm.0w7m2x9', 'm.02hcv8', 'm.027wjl3', 'm.02lcqs', 'm.03q1lwl', 'm.02hczc', 'm.02z431v', 'm.02lcrv', 'm.02jw0z', 'm.027wj2_', 'm.03q1lvq', 'm.04g4s90', 'm.09nqf', 'm.0_hhjkj', 'm.01ky66', 'm.09sh942', 'm.01_6pxw', 'm.04g4s8w', 'm.0c9rw5'] | Ground Truth: ['m.0j729', 'm.0c9rw5', 'm.01d9r3']\n",
      "Q35 | F1: 0.0000 | Predicted: ['m.09hxlzp', 'm.04yxtkk', 'm.04fvgyq', 'm.09r3f', 'm.04yz499', 'm.064xssc', 'm.06vr2', 'm.02p89zz', 'm.0542n', 'm.04yykw2', 'm.02fmsl', 'm.04yy5qr', 'm.04yv_x3', 'm.04h_fs5', 'm.07jwr', 'm.04yvvkf', 'm.0jnh', 'm.04yv_tf', 'm.049yn2t', 'm.049xrhp'] | Ground Truth: ['m.0mmyl']\n",
      "Q36 | F1: 0.3194 | Predicted: ['m.01_6qrp', 'm.025v4fb', 'm.0n8yyvt', 'm.04h9qj', 'm.07nqmg_', 'm.07nqmgb', 'm.01_6pgd', 'm.07nqmfg', 'm.07nqmkd', 'm.01_6q1q', 'm.07nqmfp', 'm.07nqmg3', 'm.01_6s0l', 'm.07qbm4', 'm.07nqmly', 'm.03dpqrm', 'm.01_6ph7', 'm.0c7ln', 'm.07nqmhn', 'm.01_6v6w', 'm.0g_8d0', 'm.07nqml1', 'm.09c7w0', 'm.01_6t95', 'm.0288msl', 'm.07nqml8', 'm.01_6rf1', 'm.02z431v', 'm.07nqmgs', 'm.03dpqpb', 'm.02jw0z', 'm.01_795b', 'm.0d9wz', 'm.01ky66', 'm.01_6sws', 'm.01_6t43', 'm.026qfyq', 'm.03v0t', 'm.03y4l3', 'm.01_77x6', 'm.05zv09', 'm.01_6pdj', 'm.027hrnx', 'm.07nqms5', 'm.01_7140', 'm.01_6q0k', 'm.01_6pvy', 'm.01_75zb', 'm.01_6p9s', 'm.0j2m3px', 'm.07nqmf7', 'm.02vv_6w', 'm.01_78wb', 'm.094154', 'm.01_6qjr', 'm.08qt9p', 'm.07nqmkv', 'm.01_6pmb', 'm.0n4_xtw', 'm.01_6r82', 'm.02rvwrv', 'm.09sh942', 'm.07nqmkm', 'm.01_6ps8', 'm.07nqmh6', 'm.07nqmj2', 'm.01_77qt', 'm.07nqmlq', 'm.01l1jx', 'm.01_6t4y', 'm.07nqmjz', 'm.07nqmgk', 'm.07nqmjj', 'm.01_6p_k', 'm.01_6q8p', 'm.01_6y3n', 'm.0gs227r', 'm.07nqmk5', 'm.01_6p6k', 'm.01_6qp4', 'm.01_6smy', 'm.01_6v4j', 'm.07nqmhf', 'm.0d4v7r', 'm.065rklh', 'm.07nqmfx', 'm.01_6tgy', 'm.01_6r78', 'm.0b0sh', 'm.01_6qsj', 'm.0b28z', 'm.07nqmhw', 'm.01_7gfz', 'm.01_6pp5', 'm.01_73_n', 'm.07nqmlh', 'm.01_6t1b', 'm.01_6rfw', 'm.07nqmjr', 'm.04rjc8', 'm.01dlzc', 'm.01_6p8l', 'm.021czc', 'm.0bl8mx', 'm.01_6r1z', 'm.06_7k', 'm.01_78lh', 'm.027hqc_', 'm.0w7m2x9', 'm.01_6t5r', 'm.01_6pnb', 'm.01_6s_6', 'm.01_6q9q', 'm.01_71cx', 'm.07nqmj9', 'm.01_72xz', 'm.01_6zk1', 'm.01_6qz6', 'm.01_78nm', 'm.01_6qcm', 'm.01_6pxw'] | Ground Truth: ['m.0b28z', 'm.025v4fb', 'm.0n8yyvt', 'm.04h9qj', 'm.03y4l3', 'm.05zv09', 'm.01dlzc', 'm.07qbm4', 'm.021czc', 'm.0bl8mx', 'm.0j2m3px', 'm.0c7ln', 'm.02vv_6w', 'm.06_7k', 'm.0g_8d0', 'm.027hqc_', 'm.0w7m2x9', 'm.094154', 'm.02jw0z', 'm.0n4_xtw', 'm.0b0sh', 'm.0d9wz', 'm.02rvwrv']\n",
      "Q37 | F1: 0.0000 | Predicted: ['m.02h7cgv', 'm.04g36q3', 'm.0jwk2zd'] | Ground Truth: ['m.07qymj', 'm.0bx8pn']\n",
      "Q38 | F1: 0.0260 | Predicted: ['m.081nh', 'm.0132tgw6', 'm.09kkmyr', 'm.0ngxnpl', 'm.01hl40t', 'm.0vypv96', 'm.0598rm4', 'm.01hl4l8', 'm.0qdng0g', 'm.096y7s', 'm.03jg4tt', 'm.02st0w', 'm.01hl4hb', 'm.0ypyc5q', 'm.0w508xx', 'm.0v41rbr', 'm.0j17fx_', 'm.01lc5', 'm.0v435l1', 'm.026k8yn', 'm.05bt6j', 'm.03jgszc', 'm.0598rmb', 'm.01hl2j6', 'm.0djb8gt', 'm.0407f', 'm.04ct6p', 'm.021_z5', 'm.0y4qyrn', 'm.02lkt', 'm.0k0tp0', 'g.11bbxlkxxc', 'm.02vjzr', 'm.0n1cs5l', 'm.0y9dy4w', 'm.01hl3t4', 'm.02st1p', 'm.06308p', 'm.0q8flcq', 'm.01b9db', 'm.0y9dwry', 'm.06j6l', 'm.0652zr5', 'm.01n7xgt', 'm.02vdbk8', 'm.0y9dxk3', 'm.01hl45_', 'm.0652zrb', 'm.01k9bm5', 'm.07_lq', 'm.09kkmyf', 'm.0ypycgr', 'm.0nf3l7x', 'm.06w81qp', 'm.02srz6', 'm.0y9dy_b', 'm.0105xc0x', 'm.0v43grl', 'm.065qbyj', 'm.010klcpt', 'm.0g6_q__', 'm.01hl48b', 'm.036ytw', 'm.064t9', 'm.0gg4h', 'm.06_y1fq', 'm.026z9', 'm.012mtk5b', 'm.01hl444', 'm.0jwt60n', 'g.1236srvy', 'm.047qwf7', 'm.01hl3jm', 'm.0ggx5q', 'm.06by7', 'm.07hqvg'] | Ground Truth: ['m.026k8yn']\n",
      "Q39 | F1: 0.5000 | Predicted: ['m.09c7w0', 'm.0fv_t', 'm.02hcv8'] | Ground Truth: ['m.0fv_t']\n",
      "Q40 | F1: 0.0260 | Predicted: ['m.081nh', 'm.0132tgw6', 'm.09kkmyr', 'm.0ngxnpl', 'm.01hl40t', 'm.0vypv96', 'm.0598rm4', 'm.01hl4l8', 'm.0qdng0g', 'm.096y7s', 'm.03jg4tt', 'm.02st0w', 'm.01hl4hb', 'm.0ypyc5q', 'm.0w508xx', 'm.0v41rbr', 'm.0j17fx_', 'm.01lc5', 'm.0v435l1', 'm.026k8yn', 'm.05bt6j', 'm.03jgszc', 'm.0598rmb', 'm.01hl2j6', 'm.0djb8gt', 'm.0407f', 'm.04ct6p', 'm.021_z5', 'm.0y4qyrn', 'm.02lkt', 'm.0k0tp0', 'g.11bbxlkxxc', 'm.02vjzr', 'm.0n1cs5l', 'm.0y9dy4w', 'm.01hl3t4', 'm.02st1p', 'm.06308p', 'm.0q8flcq', 'm.01b9db', 'm.0y9dwry', 'm.06j6l', 'm.0652zr5', 'm.01n7xgt', 'm.02vdbk8', 'm.0y9dxk3', 'm.01hl45_', 'm.0652zrb', 'm.01k9bm5', 'm.07_lq', 'm.09kkmyf', 'm.0ypycgr', 'm.0nf3l7x', 'm.06w81qp', 'm.02srz6', 'm.0y9dy_b', 'm.0105xc0x', 'm.0v43grl', 'm.065qbyj', 'm.010klcpt', 'm.0g6_q__', 'm.01hl48b', 'm.036ytw', 'm.064t9', 'm.0gg4h', 'm.06_y1fq', 'm.026z9', 'm.012mtk5b', 'm.01hl444', 'm.0jwt60n', 'g.1236srvy', 'm.047qwf7', 'm.01hl3jm', 'm.0ggx5q', 'm.06by7', 'm.07hqvg'] | Ground Truth: ['m.07_lq']\n",
      "Q41 | F1: 0.6667 | Predicted: ['m.09c7w0', 'm.02fqwt', 'm.0vzm', 'm.02hczc'] | Ground Truth: ['m.02hczc', 'm.02fqwt']\n",
      "Q42 | F1: 0.2118 | Predicted: ['m.081nh', 'm.0132tgw6', 'm.09kkmyr', 'm.0ngxnpl', 'm.01hl40t', 'm.0vypv96', 'm.0598rm4', 'm.01hl4l8', 'm.0qdng0g', 'm.096y7s', 'm.03jg4tt', 'm.02st0w', 'm.01hl4hb', 'm.0ypyc5q', 'm.0w508xx', 'm.0v41rbr', 'm.0j17fx_', 'm.01lc5', 'm.0v435l1', 'm.026k8yn', 'm.05bt6j', 'm.03jgszc', 'm.0598rmb', 'm.01hl2j6', 'm.0djb8gt', 'm.0407f', 'm.04ct6p', 'm.021_z5', 'm.0y4qyrn', 'm.02lkt', 'm.0k0tp0', 'g.11bbxlkxxc', 'm.02vjzr', 'm.0n1cs5l', 'm.0y9dy4w', 'm.01hl3t4', 'm.02st1p', 'm.06308p', 'm.0q8flcq', 'm.01b9db', 'm.0y9dwry', 'm.06j6l', 'm.0652zr5', 'm.01n7xgt', 'm.02vdbk8', 'm.0y9dxk3', 'm.01hl45_', 'm.0652zrb', 'm.01k9bm5', 'm.07_lq', 'm.09kkmyf', 'm.0ypycgr', 'm.0nf3l7x', 'm.06w81qp', 'm.02srz6', 'm.0y9dy_b', 'm.0105xc0x', 'm.0v43grl', 'm.065qbyj', 'm.010klcpt', 'm.0g6_q__', 'm.01hl48b', 'm.036ytw', 'm.064t9', 'm.0gg4h', 'm.06_y1fq', 'm.026z9', 'm.012mtk5b', 'm.01hl444', 'm.0jwt60n', 'g.1236srvy', 'm.047qwf7', 'm.01hl3jm', 'm.0ggx5q', 'm.06by7', 'm.07hqvg'] | Ground Truth: ['m.02vjzr', 'm.02x8m', 'm.05bt6j', 'm.02bqnt', 'm.03c34yl', 'm.064t9', 'm.021_z5', 'm.025sc50', 'm.026z9', 'm.06j6l', 'm.0ggx5q', 'm.02lnbg', 'm.02lkt', 'm.0gywn', 'm.06by7']\n",
      "Q43 | F1: 0.0000 | Predicted: ['m.0b28z', 'm.04g4s8k', 'm.02lctm', 'm.03v0t', 'm.0vzm', 'm.0mmyl', 'm.01_77x6', 'm.04g4s8q', 'm.03q1lvy', 'm.0bx8pn', 'm.042g7t', 'm.01l1jx', 'm.0j729', 'm.01d9r3', 'm.01_d4', 'm.03q1lvh', 'm.06yxd', 'm.02fqwt', 'm.03q1lw4', 'm.0gs227r', 'm.0fv_t', 'm.059g4', 'm.06_7k', 'm.01_6v6w', 'm.07b_l', 'm.027hqc_', 'm.0w7m2x9', 'm.02hcv8', 'm.027wjl3', 'm.02lcqs', 'm.03q1lwl', 'm.02hczc', 'm.02z431v', 'm.02lcrv', 'm.02jw0z', 'm.027wj2_', 'm.03q1lvq', 'm.04g4s90', 'm.09nqf', 'm.0_hhjkj', 'm.01ky66', 'm.09sh942', 'm.01_6pxw', 'm.04g4s8w', 'm.0c9rw5'] | Ground Truth: ['m.07w8f', 'm.0flw86', 'm.01lp8', 'm.092bf5', 'm.03j6c', 'm.0kpl', 'm.03_gx']\n",
      "Q44 | F1: 0.2609 | Predicted: ['m.09hxlzp', 'm.04yxtkk', 'm.04fvgyq', 'm.09r3f', 'm.04yz499', 'm.064xssc', 'm.06vr2', 'm.02p89zz', 'm.0542n', 'm.04yykw2', 'm.02fmsl', 'm.04yy5qr', 'm.04yv_x3', 'm.04h_fs5', 'm.07jwr', 'm.04yvvkf', 'm.0jnh', 'm.04yv_tf', 'm.049yn2t', 'm.049xrhp'] | Ground Truth: ['m.02g1n3', 'm.08knpp', 'm.014s1b', 'm.06bjm', 'm.06kd6y', 'm.07h0q2', 'm.01g0dx', 'm.09r3f', 'm.0bxl0n', 'm.0h42fq', 'm.01jnys', 'm.062pq1', 'm.01g09p', 'm.0b364c', 'm.02fmsl', 'm.02pjz77', 'm.02fnwp', 'm.04m2k9', 'm.01bh42', 'm.01k0s4', 'm.05b6mx0', 'm.05f78h', 'm.020_gf', 'm.066xwk', 'm.0247w9', 'm.0drwsm9', 'm.0jnh', 'm.01hgpt', 'm.01gphc', 'm.014pd3']\n",
      "Q45 | F1: 0.2609 | Predicted: ['m.09hxlzp', 'm.04yxtkk', 'm.04fvgyq', 'm.09r3f', 'm.04yz499', 'm.064xssc', 'm.06vr2', 'm.02p89zz', 'm.0542n', 'm.04yykw2', 'm.02fmsl', 'm.04yy5qr', 'm.04yv_x3', 'm.04h_fs5', 'm.07jwr', 'm.04yvvkf', 'm.0jnh', 'm.04yv_tf', 'm.049yn2t', 'm.049xrhp'] | Ground Truth: ['m.02g1n3', 'm.08knpp', 'm.014s1b', 'm.06bjm', 'm.06kd6y', 'm.07h0q2', 'm.01g0dx', 'm.09r3f', 'm.0bxl0n', 'm.0h42fq', 'm.01jnys', 'm.062pq1', 'm.01g09p', 'm.0b364c', 'm.02fmsl', 'm.02pjz77', 'm.02fnwp', 'm.04m2k9', 'm.01bh42', 'm.01k0s4', 'm.05b6mx0', 'm.05f78h', 'm.020_gf', 'm.066xwk', 'm.0247w9', 'm.0drwsm9', 'm.0jnh', 'm.01hgpt', 'm.01gphc', 'm.014pd3']\n",
      "Q46 | F1: 0.0000 | Predicted: ['m.081nh', 'm.0132tgw6', 'm.09kkmyr', 'm.0ngxnpl', 'm.01hl40t', 'm.0vypv96', 'm.0598rm4', 'm.01hl4l8', 'm.0qdng0g', 'm.096y7s', 'm.03jg4tt', 'm.02st0w', 'm.01hl4hb', 'm.0ypyc5q', 'm.0w508xx', 'm.0v41rbr', 'm.0j17fx_', 'm.01lc5', 'm.0v435l1', 'm.026k8yn', 'm.05bt6j', 'm.03jgszc', 'm.0598rmb', 'm.01hl2j6', 'm.0djb8gt', 'm.0407f', 'm.04ct6p', 'm.021_z5', 'm.0y4qyrn', 'm.02lkt', 'm.0k0tp0', 'g.11bbxlkxxc', 'm.02vjzr', 'm.0n1cs5l', 'm.0y9dy4w', 'm.01hl3t4', 'm.02st1p', 'm.06308p', 'm.0q8flcq', 'm.01b9db', 'm.0y9dwry', 'm.06j6l', 'm.0652zr5', 'm.01n7xgt', 'm.02vdbk8', 'm.0y9dxk3', 'm.01hl45_', 'm.0652zrb', 'm.01k9bm5', 'm.07_lq', 'm.09kkmyf', 'm.0ypycgr', 'm.0nf3l7x', 'm.06w81qp', 'm.02srz6', 'm.0y9dy_b', 'm.0105xc0x', 'm.0v43grl', 'm.065qbyj', 'm.010klcpt', 'm.0g6_q__', 'm.01hl48b', 'm.036ytw', 'm.064t9', 'm.047qwf7', 'm.06_y1fq', 'm.026z9', 'm.012mtk5b', 'm.01hl444', 'm.0jwt60n', 'g.1236srvy', 'm.01hl3jm', 'm.0ggx5q', 'm.06by7', 'm.07hqvg'] | Ground Truth: ['m.06lhpy']\n",
      "Q47 | F1: 0.0256 | Predicted: ['m.0vypv96', 'm.096y7s', 'm.01hl4hb', 'm.0ypyc5q', 'm.01lc5', 'm.0v435l1', 'm.01hl2j6', 'm.04ct6p', 'm.0y4qyrn', 'g.11bbxlkxxc', 'm.09c7w0', 'm.0y9dwry', 'm.01n7xgt', 'm.02vdbk8', 'm.0y9dxk3', 'm.07_lq', 'm.0ypycgr', 'm.0nf3l7x', 'g.1236srvy', 'm.026z9', 'm.012mtk5b', 'm.09kkmyr', 'm.01hl40t', 'm.0j17fx_', 'm.021_z5', 'm.02st1p', 'm.06308p', 'm.06j6l', 'm.01hl45_', 'm.02srz6', 'm.010klcpt', 'm.01k9bm5', 'm.036ytw', 'm.01hl444', 'm.01hl3jm', 'm.0jwt60n', 'm.07hqvg', 'm.081nh', 'm.0ngxnpl', 'm.0598rm4', 'm.0qdng0g', 'm.0w508xx', 'm.05bt6j', 'm.02lkt', 'm.01b9db', 'm.06w81qp', 'm.0105xc0x', 'm.065qbyj', 'm.0gg4h', 'm.064t9', 'm.047qwf7', 'm.06_y1fq', 'm.06by7', 'm.0132tgw6', 'm.01hl4l8', 'm.03jg4tt', 'm.02st0w', 'm.0v41rbr', 'm.026k8yn', 'm.03jgszc', 'm.0598rmb', 'm.0djb8gt', 'm.0407f', 'm.0k0tp0', 'm.02vjzr', 'm.0n1cs5l', 'm.0y9dy4w', 'm.01hl3t4', 'm.0q8flcq', 'm.0652zr5', 'm.0652zrb', 'm.09kkmyf', 'm.0v43grl', 'm.0y9dy_b', 'm.0g6_q__', 'm.01hl48b', 'm.0ggx5q'] | Ground Truth: ['m.0gg4h']\n",
      "Q48 | F1: 0.4000 | Predicted: ['m.09c7w0', 'm.02fqwt', 'm.0vzm', 'm.02hczc'] | Ground Truth: ['m.0vzm']\n",
      "Q49 | F1: 0.1538 | Predicted: ['m.081nh', 'm.0132tgw6', 'm.09kkmyr', 'm.01hl40t', 'm.0vypv96', 'm.0598rm4', 'm.01hl4l8', 'm.096y7s', 'm.03jg4tt', 'm.02st0w', 'm.01hl4hb', 'm.0j17fx_', 'm.0w508xx', 'm.01lc5', 'm.026k8yn', 'm.05bt6j', 'm.03jgszc', 'm.0598rmb', 'm.01hl2j6', 'm.0407f', 'm.04ct6p', 'm.021_z5', 'm.0y4qyrn', 'm.02lkt', 'g.11bbxlkxxc', 'm.02vjzr', 'm.01hl3t4', 'm.02st1p', 'm.06308p', 'm.0q8flcq', 'm.01b9db', 'm.06j6l', 'm.0652zr5', 'm.01n7xgt', 'm.01hl45_', 'm.0652zrb', 'm.01k9bm5', 'm.07_lq', 'm.09kkmyf', 'm.0nf3l7x', 'm.06w81qp', 'm.02srz6', 'm.065qbyj', 'm.010klcpt', 'm.0g6_q__', 'm.01hl48b', 'm.036ytw', 'm.064t9', 'm.0gg4h', 'm.06_y1fq', 'm.026z9', 'm.012mtk5b', 'm.01hl444', 'm.0jwt60n', 'g.1236srvy', 'm.047qwf7', 'm.01hl3jm', 'm.0ggx5q', 'm.06by7', 'm.07hqvg'] | Ground Truth: ['m.081nh', 'm.0407f', 'm.01b9db', 'm.04ct6p', 'm.01lc5']\n",
      "Q50 | F1: 0.8325 | Predicted: ['m.01_6qrp', 'm.025v4fb', 'm.0n8yyvt', 'm.04h9qj', 'm.07nqmg_', 'm.07nqmgb', 'm.01_6pgd', 'm.07nqmfg', 'm.07nqmkd', 'm.01_6q1q', 'm.07nqmfp', 'm.07nqmg3', 'm.01_6s0l', 'm.07qbm4', 'm.07nqmly', 'm.03dpqrm', 'm.01_6ph7', 'm.0c7ln', 'm.07nqmhn', 'm.01_6v6w', 'm.0g_8d0', 'm.07nqml1', 'm.09c7w0', 'm.01_6t95', 'm.0288msl', 'm.07nqml8', 'm.01_6rf1', 'm.02z431v', 'm.07nqmgs', 'm.03dpqpb', 'm.02jw0z', 'm.01_795b', 'm.0d9wz', 'm.01ky66', 'm.01_6sws', 'm.01_6t43', 'm.026qfyq', 'm.03v0t', 'm.03y4l3', 'm.01_77x6', 'm.05zv09', 'm.01_6pdj', 'm.027hrnx', 'm.07nqms5', 'm.01_7140', 'm.01_6q0k', 'm.01_6pvy', 'm.01_75zb', 'm.01_6p9s', 'm.0j2m3px', 'm.07nqmf7', 'm.02vv_6w', 'm.01_78wb', 'm.094154', 'm.01_6qjr', 'm.08qt9p', 'm.07nqmkv', 'm.01_6pmb', 'm.0n4_xtw', 'm.01_6r82', 'm.02rvwrv', 'm.09sh942', 'm.07nqmkm', 'm.01_6ps8', 'm.07nqmh6', 'm.07nqmj2', 'm.01_77qt', 'm.01l1jx', 'm.07nqmlq', 'm.01_6t4y', 'm.07nqmjz', 'm.07nqmgk', 'm.07nqmjj', 'm.01_6p_k', 'm.01_6q8p', 'm.01_6y3n', 'm.0gs227r', 'm.07nqmk5', 'm.01_6p6k', 'm.01_6qp4', 'm.01_6smy', 'm.01_6v4j', 'm.07nqmhf', 'm.0d4v7r', 'm.065rklh', 'm.07nqmfx', 'm.01_6tgy', 'm.01_6r78', 'm.0b0sh', 'm.01_6qsj', 'm.0b28z', 'm.07nqmhw', 'm.01_7gfz', 'm.01_6pp5', 'm.01_73_n', 'm.07nqmlh', 'm.01_6t1b', 'm.01_6rfw', 'm.07nqmjr', 'm.04rjc8', 'm.01dlzc', 'm.01_6p8l', 'm.02fqwt', 'm.021czc', 'm.0bl8mx', 'm.01_6r1z', 'm.06_7k', 'm.01_78lh', 'm.027hqc_', 'm.0w7m2x9', 'm.01_6t5r', 'm.01_6pnb', 'm.01_6s_6', 'm.01_6q9q', 'm.01_71cx', 'm.07nqmj9', 'm.01_72xz', 'm.01_6zk1', 'm.01_6qz6', 'm.01_78nm', 'm.01_6qcm', 'm.01_6pxw'] | Ground Truth: ['m.01_6qrp', 'm.07nqmg_', 'm.07nqmgb', 'm.01_6pgd', 'm.07nqmfg', 'm.01_6q1q', 'm.07nqmkd', 'm.07nqmfp', 'm.07nqmg3', 'm.01_6s0l', 'm.03dpqrm', 'm.07nqmly', 'm.01_6ph7', 'm.07nqmhn', 'm.01_6v6w', 'm.07nqml1', 'm.01_6t95', 'm.07nqml8', 'm.01_6rf1', 'm.07nqmgs', 'm.03dpqpb', 'm.01_795b', 'm.01_6sws', 'm.01_6t43', 'm.01_77x6', 'm.01_6pdj', 'm.07nqms5', 'm.01_7140', 'm.01_6q0k', 'm.01_6pvy', 'm.01_75zb', 'm.01_6p9s', 'm.07nqmf7', 'm.01_78wb', 'm.01_6qjr', 'm.07nqmkv', 'm.01_6pmb', 'm.01_6r82', 'm.09sh942', 'm.07nqmkm', 'm.01_6ps8', 'm.07nqmh6', 'm.07nqmj2', 'm.01_77qt', 'm.07nqmlq', 'm.01_6t4y', 'm.07nqmjz', 'm.07nqmgk', 'm.07nqmjj', 'm.01_6p_k', 'm.01_6q8p', 'm.01_6y3n', 'm.07nqmk5', 'm.0gs227r', 'm.01_6p6k', 'm.01_6qp4', 'm.01_6smy', 'm.01_6v4j', 'm.07nqmhf', 'm.065rklh', 'm.01_6tgy', 'm.07nqmfx', 'm.01_6r78', 'm.01_6qsj', 'm.07nqmhw', 'm.01_7gfz', 'm.01_6pp5', 'm.01_73_n', 'm.07nqmlh', 'm.01_6t1b', 'm.01_6rfw', 'm.07nqmjr', 'm.01_6p8l', 'm.01_6r1z', 'm.01_78lh', 'm.01_6t5r', 'm.01_6pnb', 'm.01_6s_6', 'm.01_6q9q', 'm.01_71cx', 'm.07nqmj9', 'm.01_72xz', 'm.01_6zk1', 'm.01_6qz6', 'm.01_78nm', 'm.01_6qcm', 'm.01_6pxw']\n",
      "Q51 | F1: 0.0163 | Predicted: ['m.01_6qrp', 'm.025v4fb', 'm.0n8yyvt', 'm.04h9qj', 'm.07nqmg_', 'm.07nqmgb', 'm.01_6pgd', 'm.07nqmfg', 'm.07nqmkd', 'm.01_6q1q', 'm.07nqmfp', 'm.07nqmg3', 'm.01_6s0l', 'm.07qbm4', 'm.07nqmly', 'm.03dpqrm', 'm.01_6ph7', 'm.0c7ln', 'm.07nqmhn', 'm.01_6v6w', 'm.0g_8d0', 'm.07nqml1', 'm.09c7w0', 'm.01_6t95', 'm.0288msl', 'm.07nqml8', 'm.01_6rf1', 'm.02z431v', 'm.07nqmgs', 'm.03dpqpb', 'm.02jw0z', 'm.01_795b', 'm.0d9wz', 'm.01ky66', 'm.01_6sws', 'm.01_6t43', 'm.026qfyq', 'm.03v0t', 'm.03y4l3', 'm.01_77x6', 'm.05zv09', 'm.01_6pdj', 'm.027hrnx', 'm.07nqms5', 'm.01_7140', 'm.01_6q0k', 'm.01_6pvy', 'm.01_75zb', 'm.01_6p9s', 'm.0j2m3px', 'm.07nqmf7', 'm.02vv_6w', 'm.01_78wb', 'm.094154', 'm.01_6qjr', 'm.08qt9p', 'm.07nqmkv', 'm.01_6pmb', 'm.0n4_xtw', 'm.01_6r82', 'm.02rvwrv', 'm.09sh942', 'm.07nqmkm', 'm.01_6ps8', 'm.07nqmh6', 'm.07nqmj2', 'm.01_77qt', 'm.07nqmlq', 'm.01l1jx', 'm.01_6t4y', 'm.07nqmjz', 'm.07nqmgk', 'm.07nqmjj', 'm.01_6p_k', 'm.01_6q8p', 'm.01_6y3n', 'm.0gs227r', 'm.07nqmk5', 'm.01_6p6k', 'm.01_6qp4', 'm.01_6smy', 'm.01_6v4j', 'm.07nqmhf', 'm.0d4v7r', 'm.065rklh', 'm.07nqmfx', 'm.01_6tgy', 'm.01_6r78', 'm.0b0sh', 'm.01_6qsj', 'm.0b28z', 'm.07nqmhw', 'm.01_7gfz', 'm.01_6pp5', 'm.01_73_n', 'm.07nqmlh', 'm.01_6t1b', 'm.01_6rfw', 'm.07nqmjr', 'm.04rjc8', 'm.01dlzc', 'm.01_6p8l', 'm.02fqwt', 'm.021czc', 'm.0bl8mx', 'm.01_6r1z', 'm.06_7k', 'm.01_78lh', 'm.027hqc_', 'm.0w7m2x9', 'm.01_6t5r', 'm.01_6pnb', 'm.01_6s_6', 'm.01_6q9q', 'm.01_71cx', 'm.07nqmj9', 'm.01_72xz', 'm.01_6zk1', 'm.01_6qz6', 'm.01_78nm', 'm.01_6qcm', 'm.01_6pxw'] | Ground Truth: ['m.03v0t']\n",
      "Q52 | F1: 0.0909 | Predicted: ['m.09hxlzp', 'm.04yxtkk', 'm.0mmyl', 'm.04fvgyq', 'm.09r3f', 'm.04yz499', 'm.064xssc', 'm.06vr2', 'm.02p89zz', 'm.0542n', 'm.04yykw2', 'm.02fmsl', 'm.04yy5qr', 'm.04yv_x3', 'm.04h_fs5', 'm.07jwr', 'm.04yvvkf', 'm.0jnh', 'm.04yv_tf', 'm.049yn2t', 'm.049xrhp'] | Ground Truth: ['m.0mmyl']\n",
      "Q53 | F1: 0.0000 | Predicted: ['m.081nh', 'm.0132tgw6', 'm.09kkmyr', 'm.0ngxnpl', 'm.01hl40t', 'm.0vypv96', 'm.0598rm4', 'm.01hl4l8', 'm.0qdng0g', 'm.096y7s', 'm.03jg4tt', 'm.02st0w', 'm.01hl4hb', 'm.0ypyc5q', 'm.0w508xx', 'm.0v41rbr', 'm.0j17fx_', 'm.01lc5', 'm.0v435l1', 'm.026k8yn', 'm.05bt6j', 'm.03jgszc', 'm.0598rmb', 'm.01hl2j6', 'm.0djb8gt', 'm.0407f', 'm.04ct6p', 'm.021_z5', 'm.0y4qyrn', 'm.02lkt', 'm.0k0tp0', 'g.11bbxlkxxc', 'm.02vjzr', 'm.0n1cs5l', 'm.0y9dy4w', 'm.01hl3t4', 'm.02st1p', 'm.06308p', 'm.0q8flcq', 'm.01b9db', 'm.0y9dwry', 'm.06j6l', 'm.0652zr5', 'm.01n7xgt', 'm.02vdbk8', 'm.0y9dxk3', 'm.01hl45_', 'm.0652zrb', 'm.01k9bm5', 'm.07_lq', 'm.09kkmyf', 'm.0ypycgr', 'm.0nf3l7x', 'm.06w81qp', 'm.02srz6', 'm.0y9dy_b', 'm.0105xc0x', 'm.0v43grl', 'm.065qbyj', 'm.010klcpt', 'm.0g6_q__', 'm.01hl48b', 'm.036ytw', 'm.064t9', 'm.047qwf7', 'm.06_y1fq', 'm.026z9', 'm.012mtk5b', 'm.01hl444', 'm.0jwt60n', 'g.1236srvy', 'm.01hl3jm', 'm.0ggx5q', 'm.06by7', 'm.07hqvg'] | Ground Truth: ['m.06lhpy']\n",
      "Q54 | F1: 0.0000 | Predicted: ['m.02h7cgv', 'm.04g36q3', 'm.0jwk2zd'] | Ground Truth: ['m.06jncs']\n",
      "Q56 | F1: 0.1250 | Predicted: ['m.0b28z', 'm.04g4s8k', 'm.02lctm', 'm.03v0t', 'm.0vzm', 'm.0mmyl', 'm.01_77x6', 'm.04g4s8q', 'm.03q1lvy', 'm.0bx8pn', 'm.042g7t', 'm.01l1jx', 'm.0j729', 'm.01d9r3', 'm.01_d4', 'm.03q1lvh', 'm.06yxd', 'm.02fqwt', 'm.03q1lw4', 'm.0gs227r', 'm.0fv_t', 'm.059g4', 'm.06_7k', 'm.01_6v6w', 'm.07b_l', 'm.027hqc_', 'm.0w7m2x9', 'm.02hcv8', 'm.027wjl3', 'm.02lcqs', 'm.03q1lwl', 'm.02hczc', 'm.02z431v', 'm.02lcrv', 'm.02jw0z', 'm.027wj2_', 'm.03q1lvq', 'm.04g4s90', 'm.09nqf', 'm.0_hhjkj', 'm.01ky66', 'm.09sh942', 'm.01_6pxw', 'm.04g4s8w', 'm.0c9rw5'] | Ground Truth: ['m.0j729', 'm.0c9rw5', 'm.01d9r3']\n",
      "Q57 | F1: 0.1250 | Predicted: ['m.0b28z', 'm.04g4s8k', 'm.02lctm', 'm.03v0t', 'm.0vzm', 'm.0mmyl', 'm.01_77x6', 'm.04g4s8q', 'm.03q1lvy', 'm.0bx8pn', 'm.042g7t', 'm.01l1jx', 'm.0j729', 'm.01d9r3', 'm.01_d4', 'm.03q1lvh', 'm.06yxd', 'm.02fqwt', 'm.03q1lw4', 'm.0gs227r', 'm.0fv_t', 'm.059g4', 'm.06_7k', 'm.01_6v6w', 'm.07b_l', 'm.027hqc_', 'm.0w7m2x9', 'm.02hcv8', 'm.027wjl3', 'm.02lcqs', 'm.03q1lwl', 'm.02hczc', 'm.02z431v', 'm.02lcrv', 'm.02jw0z', 'm.027wj2_', 'm.03q1lvq', 'm.04g4s90', 'm.09nqf', 'm.0_hhjkj', 'm.01ky66', 'm.09sh942', 'm.01_6pxw', 'm.04g4s8w', 'm.0c9rw5'] | Ground Truth: ['m.0j729', 'm.0c9rw5', 'm.01d9r3']\n",
      "\n",
      " Average F1 Score across questions: 0.1754\n"
     ]
    }
   ],
   "source": [
    "folder_path = os.environ.get(\"HW6_Q4_DATSET\")\n",
    "run_qa_pipeline(\n",
    "    kg_path=folder_path + 'knowledge_graph.txt',\n",
    "    questions_path=folder_path + 'question.txt',\n",
    "    w2v_path=folder_path + 'word2vec_train_dev.dat.txt'  \n",
    ")"
   ]
  }
 ],
 "metadata": {
  "kernelspec": {
   "display_name": "chatbot_env",
   "language": "python",
   "name": "python3"
  },
  "language_info": {
   "codemirror_mode": {
    "name": "ipython",
    "version": 3
   },
   "file_extension": ".py",
   "mimetype": "text/x-python",
   "name": "python",
   "nbconvert_exporter": "python",
   "pygments_lexer": "ipython3",
   "version": "3.9.6"
  }
 },
 "nbformat": 4,
 "nbformat_minor": 5
}
