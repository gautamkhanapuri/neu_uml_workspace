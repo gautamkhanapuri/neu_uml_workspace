{
 "cells": [
  {
   "cell_type": "code",
   "execution_count": 7,
   "metadata": {},
   "outputs": [],
   "source": [
    "import numpy as np\n",
    "import matplotlib.pyplot as plt\n",
    "from sklearn.datasets import fetch_20newsgroups\n",
    "from sklearn.feature_extraction.text import TfidfVectorizer\n",
    "from sklearn.linear_model import LogisticRegression\n",
    "from sklearn.feature_selection import SelectFromModel, SelectKBest\n",
    "from sklearn.model_selection import train_test_split\n",
    "from sklearn.metrics import accuracy_score, classification_report"
   ]
  },
  {
   "cell_type": "code",
   "execution_count": 2,
   "metadata": {},
   "outputs": [],
   "source": [
    "# Load 20NG dataset with selected categories\n",
    "categories = ['alt.atheism', 'sci.med', 'sci.electronics', 'comp.graphics', 'talk.politics.guns', 'sci.crypt']\n",
    "newsgroups = fetch_20newsgroups(subset='all', categories=categories, remove=('headers', 'footers', 'quotes'))\n",
    "\n",
    "# Convert text data to TF-IDF feature matrix\n",
    "vectorizer = TfidfVectorizer(max_features=5000, stop_words='english')\n",
    "X = vectorizer.fit_transform(newsgroups.data)\n",
    "y = newsgroups.target\n",
    "\n",
    "# Split into train/test sets\n",
    "X_train, X_test, y_train, y_test = train_test_split(X, y, test_size=0.2, random_state=42)"
   ]
  },
  {
   "cell_type": "code",
   "execution_count": null,
   "metadata": {},
   "outputs": [
    {
     "name": "stdout",
     "output_type": "stream",
     "text": [
      "Accuracy after L1-based feature selection: 0.55\n",
      "              precision    recall  f1-score   support\n",
      "\n",
      "           0       0.81      0.31      0.45       154\n",
      "           1       0.81      0.58      0.67       199\n",
      "           2       0.87      0.65      0.74       211\n",
      "           3       0.29      0.80      0.43       192\n",
      "           4       0.55      0.43      0.49       192\n",
      "           5       0.92      0.48      0.63       182\n",
      "\n",
      "    accuracy                           0.55      1130\n",
      "   macro avg       0.71      0.54      0.57      1130\n",
      "weighted avg       0.71      0.55      0.57      1130\n",
      "\n",
      "Accuracy before L1-based feature selection: 0.84\n",
      "              precision    recall  f1-score   support\n",
      "\n",
      "           0       0.89      0.85      0.87       154\n",
      "           1       0.85      0.88      0.87       199\n",
      "           2       0.94      0.81      0.87       211\n",
      "           3       0.69      0.86      0.76       192\n",
      "           4       0.84      0.84      0.84       192\n",
      "           5       0.87      0.79      0.83       182\n",
      "\n",
      "    accuracy                           0.84      1130\n",
      "   macro avg       0.85      0.84      0.84      1130\n",
      "weighted avg       0.85      0.84      0.84      1130\n",
      "\n",
      "Top 20 Selected Features: ['fees' 'feels' 'feelings' 'feeling' 'feel' 'feeding' 'feedback' 'feed'\n",
      " 'fee' 'feds' 'federalist' 'federal' 'fed' 'felony' 'felt' 'feustel'\n",
      " 'fever' 'filling' 'filled' 'filename']\n"
     ]
    }
   ],
   "source": [
    "# Train L1 - regularized logistic regression model\n",
    "l1_model = LogisticRegression(penalty='l1', solver='liblinear', C=0.1)\n",
    "l1_model.fit(X_train, y_train)\n",
    "\n",
    "# Get absolute coefficients and sort them.\n",
    "coef_abs = np.abs(l1_model.coef_).sum(axis=0)\n",
    "top_200_indices = np.argsort(coef_abs)[-200:]\n",
    "\n",
    "#Transform the dataset using only these top 200 features\n",
    "X_train_top = X_train[:, top_200_indices]\n",
    "X_test_top = X_test[:, top_200_indices]\n",
    "\n",
    "# Train a new logistic regression model on the transformed dataset\n",
    "new_model = LogisticRegression(penalty='l2', solver='liblinear')\n",
    "new_model.fit(X_train_top, y_train)\n",
    "\n",
    "# Evaluate the model\n",
    "y_pred = new_model.predict(X_test_top)\n",
    "accuracy = accuracy_score(y_test, y_pred)\n",
    "print(f\"Accuracy after L1-based feature selection: {accuracy:.2f}\")\n",
    "print(classification_report(y_test, y_pred))\n",
    "\n",
    "model = LogisticRegression(penalty='l2', solver='liblinear')\n",
    "model.fit(X_train, y_train)\n",
    "y_pred_old = model.predict(X_test)\n",
    "accuracy_old = accuracy_score(y_test, y_pred_old)\n",
    "print(f\"Accuracy before L1-based feature selection: {accuracy_old:.2f}\")\n",
    "print(classification_report(y_test, y_pred_old))\n",
    "\n",
    "\n",
    "# Display top 20 selected words\n",
    "selected_features = np.array(vectorizer.get_feature_names_out())[top_200_indices]\n",
    "print(\"Top 20 Selected Features:\", selected_features[:20])"
   ]
  },
  {
   "cell_type": "code",
   "execution_count": null,
   "metadata": {},
   "outputs": [],
   "source": [
    "# selector = SelectKBest(LogisticRegression(penalty='l1', solver='liblinear', C=0.1), k=200)\n",
    "# X_train_selected = selector.fit_transform(X_train, y_train)\n",
    "# X_test_selected = selector.transform(X_test)\n",
    "\n",
    "# m = LogisticRegression(penalty='l2', solver='liblinear')\n",
    "# m.fit(X_train_selected, y_train)\n",
    "\n",
    "# # Evaluate the model\n",
    "# y_pred = m.predict(X_test_selected)\n",
    "# accuracy = accuracy_score(y_test, y_pred)\n",
    "# print(f\"Accuracy after L1-based feature selection: {accuracy:.2f}\")\n",
    "# print(classification_report(y_test, y_pred))"
   ]
  }
 ],
 "metadata": {
  "kernelspec": {
   "display_name": "chatbot_env",
   "language": "python",
   "name": "python3"
  },
  "language_info": {
   "codemirror_mode": {
    "name": "ipython",
    "version": 3
   },
   "file_extension": ".py",
   "mimetype": "text/x-python",
   "name": "python",
   "nbconvert_exporter": "python",
   "pygments_lexer": "ipython3",
   "version": "3.9.6"
  }
 },
 "nbformat": 4,
 "nbformat_minor": 2
}
