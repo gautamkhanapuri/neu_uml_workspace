{
 "cells": [
  {
   "cell_type": "markdown",
   "id": "03b9971e",
   "metadata": {},
   "source": [
    "# This is NOT the notebook of solutions for question 1 of HW1. The correct file is hw1_question1_without_pd.ipynb"
   ]
  },
  {
   "cell_type": "code",
   "execution_count": 1,
   "id": "initial_id",
   "metadata": {
    "ExecuteTime": {
     "end_time": "2025-01-11T04:39:58.108920Z",
     "start_time": "2025-01-11T04:39:57.609409Z"
    },
    "collapsed": true
   },
   "outputs": [],
   "source": [
    "import pandas as pd"
   ]
  },
  {
   "cell_type": "code",
   "execution_count": 19,
   "id": "7a5a7c2e66d918e",
   "metadata": {
    "ExecuteTime": {
     "end_time": "2025-01-11T06:11:49.169196Z",
     "start_time": "2025-01-11T06:11:49.163123Z"
    }
   },
   "outputs": [],
   "source": [
    "def parse_data(filename):\n",
    "    with open(filename, 'r') as fd:\n",
    "        lines = fd.readlines()\n",
    "\n",
    "    raw_data = pd.DataFrame({\"lines\":lines})\n",
    "\n",
    "    raw_data[\"group_id\"] = raw_data['lines'].str.startswith(\"#*\").cumsum()\n",
    "\n",
    "    raw_data['field'] = raw_data['lines'].str.extract(r\"^(#\\S)\")\n",
    "    raw_data = raw_data[raw_data['lines'] != \"\\n\"]\n",
    "    raw_data[\"value\"] = raw_data['lines'].str.extract(r\"^#\\S(.*)\").fillna(\"\")\n",
    "    raw_data.drop([\"lines\"], axis=1, inplace=True)\n",
    "    aggregated_data = (raw_data.groupby([\"group_id\", \"field\"])[\"value\"].apply(lambda x: x.tolist() if x.name == \"#%\" else \" \".join(x)).reset_index())\n",
    "    refined_data = aggregated_data.pivot(index=\"group_id\", columns=\"field\", values=\"value\")\n",
    "\n",
    "    refined_data = refined_data.rename(columns= {\n",
    "        \"#*\": \"title\",\n",
    "        \"#t\": \"year\",\n",
    "        \"#c\": \"venue\",\n",
    "        \"#@\": \"author\",\n",
    "        \"#i\": \"index\",\n",
    "        \"#!\": \"abstract\",\n",
    "        \"#%\": \"citations\"\n",
    "        }\n",
    "    )\n",
    "\n",
    "    refined_data = refined_data.reset_index(drop=True)\n",
    "    print(refined_data)\n",
    "    return refined_data"
   ]
  },
  {
   "cell_type": "code",
   "execution_count": 20,
   "id": "fd77baf2d8f7e9e1",
   "metadata": {
    "ExecuteTime": {
     "end_time": "2025-01-11T06:11:52.363808Z",
     "start_time": "2025-01-11T06:11:52.339946Z"
    }
   },
   "outputs": [
    {
     "name": "stdout",
     "output_type": "stream",
     "text": [
      "field                                           abstract citations  \\\n",
      "0                                                    NaN       NaN   \n",
      "1                                                    NaN       NaN   \n",
      "2                                                    NaN       NaN   \n",
      "3                                                    NaN       NaN   \n",
      "4                                                    NaN       NaN   \n",
      "..                                                   ...       ...   \n",
      "100                                                  NaN       NaN   \n",
      "101    From the Preface (See Front Matter for full Pr...       NaN   \n",
      "102                                                  NaN       NaN   \n",
      "103                                                  NaN       NaN   \n",
      "104                                                  NaN       NaN   \n",
      "\n",
      "field                                              title  \\\n",
      "0      MOSFET table look-up models for circuit simula...   \n",
      "1      The verification of the protection mechanisms ...   \n",
      "2      Another view of functional and multivalued dep...   \n",
      "3         Entity-relationship diagrams which are in BCNF   \n",
      "4                              The computer comes of age   \n",
      "..                                                   ...   \n",
      "100                         Managing systems maintenance   \n",
      "101    Smalltalk-80: the language and its implementation   \n",
      "102                 Tree automata and attribute grammars   \n",
      "103    Commutative grammars: the complexity of unifor...   \n",
      "104                      On the random oracle hypothesis   \n",
      "\n",
      "field                                             author  \\\n",
      "0                                                    NaN   \n",
      "1                                       Virgil D. Gligor   \n",
      "2                               M. Gyssens, J. Paredaens   \n",
      "3      Sushil Jajodia, Peter A. Ng, Frederick N. Spri...   \n",
      "4                                            Rene Moreau   \n",
      "..                                                   ...   \n",
      "100                                     William E. Perry   \n",
      "101                         Adele Goldberg, David Robson   \n",
      "102                                     Tsutomu Kamimura   \n",
      "103                                        Dung T. Huynh   \n",
      "104                                      Stuart A. Kurtz   \n",
      "\n",
      "field                                              venue    index  year  \n",
      "0                          Integration, the VLSI Journal    ndex1  1984  \n",
      "1          International Journal of Parallel Programming    ndex2  1984  \n",
      "2          International Journal of Parallel Programming    ndex3  1984  \n",
      "3          International Journal of Parallel Programming    ndex4  1984  \n",
      "4                              The computer comes of age    ndex5  1984  \n",
      "..                                                   ...      ...   ...  \n",
      "100                         Managing systems maintenance  ndex101  1983  \n",
      "101    Smalltalk-80: the language and its implementation  ndex102  1983  \n",
      "102                              Information and Control  ndex103  1984  \n",
      "103                              Information and Control  ndex104  1984  \n",
      "104                              Information and Control  ndex105  1984  \n",
      "\n",
      "[105 rows x 7 columns]\n"
     ]
    }
   ],
   "source": [
    "filepath = \"/Users/ajeyk/neu_uml_workspace/test_data.txt\"\n",
    "df = parse_data(filepath)"
   ]
  },
  {
   "cell_type": "markdown",
   "id": "ea065a5de40aec80",
   "metadata": {},
   "source": [
    "## A. Compute the number of distinct authors, publication venues, publications, and citations/references"
   ]
  },
  {
   "cell_type": "code",
   "execution_count": 22,
   "id": "3b9ef75cea2fe9b3",
   "metadata": {
    "ExecuteTime": {
     "end_time": "2025-01-11T06:26:10.141392Z",
     "start_time": "2025-01-11T06:26:10.135979Z"
    }
   },
   "outputs": [
    {
     "name": "stdout",
     "output_type": "stream",
     "text": [
      "[nan 'Virgil D. Gligor' 'M. Gyssens, J. Paredaens'\n",
      " 'Sushil Jajodia, Peter A. Ng, Frederick N. Springsteel' 'Rene Moreau'\n",
      " 'A. G. Akritas, S. S. Lyengar, A. A. Rampuria'\n",
      " 'C. C. Chang, M. W. Du, R. C. T. Lee' 'David Haussler' 'Hans Röck'\n",
      " 'George M. Trojan' 'John E. Savage' 'Joseph Já Já'\n",
      " 'John S. Mallozzi, Nicholas J. De Lillo' 'Karel Culik, II, Arto Salomaa'\n",
      " 'John C. Mitchell' 'Uzi Vishkin, Avi Wigderson'\n",
      " 'Hana Galperin, Avi Wigderson' 'H. S. Witsenhausen, A. D. Wyner'\n",
      " 'J W. Schmidt, H Schneider' 'Y Wallach' 'L Devroye'\n",
      " 'M Bozzini, F De Tisi, L Lenarduzzi' 'D E Hewgill'\n",
      " 'Richard Wiener, Richard Sincovec' 'Viacheslav E. Wolfengagen'\n",
      " 'Leonard Bolc, Tomek Strzalkowski' 'Genevieve Berry-Rogghe'\n",
      " 'Gene A. Klaasen, William C. Troy' 'Jess W. Curry, Jr., David M. Bonner'\n",
      " 'J Bormann' 'Johannes Rohrich' 'A Kreczmar, A Salwicki'\n",
      " 'Broy Manfred, Peter Pepper' 'Harald Ganzinger' 'Klaus Bothe'\n",
      " 'Ulrich L. Hupbach, Heinz Kaphengst' 'Chih-sung Tang' 'Piotr Dembinski'\n",
      " 'C. H. Lindsey' 'J Steensgaard-Madsen' 'Pieter H. Hartel' 'Narain Gehani'\n",
      " 'Steven L. Mandell' 'J. R White' 'Wolfgang Bibel' 'M. Nielsen'\n",
      " 'Bruce W. Leverett' 'David M. Harland' 'John P. Fishburn'\n",
      " 'Robert A. Mueller' 'Marco Ajmone Marsan, Gianni Conte, Gianfranco Balbo'\n",
      " 'James W. Stamos' 'Prasenjit Biswas, Arun K. Majumdar' 'Ronald R. Yager'\n",
      " 'Lois Wright Hawkes' 'Andrzej Salwicki' 'K. L Clark, F. G McCabe'\n",
      " 'Myron Melman, Miron Livny' 'C J. van Rijsbergen' 'Maristella Agosti'\n",
      " 'A F. Smeaton' 'K Devine, F J. Smith' 'C D. Paice' 'Paltin Sturdza'\n",
      " 'Bertrand Meyer' 'Marc Guillemont' 'Philippe Chretienne'\n",
      " 'Andre Schiper, Giovanni Coray, Beat Hirsbrunner'\n",
      " 'F Browaeys, H Derriennic, P Desclaud, H Fallour, C Faulle, J Febvre, J E. Hanne, M Kronental, J J. Simon, D Vojnovic'\n",
      " 'Anne Lee Paxton, Edward J. Turner' 'Allan Ramsay'\n",
      " 'Avi Rushinek, Sara F. Rushinek, Joel Stutz' 'John I. Kiger'\n",
      " 'David L. McPeters, Alan L. Tharp' 'William R. Mallgren'\n",
      " 'Lawrence J. Kenah, Simon F. Bate' 'Glenn Krasner'\n",
      " 'Susan Curran, Ray Curnow'\n",
      " 'Dieter Seitzer, Gunter Pretzl, Nadder A. Hamdy'\n",
      " 'Sholom M. Weiss, Casimir A. Kulikowski' 'George W. Cherry'\n",
      " 'R C. Holt, J N.P Hume' 'M. D. McIlroy'\n",
      " 'Peter J. Burt, Edward H. Adelson' 'Michael R. Dunlavey'\n",
      " 'S B. Yao, T L. Kunii' 'Mario Schkolnick' 'Sumiyasu Yamamoto'\n",
      " 'Mamoru Maekawa' 'Moshe M. Zloof' 'Hiroyuki Kitagawa, Tosiyasu L. Kunii'\n",
      " 'Hideo Matsuka, Sakae Uno, Masaaki Sibuya' 'Larry S. Davis, T L. Kunii'\n",
      " 'Emerson W. Pugh' 'William E. Perry' 'Kenniston W. Lord, Jr.'\n",
      " 'Leo J. Cohen' 'Adele Goldberg, David Robson' 'Tsutomu Kamimura'\n",
      " 'Dung T. Huynh' 'Stuart A. Kurtz']\n",
      "100\n"
     ]
    }
   ],
   "source": [
    "unique_authors = df[\"author\"].unique()\n",
    "print(unique_authors)\n",
    "number_of_unique_authors = df['author'].nunique()\n",
    "print(number_of_unique_authors)"
   ]
  },
  {
   "cell_type": "code",
   "execution_count": 23,
   "id": "b0677dd3e07723bd",
   "metadata": {
    "ExecuteTime": {
     "end_time": "2025-01-11T06:28:40.257257Z",
     "start_time": "2025-01-11T06:28:40.248033Z"
    }
   },
   "outputs": [
    {
     "name": "stdout",
     "output_type": "stream",
     "text": [
      "['Integration, the VLSI Journal'\n",
      " 'International Journal of Parallel Programming'\n",
      " 'The computer comes of age'\n",
      " 'Information Sciences: an International Journal'\n",
      " 'Journal of the ACM (JACM)' 'Computability with Pascal'\n",
      " 'Information and Control' 'Computing'\n",
      " 'Software engineering with MODULA-2 and ADA'\n",
      " 'Computers and Artificial Intelligence'\n",
      " 'SIAM Journal on Applied Mathematics'\n",
      " 'Up and running: the small business computer implementation cookbook'\n",
      " 'Proc. IFIP working conference on Programming Languages and System Design'\n",
      " 'ADA: Concurrent Programming' 'Computers, Data Processing, and The Law'\n",
      " 'IEEE Transactions on Software Engineering' 'Communications of the ACM'\n",
      " 'on Automata, languages and programming'\n",
      " 'Register Allocation in Optimizing Compilers'\n",
      " 'Polymorphic programming languages: design and implementation'\n",
      " 'Analysis of speedup in distributed algorithms'\n",
      " 'Automated microcode synthesis'\n",
      " 'ACM Transactions on Computer Systems (TOCS)'\n",
      " 'Micro-PROLOG: programming in logic' 'Simulation'\n",
      " 'Information Technology Research Development Applications'\n",
      " 'Technology and Science of Informatics'\n",
      " 'International Journal of Man-Machine Studies'\n",
      " 'Formal specification of interactive graphics programming languages'\n",
      " 'VAX/VMS internals and data structures'\n",
      " 'Smalltalk-80: bits of history, words of advice'\n",
      " 'Overcoming computer illiteracy: a friendly introduction to computers'\n",
      " 'Electronic analog-to-digital converters: principles, circuits, devices, testing'\n",
      " 'A practical guide to designing expert systems'\n",
      " 'Parallel programming in ansi standard ADA'\n",
      " 'Introduction to computer science using the TURING programming language'\n",
      " 'ACM Transactions on Graphics (TOG)'\n",
      " 'Physical structures and application on Database design techniques II'\n",
      " 'Memories that shaped an industry'\n",
      " 'Effective methods of EDP quality assurance'\n",
      " 'The data center disaster consultant'\n",
      " 'A structured approach to systems testing'\n",
      " 'Creating and planning the corporate data base system project'\n",
      " 'Managing systems maintenance'\n",
      " 'Smalltalk-80: the language and its implementation']\n",
      "45\n"
     ]
    }
   ],
   "source": [
    "unique_venues = df[\"venue\"].unique()\n",
    "print(unique_venues)\n",
    "number_of_unique_venues = df['venue'].nunique()\n",
    "print(number_of_unique_venues)"
   ]
  },
  {
   "cell_type": "code",
   "execution_count": 24,
   "id": "9c0e9b762ad823c7",
   "metadata": {
    "ExecuteTime": {
     "end_time": "2025-01-11T06:29:43.171876Z",
     "start_time": "2025-01-11T06:29:43.164220Z"
    }
   },
   "outputs": [
    {
     "name": "stdout",
     "output_type": "stream",
     "text": [
      "[nan '289258 2135000' '2135000' '289023 408637 600827 688896 2135000'\n",
      " '768 289451 319820 408342 598671 598674 598672 600546 600559 600810 690080 1068476 2135000'\n",
      " '25469 289291 289317 384111 456886 456887 556912 569084 2135000'\n",
      " '317870 598102 689726 2135000'\n",
      " '102 288712 317780 320070 320107 321611 322247 348985 602692 602694 602670 602693 606654 607605 669002 669875 2135000'\n",
      " '317818 320075 2135000' '3103 4092 602877 603544 2135000']\n",
      "9\n"
     ]
    }
   ],
   "source": [
    "unique_citations = df[\"citations\"].unique()\n",
    "print(unique_citations)\n",
    "number_of_unique_citations = df['citations'].nunique()\n",
    "print(number_of_unique_citations)"
   ]
  },
  {
   "cell_type": "markdown",
   "id": "cbde1a2c7b4b139c",
   "metadata": {},
   "source": [
    "## B. Are these numbers likely to be accurate? As an example look up all the publications venue names associated with the conference “Principles and Practice of Knowledge Discovery in Databases” – what do you notice?"
   ]
  },
  {
   "cell_type": "code",
   "execution_count": 27,
   "id": "d3c7e601fbc2b02a",
   "metadata": {
    "ExecuteTime": {
     "end_time": "2025-01-11T06:45:56.941145Z",
     "start_time": "2025-01-11T06:45:56.930995Z"
    }
   },
   "outputs": [
    {
     "name": "stdout",
     "output_type": "stream",
     "text": [
      "Empty DataFrame\n",
      "Columns: [abstract, citations, title, author, venue, index, year]\n",
      "Index: []\n"
     ]
    }
   ],
   "source": [
    "venues = df[df['venue'].str.contains(\"Principles and Practice of Knowledge Discovery in Databases\")]\n",
    "print(venues)"
   ]
  },
  {
   "cell_type": "markdown",
   "id": "36e28fe993f033ff",
   "metadata": {},
   "source": [
    "## C. For each author, construct the list of publications. Plot a histogram of the number of publications per author (use a logarithmic scale on the y axis)"
   ]
  },
  {
   "cell_type": "code",
   "execution_count": 54,
   "id": "6836bb1504cdcfae",
   "metadata": {
    "ExecuteTime": {
     "end_time": "2025-01-11T16:45:33.696627Z",
     "start_time": "2025-01-11T16:45:33.689471Z"
    }
   },
   "outputs": [
    {
     "name": "stdout",
     "output_type": "stream",
     "text": [
      "                                         author  \\\n",
      "0                                  A F. Smeaton   \n",
      "1                        A Kreczmar, A Salwicki   \n",
      "2  A. G. Akritas, S. S. Lyengar, A. A. Rampuria   \n",
      "3                  Adele Goldberg, David Robson   \n",
      "4                                  Allan Ramsay   \n",
      "\n",
      "                                               title  \n",
      "0  [Relevance feedback and a fuzzy set of search ...  \n",
      "1  [Concatenable type declarations: their applica...  \n",
      "2  [Computationally efficient algorithms for a on...  \n",
      "3  [Smalltalk-80: the language and its implementa...  \n",
      "4             [Type-checking in an untyped language]  \n",
      "                  0              1                         2     3     4  \\\n",
      "0               NaN            NaN                       NaN   NaN   NaN   \n",
      "1  Virgil D. Gligor           None                      None  None  None   \n",
      "2        M. Gyssens   J. Paredaens                      None  None  None   \n",
      "3    Sushil Jajodia    Peter A. Ng  Frederick N. Springsteel  None  None   \n",
      "4       Rene Moreau           None                      None  None  None   \n",
      "5     A. G. Akritas  S. S. Lyengar            A. A. Rampuria  None  None   \n",
      "6       C. C. Chang       M. W. Du              R. C. T. Lee  None  None   \n",
      "7    David Haussler           None                      None  None  None   \n",
      "8         Hans Röck           None                      None  None  None   \n",
      "9  George M. Trojan           None                      None  None  None   \n",
      "\n",
      "      5     6     7     8     9  \n",
      "0   NaN   NaN   NaN   NaN   NaN  \n",
      "1  None  None  None  None  None  \n",
      "2  None  None  None  None  None  \n",
      "3  None  None  None  None  None  \n",
      "4  None  None  None  None  None  \n",
      "5  None  None  None  None  None  \n",
      "6  None  None  None  None  None  \n",
      "7  None  None  None  None  None  \n",
      "8  None  None  None  None  None  \n",
      "9  None  None  None  None  None  \n"
     ]
    }
   ],
   "source": [
    "authors_and_publications_df= df.groupby(\"author\")[\"title\"].apply(lambda x: x.tolist()).reset_index()\n",
    "print(authors_and_publications_df.head())\n",
    "\n",
    "df1 = df['author'].str.split(', ', expand=True)\n",
    "print(df1.head(10))\n",
    "print(df1.head())\n",
    "# df2 = df1.explode(\"author\")"
   ]
  }
 ],
 "metadata": {
  "kernelspec": {
   "display_name": "Python 3",
   "language": "python",
   "name": "python3"
  },
  "language_info": {
   "codemirror_mode": {
    "name": "ipython",
    "version": 2
   },
   "file_extension": ".py",
   "mimetype": "text/x-python",
   "name": "python",
   "nbconvert_exporter": "python",
   "pygments_lexer": "ipython2",
   "version": "2.7.6"
  }
 },
 "nbformat": 4,
 "nbformat_minor": 5
}
