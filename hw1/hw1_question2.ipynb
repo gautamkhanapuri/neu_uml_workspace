{
 "cells": [
  {
   "cell_type": "markdown",
   "metadata": {},
   "source": [
    "### A. Write a Python program which takes as its argument5 the path to a text file of data (assumed to be in the itemset format above) and produces as output to the console a sparse ARFF file."
   ]
  },
  {
   "cell_type": "code",
   "execution_count": 5,
   "metadata": {},
   "outputs": [],
   "source": [
    "def convert_txt_to_sparse_arff(input_file, output_file, relation_name=\"Transactions\"):\n",
    "    transactions = []\n",
    "    with open(input_file, 'r') as f:\n",
    "        for line in f:\n",
    "            transaction = list(map(int, line.split()))\n",
    "            transactions.append(transaction)\n",
    "\n",
    "    unique_items_set = []\n",
    "    for transaction in transactions:\n",
    "        unique_items_set.extend(transaction)\n",
    "    unique_items_set = set(unique_items_set)\n",
    "    unique_items = sorted(unique_items_set)\n",
    "\n",
    "    item_to_index = {item: idx for idx, item in enumerate(unique_items)}\n",
    "\n",
    "    with open(output_file, 'w') as arff:\n",
    "        arff.write(f\"@RELATION {relation_name}\\n\\n\")\n",
    "        for item in unique_items:\n",
    "            arff.write(f\"@ATTRIBUTE item_{item} {{0,1}}\\n\")\n",
    "        arff.write(\"\\n@DATA\\n\")\n",
    "\n",
    "        for transaction in transactions:\n",
    "            sparse_row = []\n",
    "            unique_transaction_items = set(transaction)\n",
    "            for item in unique_transaction_items:\n",
    "                index = item_to_index[item]\n",
    "                sparse_row.append(f\"{index} 1\")\n",
    "            sparse_row.sort(key=lambda x: int(x.split()[0]))\n",
    "            arff.write(f\"{{{', '.join(sparse_row)}}}\\n\")\n"
   ]
  },
  {
   "cell_type": "markdown",
   "metadata": {},
   "source": [
    "### B. Use your program to convert the kosarak.dat file to a sparse kosarak.arff. About how long did it take to run?"
   ]
  },
  {
   "cell_type": "code",
   "execution_count": null,
   "metadata": {},
   "outputs": [],
   "source": [
    "input_file = \"kosarak.dat.txt\"\n",
    "output_file = \"transactions.arff\"\n",
    "convert_txt_to_sparse_arff(input_file, output_file)"
   ]
  },
  {
   "cell_type": "markdown",
   "metadata": {},
   "source": [
    "<div class=\"alert alert-block alert-success\">\n",
    "Time taken to execute the bove code block: 5.3 sec\n",
    "</div>"
   ]
  },
  {
   "cell_type": "markdown",
   "metadata": {},
   "source": [
    "### C. Load the resulting file into Weka (as described above; you should have 41,270 attributes and 990, 002 instances). About how long did it take to load this file?"
   ]
  },
  {
   "cell_type": "markdown",
   "metadata": {},
   "source": [
    "<div class=\"alert alert-block alert-success\">\n",
    "It took a couple of seconds to load the data into Weka\n",
    "</div>"
   ]
  },
  {
   "cell_type": "markdown",
   "metadata": {},
   "source": [
    "### D. Use Weka’s FP-Growth implementation to find rules that have support count of at least 49, 500 and confidence of at least 99% – record your rules (there should be 2)."
   ]
  },
  {
   "cell_type": "markdown",
   "metadata": {},
   "source": [
    "<div class=\"alert alert-block alert-success\">\n",
    "The recorder rules are:<br>\n",
    "1. [item_11=1, item_218=1, item_148=1]: 50098 ==> [item_6=1]: 49866   <conf:(1)> lift:(1.64) lev:(0.02) conv:(84.4)<br>\n",
    "2. [item_11=1, item_148=1]: 55759 ==> [item_6=1]: 55230   <conf:(0.99)> lift:(1.63) lev:(0.02) conv:(41.3)\n",
    "</div>"
   ]
  },
  {
   "cell_type": "markdown",
   "metadata": {},
   "source": [
    "### E. Run the algorithm at least 5 times. Then look to the log and record how much time each took. How does the average time compare to the time necessary to convert the dataset and then load into Weka?"
   ]
  },
  {
   "cell_type": "markdown",
   "metadata": {},
   "source": [
    "<div class=\"alert alert-block alert-success\">\n",
    "time taken:<br>\n",
    "0:0:2<br>\n",
    "0:0:2<br>\n",
    "0:0:2<br>\n",
    "0:0:2<br>\n",
    "0:0:2<br>\n",
    "Average time = 2 seconds<br>\n",
    "In comparison to converting the .dat.txt file into .arff file (5.3s) and loading the data into Weka (2.0s) the average time to run the FP-Algorithm is much lower, approximately one third.\n",
    "</div>"
   ]
  }
 ],
 "metadata": {
  "kernelspec": {
   "display_name": "chatbot_env",
   "language": "python",
   "name": "python3"
  },
  "language_info": {
   "codemirror_mode": {
    "name": "ipython",
    "version": 3
   },
   "file_extension": ".py",
   "mimetype": "text/x-python",
   "name": "python",
   "nbconvert_exporter": "python",
   "pygments_lexer": "ipython3",
   "version": "3.9.6"
  }
 },
 "nbformat": 4,
 "nbformat_minor": 2
}
