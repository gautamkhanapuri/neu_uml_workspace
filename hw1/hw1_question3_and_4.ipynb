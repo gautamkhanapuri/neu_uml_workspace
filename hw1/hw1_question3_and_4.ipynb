{
 "cells": [
  {
   "cell_type": "code",
   "execution_count": 1,
   "id": "8fa8dca5",
   "metadata": {},
   "outputs": [],
   "source": [
    "import codecs\n",
    "import numpy\n",
    "import os\n",
    "from tqdm import tqdm"
   ]
  },
  {
   "cell_type": "code",
   "execution_count": 2,
   "id": "69719120",
   "metadata": {},
   "outputs": [
    {
     "data": {
      "text/plain": [
       "True"
      ]
     },
     "execution_count": 2,
     "metadata": {},
     "output_type": "execute_result"
    }
   ],
   "source": [
    "from dotenv import load_dotenv\n",
    "load_dotenv()"
   ]
  },
  {
   "cell_type": "code",
   "execution_count": 3,
   "id": "initial_id",
   "metadata": {
    "collapsed": true
   },
   "outputs": [
    {
     "name": "stdout",
     "output_type": "stream",
     "text": [
      "Reading t10k-images-idx3-ubyte\n",
      "Reading t10k-labels-idx1-ubyte\n",
      "Reading train-images-idx3-ubyte\n",
      "Reading train-labels-idx1-ubyte\n",
      "[[  0   0   0   0   0   0   0   0   0   0   0   0   0   0   0   0   0   0\n",
      "    0   0   0   0   0   0   0   0   0   0]\n",
      " [  0   0   0   0   0   0   0   0   0   0   0   0   0   0   0   0   0   0\n",
      "    0   0   0   0   0   0   0   0   0   0]\n",
      " [  0   0   0   0   0   0   0   0   0   0   0   0   0   0   0   0   0   0\n",
      "    0   0   0   0   0   0   0   0   0   0]\n",
      " [  0   0   0   0   0   0   0   0   0   0   0   0   0   0   0   0   0   0\n",
      "    0   0   0   0   0   0   0   0   0   0]\n",
      " [  0   0   0   0   0   0   0   0   0   0   0   0   0   0   0   0   0   0\n",
      "    0   0   0   0   0   0   0   0   0   0]\n",
      " [  0   0   0   0   0   0   0   0   0   0   0   0   3  18  18  18 126 136\n",
      "  175  26 166 255 247 127   0   0   0   0]\n",
      " [  0   0   0   0   0   0   0   0  30  36  94 154 170 253 253 253 253 253\n",
      "  225 172 253 242 195  64   0   0   0   0]\n",
      " [  0   0   0   0   0   0   0  49 238 253 253 253 253 253 253 253 253 251\n",
      "   93  82  82  56  39   0   0   0   0   0]\n",
      " [  0   0   0   0   0   0   0  18 219 253 253 253 253 253 198 182 247 241\n",
      "    0   0   0   0   0   0   0   0   0   0]\n",
      " [  0   0   0   0   0   0   0   0  80 156 107 253 253 205  11   0  43 154\n",
      "    0   0   0   0   0   0   0   0   0   0]\n",
      " [  0   0   0   0   0   0   0   0   0  14   1 154 253  90   0   0   0   0\n",
      "    0   0   0   0   0   0   0   0   0   0]\n",
      " [  0   0   0   0   0   0   0   0   0   0   0 139 253 190   2   0   0   0\n",
      "    0   0   0   0   0   0   0   0   0   0]\n",
      " [  0   0   0   0   0   0   0   0   0   0   0  11 190 253  70   0   0   0\n",
      "    0   0   0   0   0   0   0   0   0   0]\n",
      " [  0   0   0   0   0   0   0   0   0   0   0   0  35 241 225 160 108   1\n",
      "    0   0   0   0   0   0   0   0   0   0]\n",
      " [  0   0   0   0   0   0   0   0   0   0   0   0   0  81 240 253 253 119\n",
      "   25   0   0   0   0   0   0   0   0   0]\n",
      " [  0   0   0   0   0   0   0   0   0   0   0   0   0   0  45 186 253 253\n",
      "  150  27   0   0   0   0   0   0   0   0]\n",
      " [  0   0   0   0   0   0   0   0   0   0   0   0   0   0   0  16  93 252\n",
      "  253 187   0   0   0   0   0   0   0   0]\n",
      " [  0   0   0   0   0   0   0   0   0   0   0   0   0   0   0   0   0 249\n",
      "  253 249  64   0   0   0   0   0   0   0]\n",
      " [  0   0   0   0   0   0   0   0   0   0   0   0   0   0  46 130 183 253\n",
      "  253 207   2   0   0   0   0   0   0   0]\n",
      " [  0   0   0   0   0   0   0   0   0   0   0   0  39 148 229 253 253 253\n",
      "  250 182   0   0   0   0   0   0   0   0]\n",
      " [  0   0   0   0   0   0   0   0   0   0  24 114 221 253 253 253 253 201\n",
      "   78   0   0   0   0   0   0   0   0   0]\n",
      " [  0   0   0   0   0   0   0   0  23  66 213 253 253 253 253 198  81   2\n",
      "    0   0   0   0   0   0   0   0   0   0]\n",
      " [  0   0   0   0   0   0  18 171 219 253 253 253 253 195  80   9   0   0\n",
      "    0   0   0   0   0   0   0   0   0   0]\n",
      " [  0   0   0   0  55 172 226 253 253 253 253 244 133  11   0   0   0   0\n",
      "    0   0   0   0   0   0   0   0   0   0]\n",
      " [  0   0   0   0 136 253 253 253 212 135 132  16   0   0   0   0   0   0\n",
      "    0   0   0   0   0   0   0   0   0   0]\n",
      " [  0   0   0   0   0   0   0   0   0   0   0   0   0   0   0   0   0   0\n",
      "    0   0   0   0   0   0   0   0   0   0]\n",
      " [  0   0   0   0   0   0   0   0   0   0   0   0   0   0   0   0   0   0\n",
      "    0   0   0   0   0   0   0   0   0   0]\n",
      " [  0   0   0   0   0   0   0   0   0   0   0   0   0   0   0   0   0   0\n",
      "    0   0   0   0   0   0   0   0   0   0]]\n"
     ]
    }
   ],
   "source": [
    "path_to_data = os.environ.get(\"HW1_QUESTION3_DATASET_PATH\")\n",
    "mnist_files = os.listdir(path_to_data)\n",
    "mnist_files = [x for x in mnist_files if x.endswith(\"ubyte\")]\n",
    "\n",
    "\n",
    "def convert_to_int(byte):\n",
    "    integer = int(codecs.encode(byte, 'hex'), 16)\n",
    "    return integer\n",
    "\n",
    "\n",
    "dataset = {}\n",
    "for file in mnist_files:\n",
    "    print(\"Reading\", file)\n",
    "    with open(path_to_data + file, \"rb\") as f:\n",
    "        data = f.read()\n",
    "        type_of_data = convert_to_int(data[:4])\n",
    "        length = convert_to_int(data[4:8])\n",
    "        if type_of_data == 2051:\n",
    "            category = \"images\"\n",
    "            number_of_rows = convert_to_int(data[8:12])\n",
    "            number_of_columns = convert_to_int(data[12:16])\n",
    "            parsed = numpy.frombuffer(data, dtype=numpy.uint8, offset=16)\n",
    "            parsed = parsed.reshape(length, number_of_rows, number_of_columns)\n",
    "        if type_of_data == 2049:\n",
    "            category = \"labels\"\n",
    "            parsed = numpy.frombuffer(data, dtype=numpy.uint8, offset=8)\n",
    "            parsed = parsed.reshape(length)\n",
    "        if length == 60000:\n",
    "            set = \"train\"\n",
    "        if length == 10000:\n",
    "            set = \"test\"\n",
    "        dataset[set + '_' + category] = parsed\n",
    "\n",
    "print(dataset[\"train_images\"][0, :, :])"
   ]
  },
  {
   "cell_type": "code",
   "execution_count": 4,
   "id": "574fb978",
   "metadata": {},
   "outputs": [
    {
     "name": "stdout",
     "output_type": "stream",
     "text": [
      "<class 'numpy.ndarray'>\n"
     ]
    }
   ],
   "source": [
    "train_images = numpy.array(dataset['train_images'])\n",
    "print(type(train_images))"
   ]
  },
  {
   "cell_type": "code",
   "execution_count": 5,
   "id": "89654f8e",
   "metadata": {},
   "outputs": [
    {
     "name": "stdout",
     "output_type": "stream",
     "text": [
      "0.0\n",
      "1.0\n"
     ]
    }
   ],
   "source": [
    "min_max_normalization_train_images = train_images/255\n",
    "print(numpy.min(min_max_normalization_train_images))\n",
    "print(numpy.max(min_max_normalization_train_images))"
   ]
  },
  {
   "cell_type": "code",
   "execution_count": 6,
   "id": "0e2b8aa8",
   "metadata": {},
   "outputs": [
    {
     "name": "stdout",
     "output_type": "stream",
     "text": [
      "Min: -0.424073894391566\n",
      "Max: 2.821543345689335\n",
      "Standard Deviation: -3.064638490070051e-17\n",
      "Variance 0.9999999999999997\n"
     ]
    }
   ],
   "source": [
    "overall_mean = numpy.mean(train_images)\n",
    "overall_std_dev = numpy.std(train_images)\n",
    "z_normalization_train_images = (train_images - overall_mean) / overall_std_dev\n",
    "print(\"Min:\", numpy.min(z_normalization_train_images))\n",
    "print(\"Max:\", numpy.max(z_normalization_train_images))\n",
    "print(\"Standard Deviation:\", numpy.mean(z_normalization_train_images))\n",
    "print(\"Variance\", numpy.var(z_normalization_train_images))"
   ]
  },
  {
   "cell_type": "code",
   "execution_count": null,
   "id": "faaa0f23",
   "metadata": {},
   "outputs": [],
   "source": [
    "from sklearn.metrics import pairwise_distances\n",
    "from sklearn.metrics.pairwise import cosine_similarity\n",
    "\n",
    "flattened_images = min_max_normalization_train_images.reshape(60000, -1)\n",
    "n_samples = flattened_images.shape[0]\n",
    "batch_size = 1000\n",
    "pairwise_euclidean_matrix_mnist = numpy.zeros((n_samples, n_samples), dtype=numpy.float32)\n",
    "pairwise_cosine_similarity_matrix_mnist = numpy.zeros((n_samples, n_samples), dtype=numpy.float32)\n",
    "\n",
    "for i in range(0, n_samples, batch_size):\n",
    "    end_i = min(i + batch_size, n_samples)\n",
    "\n",
    "    current_batch = flattened_images[i:end_i]\n",
    "\n",
    "    distances = pairwise_distances(current_batch, flattened_images, metric=\"euclidean\")\n",
    "    similarities = cosine_similarity(current_batch, flattened_images)\n",
    "\n",
    "    pairwise_euclidean_matrix_mnist[i:end_i, :] = distances\n",
    "    pairwise_cosine_similarity_matrix_mnist[i:end_i] = distances\n",
    "\n",
    "print(\"First 5x5 of euclidean distance matrix:\")\n",
    "print(pairwise_euclidean_matrix_mnist[:5, :5])\n",
    "\n",
    "print(\"First 5x5 of cosine similarity matrix:\")\n",
    "print(pairwise_cosine_similarity_matrix_mnist[:5, :5])"
   ]
  },
  {
   "cell_type": "code",
   "execution_count": 15,
   "id": "c2323039",
   "metadata": {},
   "outputs": [
    {
     "name": "stderr",
     "output_type": "stream",
     "text": [
      "/var/folders/9d/hd3srjbx4rgbbrvnwxmcmh9c0000gn/T/ipykernel_24463/1206691700.py:14: RuntimeWarning: invalid value encountered in sqrt\n",
      "  dists = numpy.sqrt(squared_norm[i:end_i] + squared_norm.T - 2 * dot_prod)\n"
     ]
    },
    {
     "name": "stdout",
     "output_type": "stream",
     "text": [
      "First 5x5 of self implemented euclidean distance matrix:\n",
      "[[ 0.         9.361222  10.875094  10.018901  10.480264 ]\n",
      " [ 9.361222   0.        11.368364  10.849123  10.367248 ]\n",
      " [10.875094  11.368364         nan 10.084713  10.053022 ]\n",
      " [10.018901  10.849123  10.084713   0.         9.3679085]\n",
      " [10.480264  10.367248  10.053022   9.3679085  0.       ]]\n"
     ]
    }
   ],
   "source": [
    "def self_implemented_pairwise_euclidean_dist_mnist(vector_data, batch_size=1000):\n",
    "\n",
    "    self_implemented_pairwise_euclidean_dist_matrix_mnist = numpy.zeros((n_samples, n_samples), dtype=numpy.float32)\n",
    "\n",
    "    squared_norm = numpy.sum(vector_data**2, axis=1, keepdims=True)\n",
    "\n",
    "    for i in range(0, n_samples, batch_size):\n",
    "        end_i = min(i+batch_size, n_samples)\n",
    "\n",
    "        current_batch = vector_data[i:end_i]\n",
    "\n",
    "        dot_prod = numpy.dot(current_batch, vector_data.T)\n",
    "\n",
    "        dists = numpy.sqrt(squared_norm[i:end_i] + squared_norm.T - 2 * dot_prod)\n",
    "        dists[dists < 0.0000001] = 0.0\n",
    "\n",
    "        self_implemented_pairwise_euclidean_dist_matrix_mnist[i:end_i, :] = dists\n",
    "    \n",
    "    self_implemented_pairwise_euclidean_dist_matrix_mnist = numpy.nan_to_num(self_implemented_pairwise_euclidean_dist_matrix_mnist, num=0)\n",
    "    return self_implemented_pairwise_euclidean_dist_matrix_mnist\n",
    "\n",
    "self_impl_euc_dist_mat_mnist = self_implemented_pairwise_euclidean_dist_mnist(flattened_images)\n",
    "print(\"First 5x5 of self implemented euclidean distance matrix:\")\n",
    "print(self_impl_euc_dist_mat_mnist[:5, :5])"
   ]
  },
  {
   "cell_type": "markdown",
   "id": "4979281f",
   "metadata": {},
   "source": [
    "<div class=\"alert alert-block alert-success\">\n",
    "20ng\n",
    "</div>"
   ]
  },
  {
   "cell_type": "code",
   "execution_count": 23,
   "id": "17a81feb",
   "metadata": {},
   "outputs": [
    {
     "name": "stdout",
     "output_type": "stream",
     "text": [
      "Labels in the 20NG dataset.\n",
      "['alt.atheism',\n",
      " 'comp.graphics',\n",
      " 'sci.crypt',\n",
      " 'sci.electronics',\n",
      " 'sci.med',\n",
      " 'talk.politics.guns']\n",
      "\n",
      "\n",
      "Number of datapoints and there labels obtained.\n",
      "\n",
      "Number of files:\n",
      "(3390,)\n",
      "\n",
      "Number of target labels:\n",
      "(3390,)\n",
      "\n",
      "\n",
      "Example file:\n",
      "'/Users/ajeyk/scikit_learn_data/20news_home/20news-bydate-train/sci.electronics/53773'\n",
      "\n",
      "First 10 target labels:\n",
      "[3 1 1 4 1 1 1 1 4 3]\n",
      "\n",
      "Test SET\n",
      "Number of files in test dataset: (2257,)\n",
      "Number of target labels in test dataset: (2257,)\n",
      "Total number of target labels in dataset: (5647,)\n"
     ]
    }
   ],
   "source": [
    "from sklearn.datasets import fetch_20newsgroups\n",
    "from pprint import pprint\n",
    "\n",
    "categories = [\"alt.atheism\", \"sci.med\", \"sci.electronics\", \"comp.graphics\", \"talk.politics.guns\", \"sci.crypt\"]\n",
    "newsgroups_train = fetch_20newsgroups(subset=\"train\", categories=categories)\n",
    "print(\"Labels in the 20NG dataset.\")\n",
    "pprint(list(newsgroups_train.target_names))\n",
    "print(\"\\n\\nNumber of datapoints and there labels obtained.\")\n",
    "print(\"\\nNumber of files:\")\n",
    "pprint(newsgroups_train.filenames.shape)\n",
    "print(\"\\nNumber of target labels:\")\n",
    "pprint(newsgroups_train.target.shape)\n",
    "\n",
    "print(\"\\n\\nExample file:\")\n",
    "pprint(newsgroups_train.filenames[0])\n",
    "print(\"\\nFirst 10 target labels:\")\n",
    "print(newsgroups_train.target[:10])\n",
    "\n",
    "newsgroups_test = fetch_20newsgroups(subset=\"test\", categories=categories)\n",
    "print(\"\\nTest SET\")\n",
    "print(\"Number of files in test dataset:\", newsgroups_test.filenames.shape)\n",
    "print(\"Number of target labels in test dataset:\", newsgroups_test.target.shape)\n",
    "\n",
    "# newsgroups = fetch_20newsgroups(subset=\"all\", categories=categories)\n",
    "# print(\"Total number of target labels in dataset:\", newsgroups.target.shape)\n"
   ]
  },
  {
   "cell_type": "code",
   "execution_count": null,
   "id": "f69a68ee",
   "metadata": {},
   "outputs": [
    {
     "name": "stdout",
     "output_type": "stream",
     "text": [
      "(5647, 49878)\n"
     ]
    }
   ],
   "source": [
    "from sklearn.feature_extraction.text import TfidfVectorizer\n",
    "\n",
    "vectorizer = TfidfVectorizer()\n",
    "vectors_train = vectorizer.fit_transform(newsgroups_train.data)\n",
    "vectors_test = vectorizer.transform(newsgroups_test.data)\n",
    "# vectors = vectorizer.transform(newsgroups.data)\n",
    "# print(vectors.shape)"
   ]
  },
  {
   "cell_type": "code",
   "execution_count": 10,
   "id": "c6bc0162",
   "metadata": {},
   "outputs": [
    {
     "name": "stdout",
     "output_type": "stream",
     "text": [
      "Shape of the pairwise Euclidean distance matrix: (5647, 5647)\n",
      "Top left 5x5 portion of the distance matrix:\n",
      "[[0.         1.38509798 1.40314855 1.40214168 1.39008564]\n",
      " [1.38509798 0.         1.3927232  1.40101979 1.33107971]\n",
      " [1.40314855 1.3927232  0.         1.3332657  1.37424215]\n",
      " [1.40214168 1.40101979 1.3332657  0.         1.39333289]\n",
      " [1.39008564 1.33107971 1.37424215 1.39333289 0.        ]]\n"
     ]
    }
   ],
   "source": [
    "from sklearn.metrics import pairwise_distances\n",
    "\n",
    "distance_matrix = pairwise_distances(vectors_train, metric=\"euclidean\")\n",
    "print(\"Shape of the pairwise Euclidean distance matrix:\", distance_matrix.shape)\n",
    "print(\"Top left 5x5 portion of the distance matrix:\")\n",
    "print(distance_matrix[:5, :5])"
   ]
  },
  {
   "cell_type": "code",
   "execution_count": 10,
   "id": "7a72ca03",
   "metadata": {},
   "outputs": [
    {
     "name": "stdout",
     "output_type": "stream",
     "text": [
      "Shape of pairwise Euclidean Matrix: (5647, 5647)\n",
      "Top left 5x5 corner of self implemented pairwise Euclidean matrix\n",
      "[[0.         1.38509798 1.40314855 1.40214168 1.39008564]\n",
      " [1.38509798 0.         1.3927232  1.40101979 1.33107971]\n",
      " [1.40314855 1.3927232  0.         1.3332657  1.37424215]\n",
      " [1.40214168 1.40101979 1.3332657  0.         1.39333289]\n",
      " [1.39008564 1.33107971 1.37424215 1.39333289 0.        ]]\n"
     ]
    }
   ],
   "source": [
    "def pairwise_euclidean_distance_matrix(matrix, batch_size=500):\n",
    "    if hasattr(matrix, \"toarray\"):\n",
    "        matrix = matrix.toarray()\n",
    "    n_samples = matrix.shape[0]\n",
    "    row_norms = numpy.sum(matrix**2, axis=1).reshape(-1, 1)\n",
    "    distance_matrix_self_implemented = numpy.zeros((n_samples, n_samples), dtype=numpy.float64)\n",
    "    for i in range(0, n_samples, batch_size):\n",
    "        end_i = min(i + batch_size, n_samples)\n",
    "        for j in (0, n_samples, batch_size):\n",
    "            end_j = min(i + batch_size, n_samples)\n",
    "\n",
    "            batch_i = matrix[i:end_i]\n",
    "            batch_j = matrix[j:end_j]\n",
    "\n",
    "            dot_product = numpy.dot(batch_i, batch_j.T)\n",
    "\n",
    "            dq_sqr = row_norms[i:end_i] + row_norms[j:end_j].T - 2 * dot_product\n",
    "            dq_sqr[dq_sqr < 0.000001] = 0.0\n",
    "            dists = numpy.sqrt(dq_sqr)\n",
    "            distance_matrix_self_implemented[i:end_i, j:end_j] = dists\n",
    "    return distance_matrix_self_implemented\n",
    "\n",
    "dense_vectors = vectors_train.toarray()\n",
    "self_implemented_pairwise_euclidean_matrix = pairwise_euclidean_distance_matrix(dense_vectors, 1000)\n",
    "\n",
    "print(\"Shape of pairwise Euclidean Matrix:\", self_implemented_pairwise_euclidean_matrix.shape)\n",
    "print(\"Top left 5x5 corner of self implemented pairwise Euclidean matrix\")\n",
    "print(self_implemented_pairwise_euclidean_matrix[:5, :5])"
   ]
  },
  {
   "cell_type": "code",
   "execution_count": 37,
   "id": "baa29cd4",
   "metadata": {},
   "outputs": [
    {
     "name": "stdout",
     "output_type": "stream",
     "text": [
      "Cosine Similarity Matrix:\n",
      "[[1.         0.02216726 0.01163281 0.01600166 0.01296295]\n",
      " [0.02216726 1.         0.03118734 0.04183591 0.01886625]\n",
      " [0.01163281 0.03118734 1.         0.05034892 0.00717534]\n",
      " [0.01600166 0.04183591 0.05034892 1.         0.0095818 ]\n",
      " [0.01296295 0.01886625 0.00717534 0.0095818  1.        ]]\n"
     ]
    }
   ],
   "source": [
    "from sklearn.metrics.pairwise import cosine_similarity\n",
    "\n",
    "cosine_similarity_matrix = cosine_similarity(vectors_train)\n",
    "print(\"Cosine Similarity Matrix:\")\n",
    "print(cosine_similarity_matrix[:5, :5])"
   ]
  },
  {
   "cell_type": "code",
   "execution_count": null,
   "id": "d1331851",
   "metadata": {},
   "outputs": [
    {
     "name": "stdout",
     "output_type": "stream",
     "text": [
      "First 5x5 part of self implemented cosine similarity matrix:\n",
      "[[1.         0.04075179 0.01558707 ... 0.01926414 0.02609016 0.04637655]\n",
      " [0.04075179 1.         0.03016105 ... 0.0859899  0.1117154  0.15201679]\n",
      " [0.01558707 0.03016105 1.         ... 0.02889556 0.06818502 0.14793447]\n",
      " ...\n",
      " [0.01926414 0.0859899  0.02889556 ... 1.         0.05342945 0.10152586]\n",
      " [0.02609016 0.1117154  0.06818502 ... 0.05342945 1.         0.09173395]\n",
      " [0.04637655 0.15201679 0.14793447 ... 0.10152586 0.09173395 1.        ]]\n"
     ]
    }
   ],
   "source": [
    "def compute_cosine_similarity(data):\n",
    "    dot_product = numpy.dot(data, data.T)\n",
    "\n",
    "    norms = numpy.sqrt(numpy.sum(data**2, axis=1)).reshape(-1, 1)\n",
    "    \n",
    "    cosine_sim = dot_product / (norms @ norms.T)\n",
    "    \n",
    "    # cosine_sim[numpy.isnan(cosine_sim)] = 0.0\n",
    "    \n",
    "    return cosine_sim\n",
    "\n",
    "self_implemented_pairwise_cosine_similarity_matrix = compute_cosine_similarity(vectors_train.toarray())\n",
    "print(\"First 5x5 part of self implemented cosine similarity matrix:\")\n",
    "print(self_implemented_pairwise_cosine_similarity_matrix[:5, :5])"
   ]
  },
  {
   "cell_type": "code",
   "execution_count": 7,
   "id": "8abf9c15",
   "metadata": {},
   "outputs": [
    {
     "name": "stdout",
     "output_type": "stream",
     "text": [
      "<class 'numpy.ndarray'>\n",
      "[[ 9.395277  10.394629   9.440425  10.02592    9.196898 ]\n",
      " [11.182994  11.451037  11.656922  10.847431  11.536655 ]\n",
      " [ 9.223766  10.0762825  9.153183   6.558626   9.001019 ]\n",
      " [10.031458   7.7673883 11.85379   12.15051   10.628685 ]\n",
      " [10.592882  10.964605   7.7298265  9.96961    9.697421 ]\n",
      " [ 9.403014  10.470196   9.846221   6.1866245  8.939653 ]\n",
      " [10.391592  11.739411   9.568376  10.289397   8.41528  ]\n",
      " [10.007462  11.242873   9.632654   9.458699   8.789304 ]\n",
      " [ 9.866912  10.861721  10.731546  10.592133  10.35108  ]\n",
      " [10.525787  10.245898  10.632269  10.113032   8.297613 ]]\n"
     ]
    }
   ],
   "source": [
    "test_images = dataset['test_images']\n",
    "print(type(test_images))\n",
    "test_images = test_images/255\n",
    "test_images = test_images.reshape(10000, -1)\n",
    "\n",
    "test_n_samples = test_images.shape[0]\n",
    "train_n_samples = flattened_images.shape[0]\n",
    "\n",
    "def test_train_knn_mnist_euc_dist(test_dim, train_dim, batch_size=1000):\n",
    "    mnist_knn_pairwise_euclidean_distance_matrix = numpy.zeros((test_dim, train_dim), dtype=numpy.float32)\n",
    "\n",
    "    for i in range(0, test_dim, batch_size):\n",
    "        end_i = min(i+batch_size, test_dim)\n",
    "        for j in range(0, train_n_samples, batch_size):\n",
    "            end_j = min(j+batch_size, train_n_samples)\n",
    "\n",
    "            current_batch_test = test_images[i:end_i]\n",
    "            current_batch_train = flattened_images[j:end_j]\n",
    "\n",
    "            dists = pairwise_distances(current_batch_test, current_batch_train, metric=\"euclidean\")\n",
    "\n",
    "            mnist_knn_pairwise_euclidean_distance_matrix[i:end_i, j:end_j] = dists\n",
    "\n",
    "    return mnist_knn_pairwise_euclidean_distance_matrix\n",
    "\n",
    "mnist_knn_dist_matrix = test_train_knn_mnist_euc_dist(test_n_samples, train_n_samples)\n",
    "print(mnist_knn_dist_matrix[:10, :5])"
   ]
  },
  {
   "cell_type": "code",
   "execution_count": 22,
   "id": "fa993349",
   "metadata": {},
   "outputs": [
    {
     "name": "stdout",
     "output_type": "stream",
     "text": [
      "Accuracy:  96.77\n"
     ]
    }
   ],
   "source": [
    "total = test_images.shape[0]\n",
    "correct = 0\n",
    "k = 6\n",
    "train_labels = dataset['train_labels']\n",
    "test_labels = dataset['test_labels']\n",
    "\n",
    "for i, each_test_image in enumerate(mnist_knn_dist_matrix):\n",
    "    closest_indexes = numpy.argpartition(each_test_image, k-1)[:k]\n",
    "    closest_values = numpy.array([train_labels[x] for x in closest_indexes])\n",
    "    val, counts = numpy.unique(closest_values, return_counts=True)\n",
    "    prediction = val[numpy.argmax(counts)]\n",
    "    if prediction == test_labels[i]:\n",
    "        correct += 1\n",
    "\n",
    "acc = correct / total * 100\n",
    "print(f\"Accuracy: {acc: .2f}\")"
   ]
  },
  {
   "cell_type": "code",
   "execution_count": 8,
   "id": "774ce7f4",
   "metadata": {},
   "outputs": [
    {
     "name": "stdout",
     "output_type": "stream",
     "text": [
      "KNN Accuracy: 96.77%\n"
     ]
    }
   ],
   "source": [
    "from sklearn.neighbors import KNeighborsClassifier\n",
    "from sklearn.metrics import accuracy_score\n",
    "\n",
    "train_labels = dataset['train_labels']\n",
    "test_labels = dataset['test_labels']\n",
    "knn = KNeighborsClassifier(n_neighbors=6, metric='euclidean')\n",
    "\n",
    "knn.fit(flattened_images, train_labels)\n",
    "\n",
    "# Step 3: Predict on the test set\n",
    "predicted_labels = knn.predict(test_images)\n",
    "\n",
    "# Step 4: Calculate accuracy\n",
    "accuracy = accuracy_score(test_labels, predicted_labels)\n",
    "\n",
    "print(f\"KNN Accuracy: {accuracy * 100:.2f}%\")"
   ]
  },
  {
   "cell_type": "code",
   "execution_count": 35,
   "id": "fc45d456",
   "metadata": {},
   "outputs": [
    {
     "name": "stdout",
     "output_type": "stream",
     "text": [
      "Cosine similarity matrix between test and train dataset:\n",
      "[[0.03978613 0.0739227  0.06952419 0.07653471 0.01990531]\n",
      " [0.03286828 0.0810762  0.09243659 0.0823853  0.01531062]\n",
      " [0.0124257  0.02517339 0.01418638 0.01043689 0.0092545 ]\n",
      " [0.01810955 0.03236013 0.03049451 0.04241682 0.00600721]\n",
      " [0.10972774 0.053372   0.05042398 0.0522294  0.02154505]]\n"
     ]
    }
   ],
   "source": [
    "test_train_knn_20ng_cosine_similarity_matrix = cosine_similarity(vectors_test, vectors_train)\n",
    "print(\"Cosine similarity matrix between test and train dataset:\")\n",
    "print(test_train_knn_20ng_cosine_similarity_matrix[:5, :5])"
   ]
  },
  {
   "cell_type": "code",
   "execution_count": 45,
   "id": "c93899ea",
   "metadata": {},
   "outputs": [
    {
     "ename": "NotFittedError",
     "evalue": "This KNeighborsClassifier instance is not fitted yet. Call 'fit' with appropriate arguments before using this estimator.",
     "output_type": "error",
     "traceback": [
      "\u001b[0;31m---------------------------------------------------------------------------\u001b[0m",
      "\u001b[0;31mNotFittedError\u001b[0m                            Traceback (most recent call last)",
      "Cell \u001b[0;32mIn[45], line 12\u001b[0m\n\u001b[1;32m      9\u001b[0m knn_20ng\u001b[38;5;241m.\u001b[39mfit(train_self_distances, newsgroups_train\u001b[38;5;241m.\u001b[39mtarget)\n\u001b[1;32m     11\u001b[0m \u001b[38;5;66;03m# Step 5: Predict using precomputed test-train distances\u001b[39;00m\n\u001b[0;32m---> 12\u001b[0m predictions \u001b[38;5;241m=\u001b[39m \u001b[43mknn\u001b[49m\u001b[38;5;241;43m.\u001b[39;49m\u001b[43mpredict\u001b[49m\u001b[43m(\u001b[49m\u001b[43mtest_train_knn_20ng_cosine_DISTANCE_matrix\u001b[49m\u001b[43m)\u001b[49m\n\u001b[1;32m     14\u001b[0m \u001b[38;5;66;03m# Step 6: Calculate accuracy\u001b[39;00m\n\u001b[1;32m     15\u001b[0m accuracy \u001b[38;5;241m=\u001b[39m accuracy_score(newsgroups_test\u001b[38;5;241m.\u001b[39mtarget, predictions)\n",
      "File \u001b[0;32m~/neu_uml_workspace/chatbot_env/lib/python3.9/site-packages/sklearn/neighbors/_classification.py:254\u001b[0m, in \u001b[0;36mKNeighborsClassifier.predict\u001b[0;34m(self, X)\u001b[0m\n\u001b[1;32m    240\u001b[0m \u001b[38;5;28;01mdef\u001b[39;00m \u001b[38;5;21mpredict\u001b[39m(\u001b[38;5;28mself\u001b[39m, X):\n\u001b[1;32m    241\u001b[0m \u001b[38;5;250m    \u001b[39m\u001b[38;5;124;03m\"\"\"Predict the class labels for the provided data.\u001b[39;00m\n\u001b[1;32m    242\u001b[0m \n\u001b[1;32m    243\u001b[0m \u001b[38;5;124;03m    Parameters\u001b[39;00m\n\u001b[0;32m   (...)\u001b[0m\n\u001b[1;32m    252\u001b[0m \u001b[38;5;124;03m        Class labels for each data sample.\u001b[39;00m\n\u001b[1;32m    253\u001b[0m \u001b[38;5;124;03m    \"\"\"\u001b[39;00m\n\u001b[0;32m--> 254\u001b[0m     \u001b[43mcheck_is_fitted\u001b[49m\u001b[43m(\u001b[49m\u001b[38;5;28;43mself\u001b[39;49m\u001b[43m,\u001b[49m\u001b[43m \u001b[49m\u001b[38;5;124;43m\"\u001b[39;49m\u001b[38;5;124;43m_fit_method\u001b[39;49m\u001b[38;5;124;43m\"\u001b[39;49m\u001b[43m)\u001b[49m\n\u001b[1;32m    255\u001b[0m     \u001b[38;5;28;01mif\u001b[39;00m \u001b[38;5;28mself\u001b[39m\u001b[38;5;241m.\u001b[39mweights \u001b[38;5;241m==\u001b[39m \u001b[38;5;124m\"\u001b[39m\u001b[38;5;124muniform\u001b[39m\u001b[38;5;124m\"\u001b[39m:\n\u001b[1;32m    256\u001b[0m         \u001b[38;5;28;01mif\u001b[39;00m \u001b[38;5;28mself\u001b[39m\u001b[38;5;241m.\u001b[39m_fit_method \u001b[38;5;241m==\u001b[39m \u001b[38;5;124m\"\u001b[39m\u001b[38;5;124mbrute\u001b[39m\u001b[38;5;124m\"\u001b[39m \u001b[38;5;129;01mand\u001b[39;00m ArgKminClassMode\u001b[38;5;241m.\u001b[39mis_usable_for(\n\u001b[1;32m    257\u001b[0m             X, \u001b[38;5;28mself\u001b[39m\u001b[38;5;241m.\u001b[39m_fit_X, \u001b[38;5;28mself\u001b[39m\u001b[38;5;241m.\u001b[39mmetric\n\u001b[1;32m    258\u001b[0m         ):\n",
      "File \u001b[0;32m~/neu_uml_workspace/chatbot_env/lib/python3.9/site-packages/sklearn/utils/validation.py:1661\u001b[0m, in \u001b[0;36mcheck_is_fitted\u001b[0;34m(estimator, attributes, msg, all_or_any)\u001b[0m\n\u001b[1;32m   1658\u001b[0m     \u001b[38;5;28;01mraise\u001b[39;00m \u001b[38;5;167;01mTypeError\u001b[39;00m(\u001b[38;5;124m\"\u001b[39m\u001b[38;5;132;01m%s\u001b[39;00m\u001b[38;5;124m is not an estimator instance.\u001b[39m\u001b[38;5;124m\"\u001b[39m \u001b[38;5;241m%\u001b[39m (estimator))\n\u001b[1;32m   1660\u001b[0m \u001b[38;5;28;01mif\u001b[39;00m \u001b[38;5;129;01mnot\u001b[39;00m _is_fitted(estimator, attributes, all_or_any):\n\u001b[0;32m-> 1661\u001b[0m     \u001b[38;5;28;01mraise\u001b[39;00m NotFittedError(msg \u001b[38;5;241m%\u001b[39m {\u001b[38;5;124m\"\u001b[39m\u001b[38;5;124mname\u001b[39m\u001b[38;5;124m\"\u001b[39m: \u001b[38;5;28mtype\u001b[39m(estimator)\u001b[38;5;241m.\u001b[39m\u001b[38;5;18m__name__\u001b[39m})\n",
      "\u001b[0;31mNotFittedError\u001b[0m: This KNeighborsClassifier instance is not fitted yet. Call 'fit' with appropriate arguments before using this estimator."
     ]
    }
   ],
   "source": [
    "test_train_knn_20ng_cosine_DISTANCE_matrix = numpy.clip(1 - test_train_knn_20ng_cosine_similarity_matrix, a_min=0, a_max=None)\n",
    "\n",
    "# Step 3: Initialize the KNN classifier\n",
    "knn_20ng = KNeighborsClassifier(n_neighbors=6, metric='precomputed')\n",
    "\n",
    "# Step 4: Train KNN on precomputed distance matrix\n",
    "# Use cosine distances between the training set and itself for fitting\n",
    "train_self_distances = numpy.clip(1 - cosine_similarity_matrix, a_min=0, a_max=None)\n",
    "knn_20ng.fit(train_self_distances, newsgroups_train.target)\n",
    "\n",
    "# Step 5: Predict using precomputed test-train distances\n",
    "predictions = knn.predict(test_train_knn_20ng_cosine_DISTANCE_matrix)\n",
    "\n",
    "# Step 6: Calculate accuracy\n",
    "accuracy = accuracy_score(newsgroups_test.target, predictions)\n",
    "print(f\"Accuracy: {accuracy * 100:.2f}%\")"
   ]
  },
  {
   "cell_type": "code",
   "execution_count": 42,
   "id": "0fcb7cec",
   "metadata": {},
   "outputs": [
    {
     "name": "stdout",
     "output_type": "stream",
     "text": [
      "KNN Accuracy: 76.12%\n"
     ]
    }
   ],
   "source": [
    "knn_20ng_1 = KNeighborsClassifier(n_neighbors=6, metric=\"cosine\")\n",
    "\n",
    "knn_20ng_1.fit(vectors_train, newsgroups_train.target)\n",
    "\n",
    "predicted_labels1 = knn_20ng_1.predict(vectors_test)\n",
    "\n",
    "accuracy1 = accuracy_score(newsgroups_test.target, predicted_labels1)\n",
    "\n",
    "print(f\"KNN Accuracy: {accuracy1 * 100:.2f}%\")\n",
    "\n"
   ]
  },
  {
   "cell_type": "code",
   "execution_count": 48,
   "id": "c4c1385e",
   "metadata": {},
   "outputs": [
    {
     "name": "stdout",
     "output_type": "stream",
     "text": [
      "KNN accuracy for 20NG dataset using cosine similarity: 76.12%\n"
     ]
    }
   ],
   "source": [
    "k = 6\n",
    "total = vectors_test.shape[0]\n",
    "correct = 0\n",
    "\n",
    "for i, row in enumerate(test_train_knn_20ng_cosine_similarity_matrix):\n",
    "    closest_indices = numpy.argpartition(-row, k-1)[:k]  # Negative for descending order\n",
    "    closest_labels = numpy.array([newsgroups_train.target[x] for x in closest_indices])\n",
    "    val, counts = numpy.unique(closest_labels, return_counts=True)\n",
    "    prediction = val[numpy.argmax(counts)]\n",
    "    if prediction == newsgroups_test.target[i]:\n",
    "        correct += 1\n",
    "    \n",
    "accuracy_20ng = correct / total * 100\n",
    "print(f\"KNN accuracy for 20NG dataset using cosine similarity: {accuracy_20ng:.2f}%\")\n"
   ]
  }
 ],
 "metadata": {
  "kernelspec": {
   "display_name": "chatbot_env",
   "language": "python",
   "name": "python3"
  },
  "language_info": {
   "codemirror_mode": {
    "name": "ipython",
    "version": 3
   },
   "file_extension": ".py",
   "mimetype": "text/x-python",
   "name": "python",
   "nbconvert_exporter": "python",
   "pygments_lexer": "ipython3",
   "version": "3.9.6"
  }
 },
 "nbformat": 4,
 "nbformat_minor": 5
}
