{
 "cells": [
  {
   "cell_type": "markdown",
   "id": "204d1535",
   "metadata": {},
   "source": [
    "HW1"
   ]
  },
  {
   "cell_type": "code",
   "execution_count": null,
   "id": "828ede64",
   "metadata": {},
   "outputs": [],
   "source": [
    "from statistics import mean, stdev\n",
    "#both take in a list of numbers\n",
    "\n",
    "# difference between std dev and variance is that variance is what is originally\n",
    "# calculated and std dev is the square root of the variance. \n",
    "# variance is sigma^2 and std dev is sigma.\n",
    "# variance is in squared units and std dev is in the same units as the data."
   ]
  },
  {
   "cell_type": "code",
   "execution_count": null,
   "id": "327f098e",
   "metadata": {},
   "outputs": [],
   "source": [
    "# Plotting a histogram\n",
    "\n",
    "import matplotlib.pyplot as plt\n",
    "\n",
    "plt.hist([1, 2, 3, 4, 5, 6], bins=5, log=True, edge_color=\"black\") # setting log=True will set the y axis to a log scale.\n",
    "plt.figure(figsize=(10, 10))\n",
    "plt.xlabel(\"Used to set the x axis label. Contains the elements\")\n",
    "plt.ylabel(\"Used to set the y axis label. Contains the frequency of elements.\")\n",
    "plt.title()\n",
    "plt.show()"
   ]
  },
  {
   "cell_type": "code",
   "execution_count": null,
   "id": "5d50d16d",
   "metadata": {},
   "outputs": [],
   "source": [
    "# plot a line plot\n",
    "\n",
    "yrs = [2000, 2001, 2002, 2003, 2004]\n",
    "vals = [56, 78, 45, 89, 90]\n",
    "plt.plot(yrs, vals) # simply providing 2 list like objects will plot the data. the first list is on the x axis.\n",
    "plt.xlabel(\"Year\")\n",
    "plt.ylabel(\"val\")\n",
    "plt.title(\"Year vs val\")\n",
    "plt.show()"
   ]
  },
  {
   "cell_type": "code",
   "execution_count": null,
   "id": "f25321ee",
   "metadata": {},
   "outputs": [],
   "source": [
    "# Getting the 1st and 3rd quartile\n",
    "import numpy as np\n",
    "\n",
    "data = [1, 2, 3, 4, 5, 6]\n",
    "q1 = np.quantile(data, 0.25)\n",
    "q2 = np.quantile(data, 0.5)\n",
    "q3 = np.quantile(data, 0.75)"
   ]
  },
  {
   "cell_type": "markdown",
   "id": "4ec00868",
   "metadata": {},
   "source": [
    "loading mnist and 20ng data very important"
   ]
  },
  {
   "cell_type": "code",
   "execution_count": null,
   "id": "de7a907b",
   "metadata": {},
   "outputs": [],
   "source": [
    "import codecs\n",
    "import os\n",
    "\n",
    "\n",
    "def convert_to_int(b):\n",
    "    \"\"\"\n",
    "        Converts a byte onject to an int.\n",
    "    \"\"\"\n",
    "    integer = int(codecs.encode(b, \"hex\"), 16)\n",
    "\n",
    "\n",
    "dataset = {}\n",
    "def load_dataset(path):\n",
    "    folder_path = os.environ.get(\"MNIST_DATASET_PATH\")\n",
    "    mnist = os.listdir(folder_path)\n",
    "    # keep the ubyte files unzipped.\n",
    "    mnist_files = [f for f in mnist if f.endswith(\"ubyte\")]\n",
    "\n",
    "    for file in mnist_files:\n",
    "        with open(folder_path + file, \"r\") as f:\n",
    "            data = f.read() # reads as a string from start till end.\n",
    "            type_of_file = convert_to_int(data[0:4])\n",
    "            length = convert_to_int(data[4:8])\n",
    "            if type_of_file == 2051:\n",
    "                # this is the image file.\n",
    "                category = \"image\"\n",
    "                rows = convert_to_int(data[8:12])\n",
    "                cols = convert_to_int(data[12:16])\n",
    "                data_x = np.frombuffer(data, dtype=np.uint8, offset=16)\n",
    "                data_x = data_x.reshape(length, rows, cols)\n",
    "            elif type_of_file == 2049:\n",
    "                category = \"label\"\n",
    "                data_x = np.frombuffer(data, dtype=np.uint8, offset=8)\n",
    "                data_x = data_x.reshape(length, 1)\n",
    "            \n",
    "            if length == 60000:\n",
    "                setting = \"train\"\n",
    "            elif length == 10000:\n",
    "                setting = \"test\"\n",
    "        dataset[setting + \"_\" + category] = data_x\n",
    "\n"
   ]
  },
  {
   "cell_type": "markdown",
   "id": "73ab9970",
   "metadata": {},
   "source": [
    "finding pairwise euclidean distance matrix and cosine similarity matrix.\n",
    "\n",
    "most importantly remember that distance and similarity are intuitively different.\n",
    "\n",
    "The larger the ecu_distance they are more dissimilar.\n",
    "In case of cosine similarity, the values are bound by -1, 1. 1 means exactly aligned, exactly simialr. -1 means exactly opposit or extremely dissimilar.\n",
    "\n",
    "both the matrices are square matrices. of n x n. where n is the number of datapoints in the data.\n",
    "\n",
    "the diagonals are 0 in euc because the distance from itself in 0\n",
    "in cosine_simi t is 1 because, the element is exactly aligned with itself.\n",
    "\n"
   ]
  },
  {
   "cell_type": "code",
   "execution_count": null,
   "id": "d4792b0c",
   "metadata": {},
   "outputs": [],
   "source": [
    "from sklearn.metrics import pairwise_distances\n",
    "from sklearn.metrics.pairwise import cosine_similarity\n",
    "\n",
    "n = 1000\n",
    "batch = 100\n",
    "flattened_images = dataset[\"train_image\"].reshape(n, -1)  # Flatten the images\n",
    "euc = np.zeros((n, n), dtype=np.float32)\n",
    "cos = np.zeros((n, n), dtype=np.float32)\n",
    "\n",
    "for i in range(0, n, batch):\n",
    "    end_i = min(n, i + batch)\n",
    "\n",
    "    current_batch = flattened_images[i:end_i]\n",
    "\n",
    "    dist = pairwise_distances(current_batch, flattened_images, metric=\"eculidean\") # compare current batch against the entire dataset. by default the metric is euclidean.\n",
    "    sim = cosine_similarity(current_batch, flattened_images)\n",
    "\n",
    "    euc[i: end_i, :] = dist\n",
    "    cos[i:end_i, :] = cos\n",
    "\n",
    "\n",
    "# self implementing cos\n",
    "\n",
    "n = 1000\n",
    "batch = 100\n",
    "flattened_images = dataset[\"train_image\"].reshape(n, -1)  # Flatten the images\n",
    "cos = np.zeros((n, n), dtype=np.float32)\n",
    "\n",
    "for i in range(0, n, batch):\n",
    "    end_i = min(n, i + batch)\n",
    "\n",
    "    current_batch = flattened_images[i:end_i]\n",
    "    "
   ]
  }
 ],
 "metadata": {
  "kernelspec": {
   "display_name": "chatbot_env",
   "language": "python",
   "name": "python3"
  },
  "language_info": {
   "name": "python",
   "version": "3.9.6"
  }
 },
 "nbformat": 4,
 "nbformat_minor": 5
}
