{
 "cells": [
  {
   "cell_type": "code",
   "execution_count": 2,
   "metadata": {},
   "outputs": [
    {
     "data": {
      "text/plain": [
       "True"
      ]
     },
     "execution_count": 2,
     "metadata": {},
     "output_type": "execute_result"
    }
   ],
   "source": [
    "import os\n",
    "import numpy as np\n",
    "from scipy.stats import binom\n",
    "from dotenv import load_dotenv\n",
    "\n",
    "load_dotenv()"
   ]
  },
  {
   "cell_type": "code",
   "execution_count": 3,
   "metadata": {},
   "outputs": [
    {
     "name": "stdout",
     "output_type": "stream",
     "text": [
      "Top rows of the dataset: \n",
      " [[0. 1. 0. 0. 1. 0. 1. 0. 1. 0. 0. 0. 1. 1. 1. 0. 1. 1. 0. 1.]\n",
      " [1. 0. 0. 1. 1. 1. 1. 1. 1. 1. 1. 1. 0. 0. 1. 1. 1. 1. 0. 1.]\n",
      " [1. 1. 0. 1. 1. 1. 0. 0. 1. 1. 0. 0. 0. 1. 0. 1. 1. 0. 1. 0.]\n",
      " [1. 0. 0. 0. 0. 0. 0. 0. 0. 1. 0. 0. 0. 1. 0. 0. 0. 0. 0. 0.]\n",
      " [0. 0. 1. 0. 0. 1. 0. 0. 0. 1. 0. 0. 0. 0. 0. 0. 0. 0. 0. 0.]]\n",
      "Shape of the dataset:  (50, 20)\n"
     ]
    }
   ],
   "source": [
    "file_path = os.environ.get(\"TWO_GAUSSIAN_DATASET_HW2A_QUESTION3\")\n",
    "file = file_path + \"coin_flips_outcome_hw2A_q4.txt\"\n",
    "\n",
    "dataset = np.loadtxt(file)\n",
    "print(\"Top rows of the dataset: \\n\", dataset[:5])\n",
    "print(\"Shape of the dataset: \", dataset.shape)"
   ]
  },
  {
   "cell_type": "code",
   "execution_count": 9,
   "metadata": {},
   "outputs": [
    {
     "name": "stdout",
     "output_type": "stream",
     "text": [
      "Initial probabilities of heads:  [0.5 0.6 0.7]\n",
      "Initial chance of picking coin k:  [0.13280177 0.46742929 0.39976894]\n",
      "Converged after  21  iterations\n",
      "Final probabilities of heads:  [0.23691687 0.61003635 0.93172847]\n",
      "Final chance of picking coin k:  [0.30681062 0.51463149 0.17855789]\n"
     ]
    }
   ],
   "source": [
    "np.random.seed(89)\n",
    "k = 3\n",
    "prob_heads = np.random.randint(low=2, high=8, size=3)\n",
    "prob_heads = prob_heads / 10\n",
    "print(\"Initial probabilities of heads: \", prob_heads)\n",
    "\n",
    "chance_of_pickining_coin = np.random.dirichlet([2, 5, 4]) \n",
    "print(\"Initial chance of picking coin k: \", chance_of_pickining_coin)\n",
    "\n",
    "D = dataset.shape[1]\n",
    "max_iter = 100\n",
    "threshold = 1e-8\n",
    "prev_likelihood = -np.inf\n",
    "number_of_heads = np.sum(dataset, axis=1)\n",
    "\n",
    "\n",
    "for iteration in range(max_iter):\n",
    "    responsibilities = np.zeros((dataset.shape[0], k))\n",
    "\n",
    "    for i in range(k):\n",
    "        responsibilities[:, i] = chance_of_pickining_coin[i] * binom.pmf(number_of_heads, D, prob_heads[i])\n",
    "    responsibilities /= responsibilities.sum(keepdims=True, axis=1)\n",
    "\n",
    "    Nk = responsibilities.sum(axis=0)\n",
    "    prob_heads = responsibilities.T @ number_of_heads / (Nk * D)\n",
    "    chance_of_pickining_coin = Nk / dataset.shape[0]\n",
    "\n",
    "    log_likelihood = np.sum(np.log(np.sum(chance_of_pickining_coin * binom.pmf(number_of_heads[:, np.newaxis], D, prob_heads), axis=1)))\n",
    "\n",
    "    if log_likelihood - prev_likelihood < threshold:\n",
    "        print(\"Converged after \", iteration, \" iterations\")\n",
    "        break\n",
    "    prev_likelihood = log_likelihood\n",
    "\n",
    "print(\"Final probabilities of heads: \", prob_heads)\n",
    "print(\"Final chance of picking coin k: \", chance_of_pickining_coin)"
   ]
  }
 ],
 "metadata": {
  "kernelspec": {
   "display_name": "chatbot_env",
   "language": "python",
   "name": "python3"
  },
  "language_info": {
   "codemirror_mode": {
    "name": "ipython",
    "version": 3
   },
   "file_extension": ".py",
   "mimetype": "text/x-python",
   "name": "python",
   "nbconvert_exporter": "python",
   "pygments_lexer": "ipython3",
   "version": "3.9.6"
  }
 },
 "nbformat": 4,
 "nbformat_minor": 2
}
