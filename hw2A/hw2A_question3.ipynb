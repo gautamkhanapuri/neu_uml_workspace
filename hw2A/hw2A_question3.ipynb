{
 "cells": [
  {
   "cell_type": "code",
   "execution_count": 2,
   "metadata": {},
   "outputs": [],
   "source": [
    "import os\n",
    "import numpy as np\n",
    "from scipy.stats import multivariate_normal"
   ]
  },
  {
   "cell_type": "code",
   "execution_count": 3,
   "metadata": {},
   "outputs": [
    {
     "data": {
      "text/plain": [
       "True"
      ]
     },
     "execution_count": 3,
     "metadata": {},
     "output_type": "execute_result"
    }
   ],
   "source": [
    "from dotenv import load_dotenv\n",
    "\n",
    "load_dotenv()"
   ]
  },
  {
   "cell_type": "code",
   "execution_count": 4,
   "metadata": {},
   "outputs": [],
   "source": [
    "def random_cov_matrix(n=2):\n",
    "    A = np.random.rand(n, n)\n",
    "    return A @ A.T"
   ]
  },
  {
   "cell_type": "code",
   "execution_count": 5,
   "metadata": {},
   "outputs": [],
   "source": [
    "def calculate_multivariate_normal_distribution(dataset, mean, cov, dimensions):\n",
    "    det_cov = np.linalg.det(cov)\n",
    "    inv_cov = np.linalg.inv(cov)\n",
    "\n",
    "    norm_factor = np.sqrt(((2 * np.pi) ** dimensions) * det_cov)\n",
    "    norm_factor = 1 / norm_factor\n",
    "    diff = (dataset - mean)\n",
    "\n",
    "    power = -0.5 * np.sum(diff @ inv_cov * diff, axis=1)\n",
    "\n",
    "    result = norm_factor * np.exp(power)\n",
    "    return result"
   ]
  },
  {
   "cell_type": "code",
   "execution_count": 32,
   "metadata": {},
   "outputs": [
    {
     "name": "stdout",
     "output_type": "stream",
     "text": [
      "number of points 6000\n",
      "dimensions 2\n",
      "Top 5 entries:\n",
      " [[7.57104365 3.53027417]\n",
      " [7.33721752 4.26271316]\n",
      " [3.07182783 1.11801871]\n",
      " [6.22685121 3.66748946]\n",
      " [3.51314173 1.60312499]]\n",
      "Initial means: [[0.03633003 0.39923534]\n",
      " [0.74684203 0.85496775]]\n",
      "Initial covariance: [[[1.36232295 1.14056652]\n",
      "  [1.14056652 0.9682258 ]]\n",
      "\n",
      " [[0.69226379 0.4492413 ]\n",
      "  [0.4492413  1.13239383]]] (2, 2, 2)\n",
      "weights [0.82195032 0.17804968]\n",
      "Converged after 58 iterations.\n",
      "Final means: [[2.99413012 3.0520968 ]\n",
      " [7.01314743 3.98313368]]\n",
      "Final covariances: [[[1.01023144 0.0271917 ]\n",
      "  [0.0271917  2.93782429]]\n",
      "\n",
      " [[0.97476047 0.49747119]\n",
      "  [0.49747119 1.00114334]]]\n",
      "Final weights: [0.33479548 0.66520452]\n"
     ]
    }
   ],
   "source": [
    "file_path = os.environ.get(\"TWO_GAUSSIAN_DATASET_HW2A_QUESTION3\")\n",
    "file = file_path + \"2gaussian_hw2A_q3.txt\"\n",
    "\n",
    "dataset = np.loadtxt(file)\n",
    "number_of_points, dimensions = dataset.shape\n",
    "print(\"number of points\", number_of_points)\n",
    "print(\"dimensions\", dimensions)\n",
    "print(\"Top 5 entries:\\n\", dataset[:5])\n",
    "\n",
    "k = 2\n",
    "\n",
    "# np.random.seed(96)\n",
    "# means = np.random.choice(6000, size=2, replace=False)\n",
    "# means = dataset[means]\n",
    "means = np.random.random((2,2))\n",
    "covariance = np.array([random_cov_matrix() for _ in range(k)])  #TODO use genric covariance randomly generated.\n",
    "weights = np.random.dirichlet([2, 4])# use random weights\n",
    "\n",
    "print(\"Initial means:\", means)\n",
    "print(\"Initial covariance:\", covariance, covariance.shape)\n",
    "print(\"weights\", weights)\n",
    "\n",
    "\n",
    "threshold = 1e-8\n",
    "max_iter = 100\n",
    "prev_likelihood = -np.inf\n",
    "\n",
    "for iteration in range(max_iter):\n",
    "    responsibilities = np.zeros((number_of_points, k))\n",
    "\n",
    "    for ki in range(k):\n",
    "        # responsibilities[:, ki] = weights[ki] * multivariate_normal.pdf(dataset, means[ki], covariance[ki]) #TODO write your own func for pdf\n",
    "        responsibilities[:, ki] = weights[ki] * calculate_multivariate_normal_distribution(dataset, means[ki], covariance[ki], k)\n",
    "\n",
    "    responsibilities /= responsibilities.sum(axis=1, keepdims=True)\n",
    "\n",
    "    Nk = responsibilities.sum(axis=0)\n",
    "    weights = Nk/number_of_points\n",
    "\n",
    "    for ki in range(k):\n",
    "        means[ki] = (responsibilities[:, ki] @ dataset) / Nk[ki]\n",
    "        centered_data = dataset - means[ki]\n",
    "        covariance[ki] = (responsibilities[:, ki, np.newaxis] * centered_data).T @ centered_data / Nk[ki]\n",
    "\n",
    "    likelihood = np.sum(np.log(np.sum([weights[ki] * multivariate_normal.pdf(dataset, means[ki], covariance[ki]) for ki in range(k)], axis=0)))\n",
    "\n",
    "    if np.abs(likelihood - prev_likelihood) < threshold:\n",
    "        print(f\"Converged after {iteration + 1} iterations.\")\n",
    "        break\n",
    "    prev_likelihood = likelihood\n",
    "\n",
    "print(f\"Final means:\", means)\n",
    "print(\"Final covariances:\", covariance)\n",
    "print(\"Final weights:\", weights)"
   ]
  },
  {
   "cell_type": "code",
   "execution_count": 6,
   "metadata": {},
   "outputs": [
    {
     "name": "stdout",
     "output_type": "stream",
     "text": [
      "Initial index of random points chosen: [[0.57658723 0.49898512]\n",
      " [0.35683543 0.24649119]\n",
      " [0.75097232 0.61968612]]\n",
      "Initial random means: [[0.57658723 0.49898512]\n",
      " [0.35683543 0.24649119]\n",
      " [0.75097232 0.61968612]]\n",
      "Initial covariance: [[[0.82946078 0.92622259]\n",
      "  [0.92622259 1.23891888]]\n",
      "\n",
      " [[0.41064337 0.17598749]\n",
      "  [0.17598749 0.11474408]]\n",
      "\n",
      " [[0.08545199 0.11329867]\n",
      "  [0.11329867 0.3331271 ]]]\n",
      "Initial weights: [0.1859191  0.34724138 0.46683952]\n",
      "Converged after 95 iterations.\n",
      "Final means: [[5.01171924 7.00146402]\n",
      " [7.02156035 4.01546007]\n",
      " [3.03968325 3.04845984]]\n",
      "Final covariances: [[[0.97972462 0.18516483]\n",
      "  [0.18516483 0.97455526]]\n",
      "\n",
      " [[0.99041508 0.50096024]\n",
      "  [0.50096024 0.99564881]]\n",
      "\n",
      " [[1.02849525 0.02680653]\n",
      "  [0.02680653 3.38463545]]]\n",
      "Final weights: [0.49596938 0.29843675 0.20559387]\n"
     ]
    }
   ],
   "source": [
    "file_path = os.environ.get(\"TWO_GAUSSIAN_DATASET_HW2A_QUESTION3\")\n",
    "file_3gaussian = file_path + \"3gaussian_hw2A_q3.txt\"\n",
    "dataset_3gaussian = np.loadtxt(file_3gaussian)\n",
    "\n",
    "number_of_points_3gaussian, dimensions_3gaussian = dataset_3gaussian.shape\n",
    "k_3gaussian = 3\n",
    "\n",
    "# means_3gaussian = np.random.choice(number_of_points_3gaussian, size=k_3gaussian, replace=False)\n",
    "means_3gaussian = np.random.random((3,2))\n",
    "print(\"Initial index of random points chosen:\", means_3gaussian)\n",
    "# means_3gaussian = dataset_3gaussian[means_3gaussian]\n",
    "covariance_3gaussian = np.array([random_cov_matrix() for _ in range(k_3gaussian)])\n",
    "weights_3gaussian = np.random.dirichlet([2, 4, 7])\n",
    "\n",
    "print(\"Initial random means:\", means_3gaussian)\n",
    "print(\"Initial covariance:\", covariance_3gaussian)\n",
    "print(\"Initial weights:\", weights_3gaussian)\n",
    "\n",
    "threshold = 1e-8\n",
    "max_iter = 100\n",
    "prev_likelihood_3gaussian = -np.inf\n",
    "\n",
    "\n",
    "for iteration in range(max_iter):\n",
    "\n",
    "    responsibilities_3gaussian = np.zeros((number_of_points_3gaussian, k_3gaussian))\n",
    "\n",
    "    for k_i in range(k_3gaussian):\n",
    "        # responsibilities_3gaussian[:, k_i] = weights_3gaussian[k_i] * multivariate_normal.pdf(dataset_3gaussian, means_3gaussian[k_i], covariance_3gaussian[k_i])\n",
    "        responsibilities_3gaussian[:, k_i] = weights_3gaussian[k_i] * calculate_multivariate_normal_distribution(dataset_3gaussian, means_3gaussian[k_i], covariance_3gaussian[k_i], k_3gaussian)\n",
    "\n",
    "    responsibilities_3gaussian /= responsibilities_3gaussian.sum(axis=1, keepdims=1)\n",
    "\n",
    "    Nk_3gaussian = responsibilities_3gaussian.sum(axis=0)\n",
    "    weights_3gaussian = Nk_3gaussian/number_of_points_3gaussian\n",
    "\n",
    "    for k_i in range(k_3gaussian):\n",
    "        means_3gaussian[k_i] = (responsibilities_3gaussian[:, k_i] @ dataset_3gaussian) / Nk_3gaussian[k_i]\n",
    "        centered_data_3gaussian = dataset_3gaussian - means_3gaussian[k_i]\n",
    "        covariance_3gaussian[k_i] = (responsibilities_3gaussian[:, k_i, np.newaxis] * centered_data_3gaussian).T @ centered_data_3gaussian / Nk_3gaussian[k_i]\n",
    "\n",
    "    likelihood_3gaussian = np.sum(np.log(np.sum([weights_3gaussian[k_i] * multivariate_normal.pdf(dataset_3gaussian, means_3gaussian[k_i], cov=covariance_3gaussian[k_i]) for k_i in range(k_3gaussian)], axis=0)))\n",
    "    \n",
    "    if np.abs(likelihood_3gaussian - prev_likelihood_3gaussian) < threshold:\n",
    "        print(f\"Converged after {iteration + 1} iterations.\")\n",
    "        break\n",
    "    prev_likelihood_3gaussian = likelihood_3gaussian\n",
    "\n",
    "print(f\"Final means:\", means_3gaussian)\n",
    "print(\"Final covariances:\", covariance_3gaussian)\n",
    "print(\"Final weights:\", weights_3gaussian)"
   ]
  }
 ],
 "metadata": {
  "kernelspec": {
   "display_name": "chatbot_env",
   "language": "python",
   "name": "python3"
  },
  "language_info": {
   "codemirror_mode": {
    "name": "ipython",
    "version": 3
   },
   "file_extension": ".py",
   "mimetype": "text/x-python",
   "name": "python",
   "nbconvert_exporter": "python",
   "pygments_lexer": "ipython3",
   "version": "3.9.6"
  }
 },
 "nbformat": 4,
 "nbformat_minor": 2
}
