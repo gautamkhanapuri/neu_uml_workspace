{
 "cells": [
  {
   "cell_type": "markdown",
   "id": "fb9084f3",
   "metadata": {},
   "source": [
    "I load the data.\n",
    "I randomly initialize the probability of picking a class and random lambdas.\n",
    "Then I run the EM loop until convergence."
   ]
  },
  {
   "cell_type": "markdown",
   "id": "8af61fea",
   "metadata": {},
   "source": [
    "# Part A"
   ]
  },
  {
   "cell_type": "markdown",
   "id": "92d1edeb",
   "metadata": {},
   "source": [
    "The proper distribution for number of bids per day is a Poisson distribution with a single parameter called lambda. This lambda is the mean. P (X = k) = (lambda ^ k * e ^ (-lambda)) / k!"
   ]
  },
  {
   "cell_type": "code",
   "execution_count": 7,
   "id": "b55b8917",
   "metadata": {},
   "outputs": [
    {
     "data": {
      "text/plain": [
       "True"
      ]
     },
     "execution_count": 7,
     "metadata": {},
     "output_type": "execute_result"
    }
   ],
   "source": [
    "import os\n",
    "import numpy as np\n",
    "from scipy.stats import poisson\n",
    "from dotenv import load_dotenv\n",
    "\n",
    "\n",
    "load_dotenv()"
   ]
  },
  {
   "cell_type": "code",
   "execution_count": 8,
   "id": "3c12a0ed",
   "metadata": {},
   "outputs": [
    {
     "name": "stdout",
     "output_type": "stream",
     "text": [
      "Dataset loaded successfully.\n",
      "Dataset shape: (10000,)\n",
      "Dataset first 5 rows:\n",
      " [12. 22. 21. 12.  2.]\n"
     ]
    }
   ],
   "source": [
    "file_path = os.environ.get(\"DATASET_PATH\") + \"pb2data_D.txt\"\n",
    "\n",
    "dataset = np.loadtxt(file_path, delimiter=\",\")\n",
    "print(\"Dataset loaded successfully.\")\n",
    "print(\"Dataset shape:\", dataset.shape)\n",
    "print(\"Dataset first 5 rows:\\n\", dataset[:5])"
   ]
  },
  {
   "cell_type": "code",
   "execution_count": 9,
   "id": "e32f71bc",
   "metadata": {},
   "outputs": [
    {
     "name": "stdout",
     "output_type": "stream",
     "text": [
      "Chance of picking each class: [0.10492638 0.19322896 0.49480319 0.20704147]\n"
     ]
    },
    {
     "name": "stderr",
     "output_type": "stream",
     "text": [
      "/var/folders/9d/hd3srjbx4rgbbrvnwxmcmh9c0000gn/T/ipykernel_40307/2041061204.py:24: RuntimeWarning: divide by zero encountered in log\n",
      "  likelihood = np.sum(np.log(np.sum(chance_of_picking_class * poisson.pmf(lambdas[:, None], mu=lambdas), axis=1)))\n",
      "/var/folders/9d/hd3srjbx4rgbbrvnwxmcmh9c0000gn/T/ipykernel_40307/2041061204.py:26: RuntimeWarning: invalid value encountered in scalar subtract\n",
      "  if abs(likelihood - prev_likelihood) < threshold:\n"
     ]
    }
   ],
   "source": [
    "chance_of_picking_class = np.random.dirichlet([2, 5, 4, 3])\n",
    "print(\"Chance of picking each class:\", chance_of_picking_class)\n",
    "\n",
    "k = 4\n",
    "max_iter = 100\n",
    "threshold = 1e-8\n",
    "prev_likelihood = -np.inf\n",
    "lambdas = np.random.uniform(1, 25, size=k)\n",
    "\n",
    "responsibilities = np.zeros((dataset.shape[0], k))\n",
    "\n",
    "for iteration in range(max_iter):\n",
    "    # E-step: determine responsibilities\n",
    "    for i in range(k):\n",
    "        responsibilities[:, i] = chance_of_picking_class[i] * poisson.pmf(dataset, mu=lambdas[i])\n",
    "\n",
    "    responsibilities /= responsibilities.sum(keepdims=True, axis=1)\n",
    "    \n",
    "    # M-step: update parameters\n",
    "    Nk = responsibilities.sum(axis=0)\n",
    "    chance_of_picking_class = Nk / dataset.shape[0]\n",
    "    lambdas = (responsibilities * dataset[:, np.newaxis]).sum(axis=0) / Nk\n",
    "\n",
    "    likelihood = np.sum(np.log(np.sum(chance_of_picking_class * poisson.pmf(lambdas[:, None], mu=lambdas), axis=1)))\n",
    "    # Check for convergence\n",
    "    if abs(likelihood - prev_likelihood) < threshold:\n",
    "        print(f\"Converged after {iteration} iterations.\")\n",
    "        break\n",
    "\n",
    "    prev_likelihood = likelihood"
   ]
  },
  {
   "cell_type": "code",
   "execution_count": 13,
   "id": "b281772a",
   "metadata": {},
   "outputs": [
    {
     "name": "stdout",
     "output_type": "stream",
     "text": [
      "Final values of lambdas:  [13.96559424  5.95768166  1.92467108 22.09204597]\n",
      "Final chance of picking classes:  [1101.47208767 3077.22913692 1871.05481928 3950.24395614]\n"
     ]
    }
   ],
   "source": [
    "print(\"Final values of lambdas: \", lambdas)\n",
    "print(\"Final chance of picking classes: \", chance_of_picking_class*10000)"
   ]
  },
  {
   "cell_type": "code",
   "execution_count": null,
   "id": "1a16eff3",
   "metadata": {},
   "outputs": [],
   "source": []
  }
 ],
 "metadata": {
  "kernelspec": {
   "display_name": "chatbot_env",
   "language": "python",
   "name": "python3"
  },
  "language_info": {
   "codemirror_mode": {
    "name": "ipython",
    "version": 3
   },
   "file_extension": ".py",
   "mimetype": "text/x-python",
   "name": "python",
   "nbconvert_exporter": "python",
   "pygments_lexer": "ipython3",
   "version": "3.9.6"
  }
 },
 "nbformat": 4,
 "nbformat_minor": 5
}
