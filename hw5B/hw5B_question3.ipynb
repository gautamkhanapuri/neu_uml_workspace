{
 "cells": [
  {
   "cell_type": "code",
   "execution_count": 2,
   "metadata": {},
   "outputs": [
    {
     "name": "stdout",
     "output_type": "stream",
     "text": [
      "Collecting wordcloud\n",
      "  Using cached wordcloud-1.9.4-cp39-cp39-macosx_11_0_arm64.whl.metadata (3.4 kB)\n",
      "Requirement already satisfied: numpy>=1.6.1 in /Users/ajeyk/neu_uml_workspace/chatbot_env/lib/python3.9/site-packages (from wordcloud) (1.26.4)\n",
      "Requirement already satisfied: pillow in /Users/ajeyk/neu_uml_workspace/chatbot_env/lib/python3.9/site-packages (from wordcloud) (10.4.0)\n",
      "Requirement already satisfied: matplotlib in /Users/ajeyk/neu_uml_workspace/chatbot_env/lib/python3.9/site-packages (from wordcloud) (3.9.2)\n",
      "Requirement already satisfied: contourpy>=1.0.1 in /Users/ajeyk/neu_uml_workspace/chatbot_env/lib/python3.9/site-packages (from matplotlib->wordcloud) (1.3.0)\n",
      "Requirement already satisfied: cycler>=0.10 in /Users/ajeyk/neu_uml_workspace/chatbot_env/lib/python3.9/site-packages (from matplotlib->wordcloud) (0.12.1)\n",
      "Requirement already satisfied: fonttools>=4.22.0 in /Users/ajeyk/neu_uml_workspace/chatbot_env/lib/python3.9/site-packages (from matplotlib->wordcloud) (4.54.1)\n",
      "Requirement already satisfied: kiwisolver>=1.3.1 in /Users/ajeyk/neu_uml_workspace/chatbot_env/lib/python3.9/site-packages (from matplotlib->wordcloud) (1.4.7)\n",
      "Requirement already satisfied: packaging>=20.0 in /Users/ajeyk/neu_uml_workspace/chatbot_env/lib/python3.9/site-packages (from matplotlib->wordcloud) (24.1)\n",
      "Requirement already satisfied: pyparsing>=2.3.1 in /Users/ajeyk/neu_uml_workspace/chatbot_env/lib/python3.9/site-packages (from matplotlib->wordcloud) (3.1.4)\n",
      "Requirement already satisfied: python-dateutil>=2.7 in /Users/ajeyk/neu_uml_workspace/chatbot_env/lib/python3.9/site-packages (from matplotlib->wordcloud) (2.8.2)\n",
      "Requirement already satisfied: importlib-resources>=3.2.0 in /Users/ajeyk/neu_uml_workspace/chatbot_env/lib/python3.9/site-packages (from matplotlib->wordcloud) (6.4.5)\n",
      "Requirement already satisfied: zipp>=3.1.0 in /Users/ajeyk/neu_uml_workspace/chatbot_env/lib/python3.9/site-packages (from importlib-resources>=3.2.0->matplotlib->wordcloud) (3.20.2)\n",
      "Requirement already satisfied: six>=1.5 in /Users/ajeyk/neu_uml_workspace/chatbot_env/lib/python3.9/site-packages (from python-dateutil>=2.7->matplotlib->wordcloud) (1.16.0)\n",
      "Using cached wordcloud-1.9.4-cp39-cp39-macosx_11_0_arm64.whl (168 kB)\n",
      "Installing collected packages: wordcloud\n",
      "Successfully installed wordcloud-1.9.4\n",
      "\n",
      "\u001b[1m[\u001b[0m\u001b[34;49mnotice\u001b[0m\u001b[1;39;49m]\u001b[0m\u001b[39;49m A new release of pip is available: \u001b[0m\u001b[31;49m24.3.1\u001b[0m\u001b[39;49m -> \u001b[0m\u001b[32;49m25.0.1\u001b[0m\n",
      "\u001b[1m[\u001b[0m\u001b[34;49mnotice\u001b[0m\u001b[1;39;49m]\u001b[0m\u001b[39;49m To update, run: \u001b[0m\u001b[32;49mpip install --upgrade pip\u001b[0m\n",
      "Note: you may need to restart the kernel to use updated packages.\n"
     ]
    }
   ],
   "source": [
    "%pip install wordcloud\n"
   ]
  },
  {
   "cell_type": "code",
   "execution_count": null,
   "metadata": {},
   "outputs": [],
   "source": [
    "import numpy as np\n",
    "import matplotlib.pyplot as plt\n",
    "from wordcloud import WordCloud\n",
    "from collections import Counter\n",
    "import re"
   ]
  },
  {
   "cell_type": "code",
   "execution_count": null,
   "metadata": {},
   "outputs": [],
   "source": [
    "# Preprocess the sonnet dataset\n",
    "def preprocess_text(text):\n",
    "    # Remove non-alphabetic characters and convert to lowercase\n",
    "    text = re.sub(r'[^a-zA-Z\\s]', '', text)\n",
    "    text = text.lower()\n",
    "    return text.split()\n",
    "\n",
    "# Load the sonnet dataset (one sonnet per line)\n",
    "with open(\"sonnets.txt\", \"r\") as f:\n",
    "    sonnets = f.readlines()\n",
    "\n",
    "# Preprocess the dataset\n",
    "documents = [preprocess_text(sonnet) for sonnet in sonnets]\n",
    "\n",
    "# Build vocabulary and document-word matrix (DOCD)\n",
    "vocab = list(set(word for doc in documents for word in doc))\n",
    "word_to_index = {word: idx for idx, word in enumerate(vocab)}\n",
    "index_to_word = {idx: word for word, idx in word_to_index.items()}\n",
    "\n",
    "# Convert documents to word indices\n",
    "DOCD = np.array([[word_to_index[word] for word in doc] for doc in documents])\n",
    "\n",
    "# Set parameters\n",
    "K = 6  # Number of topics\n",
    "N = len(documents)  # Number of documents (154 for sonnets)\n",
    "W = len(vocab)  # Number of words in the vocabulary\n",
    "DLMAX = max(len(doc) for doc in documents)  # Max document length\n",
    "\n",
    "alpha = 5 * np.ones(K)  # Dirichlet prior for document-topic distribution\n",
    "beta = 2 * np.ones(W)  # Dirichlet prior for topic-word distribution\n",
    "\n",
    "# Initialize matrices\n",
    "Z = np.zeros((N, DLMAX), dtype=int)  # Topic assignments for each word in each document\n",
    "A = np.tile(alpha, (N, 1))  # Document-topic counts (N x K)\n",
    "B = np.tile(beta, (K, 1))  # Topic-word counts (K x W)\n",
    "BSUM = np.sum(B, axis=1)  # Sum of word counts per topic (K x 1)\n",
    "\n",
    "# Perform Gibbs sampling\n",
    "iterations = 1000\n",
    "for T in range(iterations):\n",
    "    for d in range(N):\n",
    "        for i in range(len(documents[d])):  # Only iterate over the actual words in each document\n",
    "            w = DOCD[d, i]  # Word in the document\n",
    "            zi = Z[d, i]  # Current topic assignment for word w in document d\n",
    "\n",
    "            if zi > 0:\n",
    "                A[d, zi] -= 1  # Decrease count of the old topic for document d\n",
    "                B[zi, w] -= 1  # Decrease count of the word for the old topic\n",
    "                BSUM[zi] -= 1  # Decrease the sum of word counts for the old topic\n",
    "\n",
    "            # Calculate the unnormalized distribution for the new topic assignment\n",
    "            dst = A[d, :] * (B[:, w] / BSUM)  # Probabilities for each topic\n",
    "\n",
    "            # Sample a new topic based on the distribution\n",
    "            new_zi = np.random.choice(len(dst), p=dst / np.sum(dst))\n",
    "\n",
    "            # Update topic assignment and counts\n",
    "            Z[d, i] = new_zi\n",
    "            A[d, new_zi] += 1  # Increase count for the new topic in document d\n",
    "            B[new_zi, w] += 1  # Increase count for the word in the new topic\n",
    "            BSUM[new_zi] += 1  # Increase the sum of word counts for the new topic\n",
    "\n",
    "# Display wordcloud for each topic\n",
    "for k in range(K):\n",
    "    plt.figure(k)\n",
    "    plt.clf()\n",
    "    word_freq = B[k, :]\n",
    "    wordcloud = WordCloud(width=800, height=400, background_color='white').generate_from_frequencies(dict(zip(vocab, word_freq)))\n",
    "    plt.imshow(wordcloud, interpolation='bilinear')\n",
    "    plt.title(f\"Topic {k+1}\")\n",
    "    plt.axis('off')\n",
    "    plt.show()"
   ]
  }
 ],
 "metadata": {
  "kernelspec": {
   "display_name": "chatbot_env",
   "language": "python",
   "name": "python3"
  },
  "language_info": {
   "codemirror_mode": {
    "name": "ipython",
    "version": 3
   },
   "file_extension": ".py",
   "mimetype": "text/x-python",
   "name": "python",
   "nbconvert_exporter": "python",
   "pygments_lexer": "ipython3",
   "version": "3.9.6"
  }
 },
 "nbformat": 4,
 "nbformat_minor": 2
}
