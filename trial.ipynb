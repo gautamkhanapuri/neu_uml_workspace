{
 "cells": [
  {
   "cell_type": "code",
   "execution_count": 2,
   "metadata": {},
   "outputs": [],
   "source": [
    "import numpy as np"
   ]
  },
  {
   "cell_type": "code",
   "execution_count": 3,
   "metadata": {},
   "outputs": [
    {
     "name": "stdout",
     "output_type": "stream",
     "text": [
      "[[30]\n",
      " [30]\n",
      " [30]\n",
      " [30]]\n"
     ]
    }
   ],
   "source": [
    "array = [\n",
    "    [3, 1, 2, 4],\n",
    "    [2, 3, 4, 1],\n",
    "    [1, 4, 3, 2],\n",
    "    [3, 2, 1, 4]\n",
    "]\n",
    "\n",
    "np_array = np.array(array)\n",
    "norm_array = np.sum(np_array**2, axis=1).reshape(-1,1)\n",
    "print(norm_array)"
   ]
  },
  {
   "cell_type": "code",
   "execution_count": 8,
   "metadata": {},
   "outputs": [
    {
     "ename": "ValueError",
     "evalue": "operands could not be broadcast together with shapes (2,4) (2,2) ",
     "output_type": "error",
     "traceback": [
      "\u001b[0;31m---------------------------------------------------------------------------\u001b[0m",
      "\u001b[0;31mValueError\u001b[0m                                Traceback (most recent call last)",
      "Cell \u001b[0;32mIn[8], line 14\u001b[0m\n\u001b[1;32m     12\u001b[0m norm_array_1 \u001b[38;5;241m=\u001b[39m norm_array[i:end_i]\n\u001b[1;32m     13\u001b[0m norm_array_2 \u001b[38;5;241m=\u001b[39m norm_array[i:end_j]\u001b[38;5;241m.\u001b[39mT\n\u001b[0;32m---> 14\u001b[0m dists \u001b[38;5;241m=\u001b[39m np\u001b[38;5;241m.\u001b[39msqrt(\u001b[43mnorm_array_1\u001b[49m\u001b[43m \u001b[49m\u001b[38;5;241;43m+\u001b[39;49m\u001b[43m \u001b[49m\u001b[43mnorm_array_2\u001b[49m\u001b[43m \u001b[49m\u001b[38;5;241;43m-\u001b[39;49m\u001b[43m \u001b[49m\u001b[38;5;241;43m2\u001b[39;49m\u001b[43m \u001b[49m\u001b[38;5;241;43m*\u001b[39;49m\u001b[43m \u001b[49m\u001b[43mdot_product\u001b[49m)\n\u001b[1;32m     15\u001b[0m new_array[i:end_i, j:end_j] \u001b[38;5;241m=\u001b[39m dists\n",
      "\u001b[0;31mValueError\u001b[0m: operands could not be broadcast together with shapes (2,4) (2,2) "
     ]
    }
   ],
   "source": [
    "side = np_array.shape[0]\n",
    "new_array = np.zeros((side, side), dtype=np.float64)\n",
    "for i in range(0, side, 2):\n",
    "    end_i = min(i+2, side)\n",
    "    for j in range(0, side, 2):\n",
    "        end_j = min(j+2, side)\n",
    "\n",
    "        batch_i = np_array[i:end_i]\n",
    "        batch_j = np_array[j:end_j].T\n",
    "\n",
    "        dot_product = np.dot(batch_i, batch_j)\n",
    "        norm_array_1 = norm_array[i:end_i]\n",
    "        norm_array_2 = norm_array[i:end_j].T\n",
    "        dists = np.sqrt(norm_array_1 + norm_array_2 - 2 * dot_product)\n",
    "        new_array[i:end_i, j:end_j] = dists\n"
   ]
  },
  {
   "cell_type": "code",
   "execution_count": 16,
   "metadata": {},
   "outputs": [
    {
     "name": "stdout",
     "output_type": "stream",
     "text": [
      "[ 5 25]\n",
      "(2,)\n"
     ]
    }
   ],
   "source": [
    "data = np.array([[1, 2], [3, 4]])\n",
    "squared_sum = np.sum(data**2, axis=1)\n",
    "print(squared_sum)\n",
    "print(squared_sum.shape)"
   ]
  },
  {
   "cell_type": "code",
   "execution_count": 21,
   "metadata": {},
   "outputs": [
    {
     "name": "stdout",
     "output_type": "stream",
     "text": [
      "[ 1  7  5 10 15 20]\n",
      "Index: 0 Value: 10\n",
      "Index: 1 Value: 20\n",
      "Index: 2 Value: 5\n",
      "Index: 3 Value: 7\n",
      "Index: 4 Value: 30\n",
      "Index: 5 Value: 1\n",
      "Index: 6 Value: 15\n",
      "Index: 7 Value: 25\n",
      "[5 3 2 0 6 1]\n",
      "element: 1 index: 5\n",
      "element: 7 index: 3\n",
      "element: 5 index: 2\n",
      "element: 10 index: 0\n",
      "element: 15 index: 6\n",
      "element: 20 index: 1\n"
     ]
    }
   ],
   "source": [
    "arr = np.array([10, 20, 5, 7, 30, 1, 15, 25])\n",
    "smallest_values = np.partition(arr, 5)[:6]\n",
    "print(smallest_values)\n",
    "\n",
    "for ind, element in enumerate(arr):\n",
    "    print(\"Index:\", ind, \"Value:\", element)\n",
    "\n",
    "s = np.argpartition(arr, 5)[:6]\n",
    "print(s)\n",
    "for i in s:\n",
    "    print(\"element:\", arr[i], \"index:\", i)"
   ]
  },
  {
   "cell_type": "code",
   "execution_count": 36,
   "metadata": {},
   "outputs": [
    {
     "name": "stdout",
     "output_type": "stream",
     "text": [
      "7\n"
     ]
    }
   ],
   "source": [
    "from scipy.stats import mode\n",
    "\n",
    "arr = np.array([3,5,2,5,3,6,2,7,2,2,67,7,7,42,2,3,5,6,4,2,2,2,21,5,6,77,7,7,7,7,7,7,7,7,7,7,77,3,2,4])\n",
    "# mode_result = mode(arr)\n",
    "# print(mode_result)\n",
    "\n",
    "# mode_value = mode_result.mode[1]\n",
    "\n",
    "x, counts = np.unique(arr, return_counts=True)\n",
    "ind = np.argmax(counts)\n",
    "y = x[np.argmax(counts)]\n",
    "print(y)"
   ]
  }
 ],
 "metadata": {
  "kernelspec": {
   "display_name": "chatbot_env",
   "language": "python",
   "name": "python3"
  },
  "language_info": {
   "codemirror_mode": {
    "name": "ipython",
    "version": 3
   },
   "file_extension": ".py",
   "mimetype": "text/x-python",
   "name": "python",
   "nbconvert_exporter": "python",
   "pygments_lexer": "ipython3",
   "version": "3.9.6"
  }
 },
 "nbformat": 4,
 "nbformat_minor": 2
}
