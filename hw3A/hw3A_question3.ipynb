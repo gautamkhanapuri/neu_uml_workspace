{
 "cells": [
  {
   "cell_type": "code",
   "execution_count": 1,
   "metadata": {},
   "outputs": [
    {
     "data": {
      "text/plain": [
       "True"
      ]
     },
     "execution_count": 1,
     "metadata": {},
     "output_type": "execute_result"
    }
   ],
   "source": [
    "import os\n",
    "import numpy as np\n",
    "import codecs\n",
    "from sklearn.preprocessing import StandardScaler\n",
    "from sklearn.metrics import accuracy_score\n",
    "from dotenv import load_dotenv\n",
    "from sklearn.linear_model import LogisticRegression\n",
    "from sklearn.tree import DecisionTreeClassifier\n",
    "\n",
    "\n",
    "load_dotenv()"
   ]
  },
  {
   "cell_type": "code",
   "execution_count": 2,
   "metadata": {},
   "outputs": [
    {
     "name": "stdout",
     "output_type": "stream",
     "text": [
      "Reading t10k-images-idx3-ubyte\n",
      "Reading t10k-labels-idx1-ubyte\n",
      "Reading train-images-idx3-ubyte\n",
      "Reading train-labels-idx1-ubyte\n",
      "[[  0   0   0   0   0   0   0   0   0   0   0   0   0   0   0   0   0   0\n",
      "    0   0   0   0   0   0   0   0   0   0]\n",
      " [  0   0   0   0   0   0   0   0   0   0   0   0   0   0   0   0   0   0\n",
      "    0   0   0   0   0   0   0   0   0   0]\n",
      " [  0   0   0   0   0   0   0   0   0   0   0   0   0   0   0   0   0   0\n",
      "    0   0   0   0   0   0   0   0   0   0]\n",
      " [  0   0   0   0   0   0   0   0   0   0   0   0   0   0   0   0   0   0\n",
      "    0   0   0   0   0   0   0   0   0   0]\n",
      " [  0   0   0   0   0   0   0   0   0   0   0   0   0   0   0   0   0   0\n",
      "    0   0   0   0   0   0   0   0   0   0]\n",
      " [  0   0   0   0   0   0   0   0   0   0   0   0   3  18  18  18 126 136\n",
      "  175  26 166 255 247 127   0   0   0   0]\n",
      " [  0   0   0   0   0   0   0   0  30  36  94 154 170 253 253 253 253 253\n",
      "  225 172 253 242 195  64   0   0   0   0]\n",
      " [  0   0   0   0   0   0   0  49 238 253 253 253 253 253 253 253 253 251\n",
      "   93  82  82  56  39   0   0   0   0   0]\n",
      " [  0   0   0   0   0   0   0  18 219 253 253 253 253 253 198 182 247 241\n",
      "    0   0   0   0   0   0   0   0   0   0]\n",
      " [  0   0   0   0   0   0   0   0  80 156 107 253 253 205  11   0  43 154\n",
      "    0   0   0   0   0   0   0   0   0   0]\n",
      " [  0   0   0   0   0   0   0   0   0  14   1 154 253  90   0   0   0   0\n",
      "    0   0   0   0   0   0   0   0   0   0]\n",
      " [  0   0   0   0   0   0   0   0   0   0   0 139 253 190   2   0   0   0\n",
      "    0   0   0   0   0   0   0   0   0   0]\n",
      " [  0   0   0   0   0   0   0   0   0   0   0  11 190 253  70   0   0   0\n",
      "    0   0   0   0   0   0   0   0   0   0]\n",
      " [  0   0   0   0   0   0   0   0   0   0   0   0  35 241 225 160 108   1\n",
      "    0   0   0   0   0   0   0   0   0   0]\n",
      " [  0   0   0   0   0   0   0   0   0   0   0   0   0  81 240 253 253 119\n",
      "   25   0   0   0   0   0   0   0   0   0]\n",
      " [  0   0   0   0   0   0   0   0   0   0   0   0   0   0  45 186 253 253\n",
      "  150  27   0   0   0   0   0   0   0   0]\n",
      " [  0   0   0   0   0   0   0   0   0   0   0   0   0   0   0  16  93 252\n",
      "  253 187   0   0   0   0   0   0   0   0]\n",
      " [  0   0   0   0   0   0   0   0   0   0   0   0   0   0   0   0   0 249\n",
      "  253 249  64   0   0   0   0   0   0   0]\n",
      " [  0   0   0   0   0   0   0   0   0   0   0   0   0   0  46 130 183 253\n",
      "  253 207   2   0   0   0   0   0   0   0]\n",
      " [  0   0   0   0   0   0   0   0   0   0   0   0  39 148 229 253 253 253\n",
      "  250 182   0   0   0   0   0   0   0   0]\n",
      " [  0   0   0   0   0   0   0   0   0   0  24 114 221 253 253 253 253 201\n",
      "   78   0   0   0   0   0   0   0   0   0]\n",
      " [  0   0   0   0   0   0   0   0  23  66 213 253 253 253 253 198  81   2\n",
      "    0   0   0   0   0   0   0   0   0   0]\n",
      " [  0   0   0   0   0   0  18 171 219 253 253 253 253 195  80   9   0   0\n",
      "    0   0   0   0   0   0   0   0   0   0]\n",
      " [  0   0   0   0  55 172 226 253 253 253 253 244 133  11   0   0   0   0\n",
      "    0   0   0   0   0   0   0   0   0   0]\n",
      " [  0   0   0   0 136 253 253 253 212 135 132  16   0   0   0   0   0   0\n",
      "    0   0   0   0   0   0   0   0   0   0]\n",
      " [  0   0   0   0   0   0   0   0   0   0   0   0   0   0   0   0   0   0\n",
      "    0   0   0   0   0   0   0   0   0   0]\n",
      " [  0   0   0   0   0   0   0   0   0   0   0   0   0   0   0   0   0   0\n",
      "    0   0   0   0   0   0   0   0   0   0]\n",
      " [  0   0   0   0   0   0   0   0   0   0   0   0   0   0   0   0   0   0\n",
      "    0   0   0   0   0   0   0   0   0   0]]\n"
     ]
    }
   ],
   "source": [
    "path_to_data = os.environ.get(\"MNIST_DATAPATH\")\n",
    "mnist_files = os.listdir(path_to_data)\n",
    "mnist_files = [x for x in mnist_files if x.endswith(\"ubyte\")]\n",
    "\n",
    "\n",
    "def convert_to_int(byte):\n",
    "    integer = int(codecs.encode(byte, 'hex'), 16)\n",
    "    return integer\n",
    "\n",
    "\n",
    "dataset = {}\n",
    "for file in mnist_files:\n",
    "    print(\"Reading\", file)\n",
    "    with open(path_to_data + file, \"rb\") as f:\n",
    "        data = f.read()\n",
    "        type_of_data = convert_to_int(data[:4])\n",
    "        length = convert_to_int(data[4:8])\n",
    "        if type_of_data == 2051:\n",
    "            category = \"images\"\n",
    "            number_of_rows = convert_to_int(data[8:12])\n",
    "            number_of_columns = convert_to_int(data[12:16])\n",
    "            parsed = np.frombuffer(data, dtype=np.uint8, offset=16)\n",
    "            parsed = parsed.reshape(length, number_of_rows, number_of_columns)\n",
    "        if type_of_data == 2049:\n",
    "            category = \"labels\"\n",
    "            parsed = np.frombuffer(data, dtype=np.uint8, offset=8)\n",
    "            parsed = parsed.reshape(length)\n",
    "        if length == 60000:\n",
    "            set = \"train\"\n",
    "        if length == 10000:\n",
    "            set = \"test\"\n",
    "        dataset[set + '_' + category] = parsed\n",
    "\n",
    "print(dataset[\"train_images\"][0, :, :])"
   ]
  },
  {
   "cell_type": "code",
   "execution_count": 3,
   "metadata": {},
   "outputs": [],
   "source": [
    "train_images = dataset['train_images']\n",
    "train_labels = dataset['train_labels']\n",
    "train_images_flattened = train_images.reshape(60000, -1)\n",
    "train_images_flattened = train_images_flattened / 255\n",
    "\n",
    "test_images = dataset['test_images']\n",
    "test_labels = dataset['test_labels']\n",
    "test_images_flattened = test_images.reshape(10000, -1)\n",
    "test_images_flattened = test_images_flattened / 255"
   ]
  },
  {
   "cell_type": "markdown",
   "metadata": {},
   "source": [
    "## PCA self implementation"
   ]
  },
  {
   "cell_type": "code",
   "execution_count": 4,
   "metadata": {},
   "outputs": [],
   "source": [
    "def self_implemented_pca(original_data, d) -> tuple:\n",
    "    covariance_matrix = np.cov(original_data, rowvar=False)\n",
    "\n",
    "    eigenvalues, eigenvectors = np.linalg.eigh(covariance_matrix)\n",
    "\n",
    "    sorted_indices = np.argsort(eigenvalues)[::-1]  # Descending order\n",
    "    top_eigenvectors = eigenvectors[:, sorted_indices[:d]]\n",
    "\n",
    "    pca = np.dot(original_data, top_eigenvectors)\n",
    "\n",
    "    return pca, top_eigenvectors"
   ]
  },
  {
   "cell_type": "code",
   "execution_count": 5,
   "metadata": {},
   "outputs": [
    {
     "name": "stdout",
     "output_type": "stream",
     "text": [
      "Original shape: (60000, 784), PCA (D=5) shape: (60000, 5), PCA (D=20) shape: (60000, 20)\n"
     ]
    }
   ],
   "source": [
    "mnist_train_d5, eigen_vectors_d5 = self_implemented_pca(train_images_flattened, 5)\n",
    "mnist_test_d5 = np.dot(test_images_flattened, eigen_vectors_d5)\n",
    "\n",
    "mnist_train_d20, eigen_vectors_d20 = self_implemented_pca(train_images_flattened, 20)\n",
    "mnist_test_d20 = np.dot(test_images_flattened, eigen_vectors_d20)\n",
    "\n",
    "print(f\"Original shape: {train_images_flattened.shape}, PCA (D=5) shape: {mnist_train_d5.shape}, PCA (D=20) shape: {mnist_train_d20.shape}\")"
   ]
  },
  {
   "cell_type": "markdown",
   "metadata": {},
   "source": [
    "### L2 regularized Logistic regression"
   ]
  },
  {
   "cell_type": "code",
   "execution_count": 6,
   "metadata": {},
   "outputs": [
    {
     "name": "stderr",
     "output_type": "stream",
     "text": [
      "/Users/ajeyk/neu_uml_workspace/chatbot_env/lib/python3.9/site-packages/sklearn/linear_model/_logistic.py:1247: FutureWarning: 'multi_class' was deprecated in version 1.5 and will be removed in 1.7. From then on, it will always use 'multinomial'. Leave it to its default value to avoid this warning.\n",
      "  warnings.warn(\n"
     ]
    },
    {
     "name": "stdout",
     "output_type": "stream",
     "text": [
      "Logistic Regression Accuracy with PCA (D=5): 0.6873\n"
     ]
    },
    {
     "name": "stderr",
     "output_type": "stream",
     "text": [
      "/Users/ajeyk/neu_uml_workspace/chatbot_env/lib/python3.9/site-packages/sklearn/linear_model/_logistic.py:1247: FutureWarning: 'multi_class' was deprecated in version 1.5 and will be removed in 1.7. From then on, it will always use 'multinomial'. Leave it to its default value to avoid this warning.\n",
      "  warnings.warn(\n"
     ]
    },
    {
     "name": "stdout",
     "output_type": "stream",
     "text": [
      "Logistic Regression Accuracy with PCA (D=20): 0.8803\n"
     ]
    }
   ],
   "source": [
    "log_reg_pca5 = LogisticRegression(penalty=\"l2\", solver=\"lbfgs\", max_iter=1000, multi_class='multinomial')\n",
    "log_reg_pca5.fit(mnist_train_d5, train_labels)\n",
    "y_pred_pca5 = log_reg_pca5.predict(mnist_test_d5)\n",
    "\n",
    "acc_pca5 = accuracy_score(test_labels, y_pred_pca5)\n",
    "print(f'Logistic Regression Accuracy with PCA (D=5): {acc_pca5:.4f}')\n",
    "\n",
    "log_reg_pca20 = LogisticRegression(penalty=\"l2\", solver=\"lbfgs\", max_iter=1000, multi_class='multinomial')\n",
    "log_reg_pca20.fit(mnist_train_d20, train_labels)\n",
    "y_pred_pca20 = log_reg_pca20.predict(mnist_test_d20)\n",
    "\n",
    "acc_pca20 = accuracy_score(test_labels, y_pred_pca20)\n",
    "print(f'Logistic Regression Accuracy with PCA (D=20): {acc_pca20:.4f}')"
   ]
  },
  {
   "cell_type": "markdown",
   "metadata": {},
   "source": [
    "### Decision tree"
   ]
  },
  {
   "cell_type": "code",
   "execution_count": 7,
   "metadata": {},
   "outputs": [
    {
     "name": "stdout",
     "output_type": "stream",
     "text": [
      "Decision Tree Accuracy with PCA (D=5): 0.6957\n",
      "Decision Tree Accuracy with PCA (D=20): 0.7954\n"
     ]
    }
   ],
   "source": [
    "dt_pca5 = DecisionTreeClassifier(max_depth=10, random_state=42)\n",
    "dt_pca5.fit(mnist_train_d5, train_labels)\n",
    "y_pred_dt_pca5 = dt_pca5.predict(mnist_test_d5)\n",
    "\n",
    "acc_dt_pca5 = accuracy_score(test_labels, y_pred_dt_pca5)\n",
    "print(f'Decision Tree Accuracy with PCA (D=5): {acc_dt_pca5:.4f}')\n",
    "\n",
    "dt_pca20 = DecisionTreeClassifier(max_depth=10, random_state=42)\n",
    "dt_pca20.fit(mnist_train_d20, train_labels)\n",
    "y_pred_dt_pca20 = dt_pca20.predict(mnist_test_d20)\n",
    "\n",
    "acc_dt_pca20 = accuracy_score(test_labels, y_pred_dt_pca20)\n",
    "print(f'Decision Tree Accuracy with PCA (D=20): {acc_dt_pca20:.4f}')"
   ]
  },
  {
   "cell_type": "code",
   "execution_count": 8,
   "metadata": {},
   "outputs": [
    {
     "name": "stdout",
     "output_type": "stream",
     "text": [
      "Logistic Regression Accuracy with PCA (D=5): 0.6873\n",
      "Logistic Regression Accuracy with PCA (D=20): 0.8803\n",
      "Decision Tree Accuracy with PCA (D=5): 0.6957\n",
      "Decision Tree Accuracy with PCA (D=20): 0.7954\n"
     ]
    }
   ],
   "source": [
    "print(f'Logistic Regression Accuracy with PCA (D=5): {acc_pca5:.4f}')\n",
    "print(f'Logistic Regression Accuracy with PCA (D=20): {acc_pca20:.4f}')\n",
    "print(f'Decision Tree Accuracy with PCA (D=5): {acc_dt_pca5:.4f}')\n",
    "print(f'Decision Tree Accuracy with PCA (D=20): {acc_dt_pca20:.4f}')"
   ]
  },
  {
   "cell_type": "markdown",
   "metadata": {},
   "source": [
    "#### Original scores:\n",
    "Logistic Regression Accuracy with PCA (D=5): 0.6800\n",
    "Logistic Regression Accuracy with PCA (D=20): 0.8721\n",
    "Decision Tree Accuracy with PCA (D=5): 0.6943\n",
    "Decision Tree Accuracy with PCA (D=20): 0.8027"
   ]
  }
 ],
 "metadata": {
  "kernelspec": {
   "display_name": "chatbot_env",
   "language": "python",
   "name": "python3"
  },
  "language_info": {
   "codemirror_mode": {
    "name": "ipython",
    "version": 3
   },
   "file_extension": ".py",
   "mimetype": "text/x-python",
   "name": "python",
   "nbconvert_exporter": "python",
   "pygments_lexer": "ipython3",
   "version": "3.9.6"
  }
 },
 "nbformat": 4,
 "nbformat_minor": 2
}
